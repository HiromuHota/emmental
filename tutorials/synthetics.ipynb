{
 "cells": [
  {
   "cell_type": "code",
   "execution_count": 1,
   "metadata": {},
   "outputs": [],
   "source": [
    "%load_ext autoreload\n",
    "%autoreload 2\n",
    "%matplotlib inline"
   ]
  },
  {
   "cell_type": "code",
   "execution_count": 2,
   "metadata": {},
   "outputs": [],
   "source": [
    "import matplotlib.pyplot as plt\n",
    "import numpy as np\n",
    "import torch\n",
    "import torch.nn.functional as F\n",
    "from torch import nn\n",
    "\n",
    "from emmental.data import EmmentalDataLoader, EmmentalDataset\n",
    "from emmental.emmental_model import EmmentalModel\n",
    "from emmental.learner import EmmentalLearner\n",
    "from emmental.task import Task\n",
    "from emmental.scorer import Scorer"
   ]
  },
  {
   "cell_type": "markdown",
   "metadata": {},
   "source": [
    "### Generate data"
   ]
  },
  {
   "cell_type": "code",
   "execution_count": 3,
   "metadata": {},
   "outputs": [],
   "source": [
    "N = 200\n",
    "X = np.random.random((N, 2)) * 2 - 1\n",
    "Y = (X[:, 0] > X[:, 1] + 0.25).astype(int) + 1"
   ]
  },
  {
   "cell_type": "code",
   "execution_count": 4,
   "metadata": {},
   "outputs": [],
   "source": [
    "# categorical labels: \n",
    "Y1_mask = Y == 1\n",
    "Y2_mask = Y == 2"
   ]
  },
  {
   "cell_type": "code",
   "execution_count": 5,
   "metadata": {},
   "outputs": [
    {
     "data": {
      "image/png": "[encoded data removed]",
      "text/plain": [
       "<Figure size 432x288 with 1 Axes>"
      ]
     },
     "metadata": {
      "needs_background": "light"
     },
     "output_type": "display_data"
    }
   ],
   "source": [
    "plt.scatter(X[Y1_mask, 0], X[Y1_mask, 1])\n",
    "plt.scatter(X[Y2_mask, 0], X[Y2_mask, 1])\n",
    "plt.show()"
   ]
  },
  {
   "cell_type": "markdown",
   "metadata": {},
   "source": [
    "### Create tasks"
   ]
  },
  {
   "cell_type": "code",
   "execution_count": 6,
   "metadata": {},
   "outputs": [],
   "source": [
    "def mse_loss(immediate_ouput, Y):\n",
    "    mse = nn.MSELoss()\n",
    "    return mse(immediate_ouput[-1][0].view(-1), Y.view(-1))"
   ]
  },
  {
   "cell_type": "code",
   "execution_count": 7,
   "metadata": {},
   "outputs": [],
   "source": [
    "def ce_loss(immediate_ouput, Y):\n",
    "#     F.cross_entropy(X[\"data\"], Y.view(-1) - 1))\n",
    "#     ce = nn.BCELoss()\n",
    "#     print(immediate_ouput[-1][0].size(), Y.size())\n",
    "    return F.cross_entropy(immediate_ouput[-1][0], Y.view(-1) - 1)"
   ]
  },
  {
   "cell_type": "code",
   "execution_count": 8,
   "metadata": {},
   "outputs": [],
   "source": [
    "def output(immediate_ouput):\n",
    "    return immediate_ouput[-1][0]"
   ]
  },
  {
   "cell_type": "code",
   "execution_count": 9,
   "metadata": {},
   "outputs": [],
   "source": [
    "task1 = Task(\n",
    "    name=\"task1\",\n",
    "    module_pool=nn.ModuleDict(\n",
    "        {\n",
    "            \"input_module\": nn.Linear(2, 8),\n",
    "            \"middle_module\": nn.Linear(8, 8),\n",
    "            \"head_module1\": nn.Linear(8, 2),\n",
    "        }\n",
    "    ),\n",
    "    task_flow=[\n",
    "        {\"module\": \"input_module\", \"inputs\": [(0, 0)]},\n",
    "        {\"module\": \"middle_module\", \"inputs\": [(1, 0)]},\n",
    "        {\"module\": \"head_module1\", \"inputs\": [(2, 0)]},\n",
    "    ],\n",
    "    loss_func=ce_loss,\n",
    "    output_func=output,\n",
    "    scorer=Scorer(metrics=['f1', 'accuracy']),\n",
    ")"
   ]
  },
  {
   "cell_type": "code",
   "execution_count": 10,
   "metadata": {},
   "outputs": [],
   "source": [
    "task2 = Task(\n",
    "    name=\"task2\",\n",
    "    module_pool=nn.ModuleDict(\n",
    "        {\n",
    "            \"input_module\": nn.Linear(2, 8),\n",
    "            \"middle_module\": nn.Linear(8, 8),\n",
    "            \"head_module2\": nn.Linear(8, 2),\n",
    "        }\n",
    "    ),\n",
    "    task_flow=[\n",
    "        {\"module\": \"input_module\", \"inputs\": [(0, 0)]},\n",
    "        {\"module\": \"middle_module\", \"inputs\": [(1, 0)]},\n",
    "        {\"module\": \"head_module2\", \"inputs\": [(2, 0)]},\n",
    "    ],\n",
    "    loss_func=ce_loss,\n",
    "    output_func=output,\n",
    "    scorer=Scorer(metrics=['f1', 'accuracy']),\n",
    ")"
   ]
  },
  {
   "cell_type": "code",
   "execution_count": 11,
   "metadata": {},
   "outputs": [],
   "source": [
    "mtl_model = EmmentalModel(name = 'all', tasks=[task1, task2])"
   ]
  },
  {
   "cell_type": "markdown",
   "metadata": {},
   "source": [
    "### Generate dataloader"
   ]
  },
  {
   "cell_type": "code",
   "execution_count": 12,
   "metadata": {},
   "outputs": [],
   "source": [
    "splits = [0.8, 0.1, 0.1]\n",
    "\n",
    "X_train, X_dev, X_test = [], [], []\n",
    "Y_train, Y_dev, Y_test = [], [], []\n",
    "\n",
    "for i in range(N):\n",
    "    if i <= N * splits[0]:\n",
    "        X_train.append(torch.Tensor(X[i]))\n",
    "        Y_train.append(torch.Tensor([Y[i]]).type(torch.LongTensor))\n",
    "    elif i < N * (splits[0] + splits[1]):\n",
    "        X_dev.append(torch.Tensor(X[i]))\n",
    "        Y_dev.append(torch.Tensor([Y[i]]).type(torch.LongTensor))\n",
    "    else:\n",
    "        X_test.append(torch.Tensor(X[i]))\n",
    "        Y_test.append(torch.Tensor([Y[i]]).type(torch.LongTensor))"
   ]
  },
  {
   "cell_type": "code",
   "execution_count": 13,
   "metadata": {},
   "outputs": [],
   "source": [
    "train_dataset = EmmentalDataset({\"data\": X_train}, {\"label\": Y_train})\n",
    "dev_dataset = EmmentalDataset({\"data\": X_dev}, {\"label\": Y_dev})\n",
    "test_dataset = EmmentalDataset({\"data\": X_test}, {\"label\": Y_test})"
   ]
  },
  {
   "cell_type": "code",
   "execution_count": 14,
   "metadata": {},
   "outputs": [],
   "source": [
    "train_dataloader1 = EmmentalDataLoader(\n",
    "    task_name=\"task1\", dataset=train_dataset, label_name=\"label\", split=\"train\", batch_size=10\n",
    ")\n",
    "dev_dataloader1 = EmmentalDataLoader(\n",
    "    task_name=\"task1\", dataset=dev_dataset, label_name=\"label\", split=\"dev\", batch_size=10\n",
    ")\n",
    "test_dataloader1 = EmmentalDataLoader(\n",
    "    task_name=\"task1\", dataset=test_dataset, label_name=\"label\", split=\"test\", batch_size=10\n",
    ")"
   ]
  },
  {
   "cell_type": "code",
   "execution_count": 15,
   "metadata": {},
   "outputs": [],
   "source": [
    "train_dataloader2 = EmmentalDataLoader(\n",
    "    task_name=\"task2\", dataset=train_dataset, label_name=\"label\", split=\"train\", batch_size=20\n",
    ")\n",
    "dev_dataloader2 = EmmentalDataLoader(\n",
    "    task_name=\"task2\", dataset=dev_dataset, label_name=\"label\", split=\"dev\", batch_size=10\n",
    ")\n",
    "test_dataloader2 = EmmentalDataLoader(\n",
    "    task_name=\"task2\", dataset=test_dataset, label_name=\"label\", split=\"test\", batch_size=10\n",
    ")"
   ]
  },
  {
   "cell_type": "markdown",
   "metadata": {},
   "source": [
    "### Load config"
   ]
  },
  {
   "cell_type": "code",
   "execution_count": 16,
   "metadata": {},
   "outputs": [],
   "source": [
    "from emmental.utils.config import load_config"
   ]
  },
  {
   "cell_type": "code",
   "execution_count": 17,
   "metadata": {},
   "outputs": [],
   "source": [
    "config = load_config()"
   ]
  },
  {
   "cell_type": "code",
   "execution_count": 18,
   "metadata": {},
   "outputs": [
    {
     "data": {
      "text/plain": [
       "{'model_config': {'seed': None,\n",
       "  'verbose': True,\n",
       "  'device': 'cpu',\n",
       "  'fp16': False,\n",
       "  'model_path': None},\n",
       " 'learner_config': {'seed': None,\n",
       "  'verbose': True,\n",
       "  'progress_bar': True,\n",
       "  'n_epochs': 1,\n",
       "  'optimizer_config': {'optimizer': 'adam',\n",
       "   'lr': 0.001,\n",
       "   'l2': 0.0,\n",
       "   'grad_clip': 1.0,\n",
       "   'sgd_config': {'momentum': 0.9},\n",
       "   'adam_config': {'betas': (0.9, 0.999)}},\n",
       "  'lr_scheduler_config': {'lr_scheduler': None},\n",
       "  'task_scheduler': 'sequential'},\n",
       " 'evaluation_config': None,\n",
       " 'logging_config': {'counter_unit': 'epoch',\n",
       "  'evaluation_freq': 1.0,\n",
       "  'checkpointing_freq': 2},\n",
       " 'writer_config': {'writer': 'tensorboard', 'verbose': True}}"
      ]
     },
     "execution_count": 18,
     "metadata": {},
     "output_type": "execute_result"
    }
   ],
   "source": [
    "config"
   ]
  },
  {
   "cell_type": "code",
   "execution_count": 19,
   "metadata": {},
   "outputs": [],
   "source": [
    "emmental_learner = EmmentalLearner(config)"
   ]
  },
  {
   "cell_type": "code",
   "execution_count": 20,
   "metadata": {},
   "outputs": [],
   "source": [
    "new_config = {\"learner_config\": {\"n_epochs\": 10, \"optimizer_config\": {\"lr\": 0.01}}}"
   ]
  },
  {
   "cell_type": "code",
   "execution_count": 21,
   "metadata": {
    "scrolled": true
   },
   "outputs": [
    {
     "name": "stdout",
     "output_type": "stream",
     "text": [
      "26\n"
     ]
    },
    {
     "data": {
      "application/vnd.jupyter.widget-view+json": {
       "model_id": "9867b80753b8434bbf9699e2ef9df432",
       "version_major": 2,
       "version_minor": 0
      },
      "text/plain": [
       "HBox(children=(IntProgress(value=0, max=26), HTML(value='')))"
      ]
     },
     "metadata": {},
     "output_type": "display_data"
    },
    {
     "name": "stdout",
     "output_type": "stream",
     "text": [
      "\n"
     ]
    },
    {
     "data": {
      "application/vnd.jupyter.widget-view+json": {
       "model_id": "dd3addbe10de4c0db02091b2e5bd3aac",
       "version_major": 2,
       "version_minor": 0
      },
      "text/plain": [
       "HBox(children=(IntProgress(value=0, max=26), HTML(value='')))"
      ]
     },
     "metadata": {},
     "output_type": "display_data"
    },
    {
     "name": "stdout",
     "output_type": "stream",
     "text": [
      "\n"
     ]
    },
    {
     "data": {
      "application/vnd.jupyter.widget-view+json": {
       "model_id": "f655f6f631ee4756b76705b4fa6829b1",
       "version_major": 2,
       "version_minor": 0
      },
      "text/plain": [
       "HBox(children=(IntProgress(value=0, max=26), HTML(value='')))"
      ]
     },
     "metadata": {},
     "output_type": "display_data"
    },
    {
     "name": "stdout",
     "output_type": "stream",
     "text": [
      "\n"
     ]
    },
    {
     "data": {
      "application/vnd.jupyter.widget-view+json": {
       "model_id": "6a5563e5567441a7b49d3042ad899a7c",
       "version_major": 2,
       "version_minor": 0
      },
      "text/plain": [
       "HBox(children=(IntProgress(value=0, max=26), HTML(value='')))"
      ]
     },
     "metadata": {},
     "output_type": "display_data"
    },
    {
     "name": "stdout",
     "output_type": "stream",
     "text": [
      "\n"
     ]
    },
    {
     "data": {
      "application/vnd.jupyter.widget-view+json": {
       "model_id": "6917d83c138e4e97b3c52e4368fa2e63",
       "version_major": 2,
       "version_minor": 0
      },
      "text/plain": [
       "HBox(children=(IntProgress(value=0, max=26), HTML(value='')))"
      ]
     },
     "metadata": {},
     "output_type": "display_data"
    },
    {
     "name": "stdout",
     "output_type": "stream",
     "text": [
      "\n"
     ]
    },
    {
     "data": {
      "application/vnd.jupyter.widget-view+json": {
       "model_id": "ed7d761c296f47be916683e4a0a5b162",
       "version_major": 2,
       "version_minor": 0
      },
      "text/plain": [
       "HBox(children=(IntProgress(value=0, max=26), HTML(value='')))"
      ]
     },
     "metadata": {},
     "output_type": "display_data"
    },
    {
     "name": "stdout",
     "output_type": "stream",
     "text": [
      "\n"
     ]
    },
    {
     "data": {
      "application/vnd.jupyter.widget-view+json": {
       "model_id": "a0619f0fb89b4beea199313c25a30d8d",
       "version_major": 2,
       "version_minor": 0
      },
      "text/plain": [
       "HBox(children=(IntProgress(value=0, max=26), HTML(value='')))"
      ]
     },
     "metadata": {},
     "output_type": "display_data"
    },
    {
     "name": "stdout",
     "output_type": "stream",
     "text": [
      "\n"
     ]
    },
    {
     "data": {
      "application/vnd.jupyter.widget-view+json": {
       "model_id": "8a8a3c731d69404499574cb741454090",
       "version_major": 2,
       "version_minor": 0
      },
      "text/plain": [
       "HBox(children=(IntProgress(value=0, max=26), HTML(value='')))"
      ]
     },
     "metadata": {},
     "output_type": "display_data"
    },
    {
     "name": "stdout",
     "output_type": "stream",
     "text": [
      "\n"
     ]
    },
    {
     "data": {
      "application/vnd.jupyter.widget-view+json": {
       "model_id": "236922dbf2294ad196585e35ffdc8259",
       "version_major": 2,
       "version_minor": 0
      },
      "text/plain": [
       "HBox(children=(IntProgress(value=0, max=26), HTML(value='')))"
      ]
     },
     "metadata": {},
     "output_type": "display_data"
    },
    {
     "name": "stdout",
     "output_type": "stream",
     "text": [
      "\n"
     ]
    },
    {
     "data": {
      "application/vnd.jupyter.widget-view+json": {
       "model_id": "84ddb7da97594c6cbad85681e38d9bb7",
       "version_major": 2,
       "version_minor": 0
      },
      "text/plain": [
       "HBox(children=(IntProgress(value=0, max=26), HTML(value='')))"
      ]
     },
     "metadata": {},
     "output_type": "display_data"
    },
    {
     "name": "stdout",
     "output_type": "stream",
     "text": [
      "\n"
     ]
    }
   ],
   "source": [
    "emmental_learner.learn(mtl_model, [train_dataloader1, train_dataloader2], config=new_config)"
   ]
  },
  {
   "cell_type": "code",
   "execution_count": 22,
   "metadata": {},
   "outputs": [
    {
     "name": "stdout",
     "output_type": "stream",
     "text": [
      "{'task1': array([[-21.744125  ,  23.034397  ],\n",
      "       [ -3.1795754 ,   3.577471  ],\n",
      "       [ -2.3887877 ,   2.6670432 ],\n",
      "       [ 18.438562  , -19.172546  ],\n",
      "       [-20.622873  ,  21.871748  ],\n",
      "       [ -0.18276891,   0.4235943 ],\n",
      "       [  2.9196877 ,  -2.9518363 ],\n",
      "       [  4.019833  ,  -3.8846908 ],\n",
      "       [ -9.240219  ,   9.910666  ],\n",
      "       [ 17.133152  , -17.770432  ]], dtype=float32)} (10, 2)\n",
      "{'task1': array([[ 12.988828 , -13.500658 ],\n",
      "       [  6.236395 ,  -6.2360997],\n",
      "       [ 10.609804 , -10.909789 ],\n",
      "       [ 14.076684 , -14.615502 ],\n",
      "       [  7.097912 ,  -7.2670617],\n",
      "       [  1.7134895,  -1.6206512],\n",
      "       [ -3.1940088,   3.6779704],\n",
      "       [ -5.2280045,   5.5999036],\n",
      "       [  3.9388595,  -3.9108958],\n",
      "       [ -9.749546 ,  10.464793 ]], dtype=float32)} (10, 2)\n",
      "{'task1': array([[ 16.017597 , -16.621151 ],\n",
      "       [ -4.5888286,   5.1027966],\n",
      "       [ 11.629525 , -11.914684 ],\n",
      "       [ -0.3628737,   0.6907188],\n",
      "       [ 18.618242 , -19.274439 ],\n",
      "       [ -6.576588 ,   7.051375 ],\n",
      "       [ 11.76177  , -11.99724  ],\n",
      "       [ -1.482827 ,   1.7011044],\n",
      "       [  1.3379805,  -1.2642089],\n",
      "       [-10.550329 ,  11.310599 ]], dtype=float32)} (10, 2)\n",
      "{'task1': array([[  5.3099446,  -5.360543 ],\n",
      "       [  8.344094 ,  -8.492531 ],\n",
      "       [-14.154282 ,  15.122691 ],\n",
      "       [ -7.076241 ,   7.726839 ],\n",
      "       [ -9.108896 ,   9.742826 ],\n",
      "       [  4.065478 ,  -4.0792475],\n",
      "       [ -8.130911 ,   8.755333 ],\n",
      "       [ 24.964151 , -26.018623 ],\n",
      "       [ 18.834    , -19.618034 ],\n",
      "       [ -4.726144 ,   5.2652392]], dtype=float32)} (10, 2)\n",
      "{'task1': array([[-13.114185 ,  13.961867 ],\n",
      "       [-16.965546 ,  18.054754 ],\n",
      "       [  2.5562918,  -2.546421 ],\n",
      "       [  6.89382  ,  -6.9418993],\n",
      "       [ 23.5132   , -24.461836 ],\n",
      "       [ 21.507195 , -22.352558 ],\n",
      "       [-18.008125 ,  19.142376 ],\n",
      "       [-14.441721 ,  15.387528 ],\n",
      "       [ 28.789944 , -29.968971 ],\n",
      "       [  6.31503  ,  -6.2895627]], dtype=float32)} (10, 2)\n",
      "{'task1': array([[ 20.932058  , -21.784986  ],\n",
      "       [  0.29854035,  -0.06797135],\n",
      "       [ 23.73878   , -24.657394  ],\n",
      "       [ 18.103544  , -18.704597  ],\n",
      "       [  7.009337  ,  -6.992302  ],\n",
      "       [  4.8869076 ,  -4.8460746 ],\n",
      "       [ -9.804913  ,  10.440437  ],\n",
      "       [ 11.564702  , -11.9015665 ],\n",
      "       [  4.4213676 ,  -4.5000143 ],\n",
      "       [ -7.8619986 ,   8.450239  ]], dtype=float32)} (10, 2)\n",
      "{'task1': array([[ -1.7185788,   1.9043683],\n",
      "       [ -6.9224343,   7.515282 ],\n",
      "       [  4.7250443,  -4.7334127],\n",
      "       [  5.648506 ,  -5.7111955],\n",
      "       [  8.056043 ,  -8.228623 ],\n",
      "       [ 10.545776 , -10.844165 ],\n",
      "       [ -4.3355227,   4.8793387],\n",
      "       [-22.198416 ,  23.511242 ],\n",
      "       [ -0.8419639,   1.1119301],\n",
      "       [ 18.46094  , -19.130714 ]], dtype=float32)} (10, 2)\n",
      "{'task1': array([[ 12.079407 , -12.526592 ],\n",
      "       [ -3.6928782,   4.087646 ],\n",
      "       [ -2.0136049,   2.2973454],\n",
      "       [ -1.4647512,   1.6553061],\n",
      "       [-10.5277195,  11.200977 ],\n",
      "       [ -9.277552 ,   9.921576 ],\n",
      "       [  3.632189 ,  -3.4972708],\n",
      "       [  6.016076 ,  -6.1721277],\n",
      "       [ 10.553929 , -10.937391 ],\n",
      "       [  1.8487816,  -1.7925935]], dtype=float32)} (10, 2)\n",
      "{'task1': array([[  7.9402766,  -8.086387 ],\n",
      "       [ 32.19475  , -33.55738  ],\n",
      "       [ 17.742445 , -18.387234 ],\n",
      "       [ 18.256714 , -18.930424 ],\n",
      "       [ 19.949633 , -20.72351  ],\n",
      "       [-14.755959 ,  15.7400055],\n",
      "       [  9.595247 ,  -9.943835 ],\n",
      "       [  3.3422565,  -3.4029043],\n",
      "       [ 14.364876 , -14.9395075],\n",
      "       [  9.705499 ,  -9.957041 ]], dtype=float32)} (10, 2)\n",
      "{'task1': array([[ 11.114363 , -11.49614  ],\n",
      "       [ 16.602121 , -17.23235  ],\n",
      "       [-14.288704 ,  15.218201 ],\n",
      "       [  4.5704637,  -4.614221 ],\n",
      "       [ 13.498999 , -14.007303 ],\n",
      "       [-12.966497 ,  13.833916 ],\n",
      "       [  6.8681765,  -6.867931 ],\n",
      "       [-12.061456 ,  12.919259 ],\n",
      "       [  0.6207578,  -0.5114732],\n",
      "       [-12.9617195,  13.78833  ]], dtype=float32)} (10, 2)\n",
      "{'task1': array([[  3.1663527,  -2.9855776],\n",
      "       [ -4.2462764,   4.732466 ],\n",
      "       [ 13.649485 , -14.071798 ],\n",
      "       [-15.457451 ,  16.41517  ],\n",
      "       [  0.964947 ,  -0.6966629],\n",
      "       [ -6.0943685,   6.625979 ],\n",
      "       [  3.6346202,  -3.571432 ],\n",
      "       [ -8.192141 ,   8.873156 ],\n",
      "       [ 25.917063 , -26.96379  ],\n",
      "       [ -1.2443507,   1.5509448]], dtype=float32)} (10, 2)\n",
      "{'task1': array([[  4.9457216 ,  -4.942615  ],\n",
      "       [-21.508162  ,  22.802832  ],\n",
      "       [  4.754751  ,  -4.739598  ],\n",
      "       [ -8.026552  ,   8.615765  ],\n",
      "       [  7.0865545 ,  -7.3309097 ],\n",
      "       [  1.7053101 ,  -1.436769  ],\n",
      "       [ 17.114351  , -17.816563  ],\n",
      "       [  9.226114  ,  -9.523928  ],\n",
      "       [ -5.457657  ,   5.9187946 ],\n",
      "       [  0.12021294,   0.09961857]], dtype=float32)} (10, 2)\n",
      "{'task1': array([[  6.016219 ,  -5.9851093],\n",
      "       [  9.520861 ,  -9.902278 ],\n",
      "       [  6.194313 ,  -6.187101 ],\n",
      "       [-17.73004  ,  18.84333  ],\n",
      "       [ 31.55865  , -32.897125 ],\n",
      "       [-14.090456 ,  14.996397 ],\n",
      "       [-20.627922 ,  21.876461 ],\n",
      "       [  9.452533 ,  -9.593786 ],\n",
      "       [  5.01437  ,  -5.095307 ],\n",
      "       [  6.1993914,  -6.2829585]], dtype=float32)} (10, 2)\n",
      "{'task1': array([[  3.4739127,  -3.5516984],\n",
      "       [ 14.227191 , -14.746107 ],\n",
      "       [ 12.809808 , -13.114535 ],\n",
      "       [-17.043077 ,  18.136623 ],\n",
      "       [  7.2929344,  -7.368727 ],\n",
      "       [ 20.360088 , -21.119352 ],\n",
      "       [ 23.617907 , -24.566544 ],\n",
      "       [ 10.714422 , -10.939597 ],\n",
      "       [ 17.885996 , -18.631538 ],\n",
      "       [  9.894977 , -10.230568 ]], dtype=float32)} (10, 2)\n",
      "{'task1': array([[ -5.5215425,   5.9385076],\n",
      "       [ 19.748953 , -20.496962 ],\n",
      "       [ 11.96442  , -12.453551 ],\n",
      "       [ 22.849842 , -23.796185 ],\n",
      "       [  2.637958 ,  -2.488275 ],\n",
      "       [ 25.561708 , -26.571663 ],\n",
      "       [  2.2390857,  -2.2671096],\n",
      "       [-17.733414 ,  18.82761  ],\n",
      "       [  1.9002138,  -1.7442375],\n",
      "       [  9.509642 ,  -9.684301 ]], dtype=float32)} (10, 2)\n",
      "{'task1': array([[ 16.690813 , -17.288614 ],\n",
      "       [ 12.670616 , -13.082972 ],\n",
      "       [ 21.433926 , -22.241455 ],\n",
      "       [  8.753906 ,  -9.072101 ],\n",
      "       [ -6.99608  ,   7.6061273],\n",
      "       [ 13.495157 , -13.903547 ],\n",
      "       [ -7.8904057,   8.563285 ],\n",
      "       [ 13.368984 , -13.8352165],\n",
      "       [ -8.245251 ,   8.840476 ],\n",
      "       [  1.7198524,  -1.5963659]], dtype=float32)} (10, 2)\n",
      "{'task1': array([[ 9.19693 , -9.327327]], dtype=float32)} (1, 2)\n"
     ]
    }
   ],
   "source": [
    "for x, y in train_dataloader1:\n",
    "#     print(x, y)\n",
    "    res = mtl_model.calculate_probs(x['data'], [train_dataloader1.task_name])\n",
    "    print(res, res['task1'].shape)"
   ]
  },
  {
   "cell_type": "code",
   "execution_count": 23,
   "metadata": {},
   "outputs": [
    {
     "data": {
      "text/plain": [
       "(defaultdict(list,\n",
       "             {'task1': array([2, 2, 2, 1, 2, 2, 1, 1, 2, 1, 1, 1, 1, 1, 1, 1, 2, 2, 1, 2, 1, 2,\n",
       "                     1, 2, 1, 2, 1, 2, 1, 2, 1, 1, 2, 2, 2, 1, 2, 1, 1, 2, 2, 2, 1, 1,\n",
       "                     1, 1, 2, 2, 1, 1, 1, 2, 1, 1, 1, 1, 2, 1, 1, 2, 2, 2, 1, 1, 1, 1,\n",
       "                     2, 2, 2, 1, 1, 2, 2, 2, 2, 2, 1, 1, 1, 1, 1, 1, 1, 1, 1, 2, 1, 1,\n",
       "                     1, 1, 1, 1, 2, 1, 1, 2, 1, 2, 1, 2, 1, 2, 1, 2, 1, 2, 1, 2, 1, 2,\n",
       "                     1, 2, 1, 2, 1, 1, 1, 1, 2, 2, 1, 1, 1, 2, 1, 2, 2, 1, 1, 1, 1, 1,\n",
       "                     1, 2, 1, 1, 1, 1, 1, 1, 2, 1, 1, 1, 1, 1, 1, 2, 1, 1, 1, 1, 1, 1,\n",
       "                     2, 1, 2, 1, 2, 1, 1])}),\n",
       " defaultdict(list, {'task1': array([[-21.744125  ,  23.034397  ],\n",
       "                     [ -3.1795754 ,   3.577471  ],\n",
       "                     [ -2.3887877 ,   2.6670432 ],\n",
       "                     [ 18.438562  , -19.172546  ],\n",
       "                     [-20.622873  ,  21.871748  ],\n",
       "                     [ -0.18276891,   0.4235943 ],\n",
       "                     [  2.9196877 ,  -2.9518363 ],\n",
       "                     [  4.019833  ,  -3.8846908 ],\n",
       "                     [ -9.240219  ,   9.910666  ],\n",
       "                     [ 17.133152  , -17.770432  ],\n",
       "                     [ 12.988828  , -13.500658  ],\n",
       "                     [  6.236395  ,  -6.2360997 ],\n",
       "                     [ 10.609804  , -10.909789  ],\n",
       "                     [ 14.076684  , -14.615502  ],\n",
       "                     [  7.097912  ,  -7.2670617 ],\n",
       "                     [  1.7134895 ,  -1.6206512 ],\n",
       "                     [ -3.1940088 ,   3.6779704 ],\n",
       "                     [ -5.2280045 ,   5.5999036 ],\n",
       "                     [  3.9388595 ,  -3.9108958 ],\n",
       "                     [ -9.749546  ,  10.464793  ],\n",
       "                     [ 16.017597  , -16.621151  ],\n",
       "                     [ -4.5888286 ,   5.1027966 ],\n",
       "                     [ 11.629525  , -11.914684  ],\n",
       "                     [ -0.3628737 ,   0.6907188 ],\n",
       "                     [ 18.618242  , -19.274439  ],\n",
       "                     [ -6.576588  ,   7.051375  ],\n",
       "                     [ 11.76177   , -11.99724   ],\n",
       "                     [ -1.482827  ,   1.7011044 ],\n",
       "                     [  1.3379805 ,  -1.2642089 ],\n",
       "                     [-10.550329  ,  11.310599  ],\n",
       "                     [  5.3099446 ,  -5.360543  ],\n",
       "                     [  8.344094  ,  -8.492531  ],\n",
       "                     [-14.154282  ,  15.122691  ],\n",
       "                     [ -7.076241  ,   7.726839  ],\n",
       "                     [ -9.108896  ,   9.742826  ],\n",
       "                     [  4.065478  ,  -4.0792475 ],\n",
       "                     [ -8.130911  ,   8.755333  ],\n",
       "                     [ 24.964151  , -26.018623  ],\n",
       "                     [ 18.834     , -19.618034  ],\n",
       "                     [ -4.726144  ,   5.2652392 ],\n",
       "                     [-13.114185  ,  13.961867  ],\n",
       "                     [-16.965546  ,  18.054754  ],\n",
       "                     [  2.5562918 ,  -2.546421  ],\n",
       "                     [  6.89382   ,  -6.9418993 ],\n",
       "                     [ 23.5132    , -24.461836  ],\n",
       "                     [ 21.507195  , -22.352558  ],\n",
       "                     [-18.008125  ,  19.142376  ],\n",
       "                     [-14.441721  ,  15.387528  ],\n",
       "                     [ 28.789944  , -29.968971  ],\n",
       "                     [  6.31503   ,  -6.2895627 ],\n",
       "                     [ 20.932058  , -21.784986  ],\n",
       "                     [  0.29854035,  -0.06797135],\n",
       "                     [ 23.73878   , -24.657394  ],\n",
       "                     [ 18.103544  , -18.704597  ],\n",
       "                     [  7.009337  ,  -6.992302  ],\n",
       "                     [  4.8869076 ,  -4.8460746 ],\n",
       "                     [ -9.804913  ,  10.440437  ],\n",
       "                     [ 11.564702  , -11.9015665 ],\n",
       "                     [  4.4213676 ,  -4.5000143 ],\n",
       "                     [ -7.8619986 ,   8.450239  ],\n",
       "                     [ -1.7185788 ,   1.9043683 ],\n",
       "                     [ -6.9224343 ,   7.515282  ],\n",
       "                     [  4.7250443 ,  -4.7334127 ],\n",
       "                     [  5.648506  ,  -5.7111955 ],\n",
       "                     [  8.056043  ,  -8.228623  ],\n",
       "                     [ 10.545776  , -10.844165  ],\n",
       "                     [ -4.3355227 ,   4.8793387 ],\n",
       "                     [-22.198416  ,  23.511242  ],\n",
       "                     [ -0.8419639 ,   1.1119301 ],\n",
       "                     [ 18.46094   , -19.130714  ],\n",
       "                     [ 12.079407  , -12.526592  ],\n",
       "                     [ -3.6928782 ,   4.087646  ],\n",
       "                     [ -2.0136049 ,   2.2973454 ],\n",
       "                     [ -1.4647512 ,   1.6553061 ],\n",
       "                     [-10.5277195 ,  11.200977  ],\n",
       "                     [ -9.277552  ,   9.921576  ],\n",
       "                     [  3.632189  ,  -3.4972708 ],\n",
       "                     [  6.016076  ,  -6.1721277 ],\n",
       "                     [ 10.553929  , -10.937391  ],\n",
       "                     [  1.8487816 ,  -1.7925935 ],\n",
       "                     [  7.9402766 ,  -8.086387  ],\n",
       "                     [ 32.19475   , -33.55738   ],\n",
       "                     [ 17.742445  , -18.387234  ],\n",
       "                     [ 18.256714  , -18.930424  ],\n",
       "                     [ 19.949633  , -20.72351   ],\n",
       "                     [-14.755959  ,  15.7400055 ],\n",
       "                     [  9.595247  ,  -9.943835  ],\n",
       "                     [  3.3422565 ,  -3.4029043 ],\n",
       "                     [ 14.364876  , -14.9395075 ],\n",
       "                     [  9.705499  ,  -9.957041  ],\n",
       "                     [ 11.114363  , -11.49614   ],\n",
       "                     [ 16.602121  , -17.23235   ],\n",
       "                     [-14.288704  ,  15.218201  ],\n",
       "                     [  4.5704637 ,  -4.614221  ],\n",
       "                     [ 13.498999  , -14.007303  ],\n",
       "                     [-12.966497  ,  13.833916  ],\n",
       "                     [  6.8681765 ,  -6.867931  ],\n",
       "                     [-12.061456  ,  12.919259  ],\n",
       "                     [  0.6207578 ,  -0.5114732 ],\n",
       "                     [-12.9617195 ,  13.78833   ],\n",
       "                     [  3.1663527 ,  -2.9855776 ],\n",
       "                     [ -4.2462764 ,   4.732466  ],\n",
       "                     [ 13.649485  , -14.071798  ],\n",
       "                     [-15.457451  ,  16.41517   ],\n",
       "                     [  0.964947  ,  -0.6966629 ],\n",
       "                     [ -6.0943685 ,   6.625979  ],\n",
       "                     [  3.6346202 ,  -3.571432  ],\n",
       "                     [ -8.192141  ,   8.873156  ],\n",
       "                     [ 25.917063  , -26.96379   ],\n",
       "                     [ -1.2443507 ,   1.5509448 ],\n",
       "                     [  4.9457216 ,  -4.942615  ],\n",
       "                     [-21.508162  ,  22.802832  ],\n",
       "                     [  4.754751  ,  -4.739598  ],\n",
       "                     [ -8.026552  ,   8.615765  ],\n",
       "                     [  7.0865545 ,  -7.3309097 ],\n",
       "                     [  1.7053101 ,  -1.436769  ],\n",
       "                     [ 17.114351  , -17.816563  ],\n",
       "                     [  9.226114  ,  -9.523928  ],\n",
       "                     [ -5.457657  ,   5.9187946 ],\n",
       "                     [  0.12021294,   0.09961857],\n",
       "                     [  6.016219  ,  -5.9851093 ],\n",
       "                     [  9.520861  ,  -9.902278  ],\n",
       "                     [  6.194313  ,  -6.187101  ],\n",
       "                     [-17.73004   ,  18.84333   ],\n",
       "                     [ 31.55865   , -32.897125  ],\n",
       "                     [-14.090456  ,  14.996397  ],\n",
       "                     [-20.627922  ,  21.876461  ],\n",
       "                     [  9.452533  ,  -9.593786  ],\n",
       "                     [  5.01437   ,  -5.095307  ],\n",
       "                     [  6.1993914 ,  -6.2829585 ],\n",
       "                     [  3.4739127 ,  -3.5516984 ],\n",
       "                     [ 14.227191  , -14.746107  ],\n",
       "                     [ 12.809808  , -13.114535  ],\n",
       "                     [-17.043077  ,  18.136623  ],\n",
       "                     [  7.2929344 ,  -7.368727  ],\n",
       "                     [ 20.360088  , -21.119352  ],\n",
       "                     [ 23.617907  , -24.566544  ],\n",
       "                     [ 10.714422  , -10.939597  ],\n",
       "                     [ 17.885996  , -18.631538  ],\n",
       "                     [  9.894977  , -10.230568  ],\n",
       "                     [ -5.5215425 ,   5.9385076 ],\n",
       "                     [ 19.748953  , -20.496962  ],\n",
       "                     [ 11.96442   , -12.453551  ],\n",
       "                     [ 22.849842  , -23.796185  ],\n",
       "                     [  2.637958  ,  -2.488275  ],\n",
       "                     [ 25.561708  , -26.571663  ],\n",
       "                     [  2.2390857 ,  -2.2671096 ],\n",
       "                     [-17.733414  ,  18.82761   ],\n",
       "                     [  1.9002138 ,  -1.7442375 ],\n",
       "                     [  9.509642  ,  -9.684301  ],\n",
       "                     [ 16.690813  , -17.288614  ],\n",
       "                     [ 12.670616  , -13.082972  ],\n",
       "                     [ 21.433926  , -22.241455  ],\n",
       "                     [  8.753906  ,  -9.072101  ],\n",
       "                     [ -6.99608   ,   7.6061273 ],\n",
       "                     [ 13.495157  , -13.903547  ],\n",
       "                     [ -7.8904057 ,   8.563285  ],\n",
       "                     [ 13.368984  , -13.8352165 ],\n",
       "                     [ -8.245251  ,   8.840476  ],\n",
       "                     [  1.7198524 ,  -1.5963659 ],\n",
       "                     [  9.19693   ,  -9.327327  ]], dtype=float32)}),\n",
       " defaultdict(list,\n",
       "             {'task1': array([2, 2, 2, 1, 2, 2, 1, 1, 2, 1, 1, 1, 1, 1, 1, 1, 2, 2, 1, 2, 1, 2,\n",
       "                     1, 2, 1, 2, 1, 2, 1, 2, 1, 1, 2, 2, 2, 1, 2, 1, 1, 2, 2, 2, 1, 1,\n",
       "                     1, 1, 2, 2, 1, 1, 1, 1, 1, 1, 1, 1, 2, 1, 1, 2, 2, 2, 1, 1, 1, 1,\n",
       "                     2, 2, 2, 1, 1, 2, 2, 2, 2, 2, 1, 1, 1, 1, 1, 1, 1, 1, 1, 2, 1, 1,\n",
       "                     1, 1, 1, 1, 2, 1, 1, 2, 1, 2, 1, 2, 1, 2, 1, 2, 1, 2, 1, 2, 1, 2,\n",
       "                     1, 2, 1, 2, 1, 1, 1, 1, 2, 1, 1, 1, 1, 2, 1, 2, 2, 1, 1, 1, 1, 1,\n",
       "                     1, 2, 1, 1, 1, 1, 1, 1, 2, 1, 1, 1, 1, 1, 1, 2, 1, 1, 1, 1, 1, 1,\n",
       "                     2, 1, 2, 1, 2, 1, 1])}))"
      ]
     },
     "execution_count": 23,
     "metadata": {},
     "output_type": "execute_result"
    }
   ],
   "source": [
    "mtl_model.predict(train_dataloader1, return_preds=True)"
   ]
  },
  {
   "cell_type": "code",
   "execution_count": 25,
   "metadata": {},
   "outputs": [
    {
     "data": {
      "text/plain": [
       "{'f1': 0.9902912621359222, 'accuracy': 0.9875776397515528}"
      ]
     },
     "execution_count": 25,
     "metadata": {},
     "output_type": "execute_result"
    }
   ],
   "source": [
    "mtl_model.score(train_dataloader1)"
   ]
  },
  {
   "cell_type": "code",
   "execution_count": null,
   "metadata": {},
   "outputs": [],
   "source": [
    "a = np.array([1,0,1,0,1,0])\n",
    "b = np.array([1,1,1,1,1,0])"
   ]
  },
  {
   "cell_type": "code",
   "execution_count": null,
   "metadata": {},
   "outputs": [],
   "source": [
    "from emmental.metrics.accuracy import accuracy_scorer\n",
    "from emmental.metrics.fbeta import f1_scorer, fbeta_scorer\n",
    "from emmental.metrics.precision import precision_scorer\n",
    "from emmental.metrics.recall import recall_scorer"
   ]
  },
  {
   "cell_type": "code",
   "execution_count": null,
   "metadata": {},
   "outputs": [],
   "source": [
    "accuracy_scorer(a, b, b)"
   ]
  },
  {
   "cell_type": "code",
   "execution_count": null,
   "metadata": {},
   "outputs": [],
   "source": [
    "from emmental.metrics import METRICS"
   ]
  },
  {
   "cell_type": "code",
   "execution_count": null,
   "metadata": {},
   "outputs": [],
   "source": [
    "METRICS"
   ]
  },
  {
   "cell_type": "code",
   "execution_count": null,
   "metadata": {},
   "outputs": [],
   "source": [
    "METRICS[\"accuracy\"](a,b,b)"
   ]
  },
  {
   "cell_type": "code",
   "execution_count": null,
   "metadata": {},
   "outputs": [],
   "source": [
    "c = ['1', '2', '3', '4']\n",
    "d = ['1', '1', '1', '1']"
   ]
  },
  {
   "cell_type": "code",
   "execution_count": null,
   "metadata": {},
   "outputs": [],
   "source": [
    "np.where(a == b)[0]"
   ]
  },
  {
   "cell_type": "code",
   "execution_count": null,
   "metadata": {},
   "outputs": [],
   "source": [
    "np.where([a == b])"
   ]
  },
  {
   "cell_type": "code",
   "execution_count": null,
   "metadata": {},
   "outputs": [],
   "source": [
    "np.where(c == d)\n",
    "# np.where([c == d])"
   ]
  },
  {
   "cell_type": "code",
   "execution_count": null,
   "metadata": {},
   "outputs": [],
   "source": [
    "np.where(a == b)[0].shape[0]"
   ]
  },
  {
   "cell_type": "code",
   "execution_count": null,
   "metadata": {},
   "outputs": [],
   "source": [
    "2/3"
   ]
  },
  {
   "cell_type": "code",
   "execution_count": null,
   "metadata": {},
   "outputs": [],
   "source": [
    "precision_scorer(b, a, a)"
   ]
  },
  {
   "cell_type": "code",
   "execution_count": null,
   "metadata": {},
   "outputs": [],
   "source": [
    "recall_scorer(b, a, a)"
   ]
  },
  {
   "cell_type": "code",
   "execution_count": null,
   "metadata": {},
   "outputs": [],
   "source": [
    "f1_scorer(b,a,a)"
   ]
  },
  {
   "cell_type": "code",
   "execution_count": null,
   "metadata": {},
   "outputs": [],
   "source": [
    "from emmental.metrics import METRICS\n",
    "\n",
    "metrics = METRICS\n",
    "\n",
    "golds = np.array([1,0,1,0,1,0])\n",
    "preds = np.array([1,1,1,1,1,0])\n",
    "probs = np.array([0.8,0.6,0.9,0.7,0.7,0.2])\n",
    "\n",
    "res = dict()\n",
    "\n",
    "for metric_name, metric in metrics.items():\n",
    "    res.update(metric(golds, preds, probs))\n",
    "\n",
    "# res = {metric_name: metric(golds, preds, probs) for metric_name, metric in metrics.items()}"
   ]
  },
  {
   "cell_type": "code",
   "execution_count": null,
   "metadata": {},
   "outputs": [],
   "source": [
    "res"
   ]
  },
  {
   "cell_type": "code",
   "execution_count": null,
   "metadata": {},
   "outputs": [],
   "source": [
    "metrics['f1'](golds, preds, probs)"
   ]
  },
  {
   "cell_type": "code",
   "execution_count": null,
   "metadata": {},
   "outputs": [],
   "source": [
    "from emmental.scorer import Scorer"
   ]
  },
  {
   "cell_type": "code",
   "execution_count": null,
   "metadata": {},
   "outputs": [],
   "source": [
    "def sum(gold, preds, probs):\n",
    "    return np.sum(preds)"
   ]
  },
  {
   "cell_type": "code",
   "execution_count": null,
   "metadata": {},
   "outputs": [],
   "source": [
    "scorer = Scorer(metrics=['accuracy', 'f1'], customize_metric_funcs={\"sum\": sum})"
   ]
  },
  {
   "cell_type": "code",
   "execution_count": null,
   "metadata": {},
   "outputs": [],
   "source": [
    "scorer.score(golds, preds, probs)"
   ]
  },
  {
   "cell_type": "code",
   "execution_count": null,
   "metadata": {},
   "outputs": [],
   "source": []
  }
 ],
 "metadata": {
  "kernelspec": {
   "display_name": "Python 3",
   "language": "python",
   "name": "python3"
  },
  "language_info": {
   "codemirror_mode": {
    "name": "ipython",
    "version": 3
   },
   "file_extension": ".py",
   "mimetype": "text/x-python",
   "name": "python",
   "nbconvert_exporter": "python",
   "pygments_lexer": "ipython3",
   "version": "3.6.5"
  }
 },
 "nbformat": 4,
 "nbformat_minor": 2
}
