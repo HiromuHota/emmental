{
 "cells": [
  {
   "cell_type": "code",
   "execution_count": 1,
   "metadata": {},
   "outputs": [],
   "source": [
    "import matplotlib.pyplot as plt\n",
    "import numpy as np\n",
    "import torch\n",
    "import torch.nn.functional as F\n",
    "from torch import nn\n",
    "\n",
    "from emmental.data import EmmentalDataLoader, EmmentalDataset\n",
    "from emmental.emmental_model import EmmentalModel\n",
    "from emmental.learner import EmmentalLearner\n",
    "from emmental.task import Task"
   ]
  },
  {
   "cell_type": "markdown",
   "metadata": {},
   "source": [
    "### Generate data"
   ]
  },
  {
   "cell_type": "code",
   "execution_count": 2,
   "metadata": {},
   "outputs": [],
   "source": [
    "N = 200\n",
    "X = np.random.random((N, 2)) * 2 - 1\n",
    "Y = (X[:, 0] > X[:, 1] + 0.25).astype(int) + 1"
   ]
  },
  {
   "cell_type": "code",
   "execution_count": 3,
   "metadata": {},
   "outputs": [],
   "source": [
    "# categorical labels: \n",
    "Y1_mask = Y == 1\n",
    "Y2_mask = Y == 2"
   ]
  },
  {
   "cell_type": "code",
   "execution_count": 4,
   "metadata": {},
   "outputs": [
    {
     "data": {
      "image/png": "[encoded data removed]",
      "text/plain": [
       "<Figure size 432x288 with 1 Axes>"
      ]
     },
     "metadata": {
      "needs_background": "light"
     },
     "output_type": "display_data"
    }
   ],
   "source": [
    "plt.scatter(X[Y1_mask, 0], X[Y1_mask, 1])\n",
    "plt.scatter(X[Y2_mask, 0], X[Y2_mask, 1])\n",
    "plt.show()"
   ]
  },
  {
   "cell_type": "markdown",
   "metadata": {},
   "source": [
    "### Create tasks"
   ]
  },
  {
   "cell_type": "code",
   "execution_count": 5,
   "metadata": {},
   "outputs": [],
   "source": [
    "def mse_loss(immediate_ouput, Y):\n",
    "    mse = nn.MSELoss()\n",
    "    return mse(immediate_ouput[-1][0].view(-1), Y.view(-1))"
   ]
  },
  {
   "cell_type": "code",
   "execution_count": 6,
   "metadata": {},
   "outputs": [],
   "source": [
    "def ce_loss(immediate_ouput, Y):\n",
    "#     F.cross_entropy(X[\"data\"], Y.view(-1) - 1))\n",
    "#     ce = nn.BCELoss()\n",
    "#     print(immediate_ouput[-1][0].size(), Y.size())\n",
    "    return F.cross_entropy(immediate_ouput[-1][0], Y.view(-1) - 1)"
   ]
  },
  {
   "cell_type": "code",
   "execution_count": 7,
   "metadata": {},
   "outputs": [],
   "source": [
    "def output(immediate_ouput):\n",
    "    return immediate_ouput[-1][0]"
   ]
  },
  {
   "cell_type": "code",
   "execution_count": 8,
   "metadata": {},
   "outputs": [],
   "source": [
    "task1 = Task(\n",
    "    name=\"task1\",\n",
    "    module_pool=nn.ModuleDict(\n",
    "        {\n",
    "            \"input_module\": nn.Linear(2, 8),\n",
    "            \"middle_module\": nn.Linear(8, 8),\n",
    "            \"head_module1\": nn.Linear(8, 2),\n",
    "        }\n",
    "    ),\n",
    "    task_flow=[\n",
    "        {\"module\": \"input_module\", \"inputs\": [(0, 0)]},\n",
    "        {\"module\": \"middle_module\", \"inputs\": [(1, 0)]},\n",
    "        {\"module\": \"head_module1\", \"inputs\": [(2, 0)]},\n",
    "    ],\n",
    "    loss_func=ce_loss,\n",
    "    output_func=output,\n",
    ")"
   ]
  },
  {
   "cell_type": "code",
   "execution_count": 9,
   "metadata": {},
   "outputs": [],
   "source": [
    "task2 = Task(\n",
    "    name=\"task2\",\n",
    "    module_pool=nn.ModuleDict(\n",
    "        {\n",
    "            \"input_module\": nn.Linear(2, 8),\n",
    "            \"middle_module\": nn.Linear(8, 8),\n",
    "            \"head_module2\": nn.Linear(8, 2),\n",
    "        }\n",
    "    ),\n",
    "    task_flow=[\n",
    "        {\"module\": \"input_module\", \"inputs\": [(0, 0)]},\n",
    "        {\"module\": \"middle_module\", \"inputs\": [(1, 0)]},\n",
    "        {\"module\": \"head_module2\", \"inputs\": [(2, 0)]},\n",
    "    ],\n",
    "    loss_func=ce_loss,\n",
    "    output_func=output,\n",
    ")"
   ]
  },
  {
   "cell_type": "code",
   "execution_count": 10,
   "metadata": {},
   "outputs": [],
   "source": [
    "mtl_model = EmmentalModel(name = 'all', tasks=[task1, task2])"
   ]
  },
  {
   "cell_type": "markdown",
   "metadata": {},
   "source": [
    "### Generate dataloader"
   ]
  },
  {
   "cell_type": "code",
   "execution_count": 11,
   "metadata": {},
   "outputs": [],
   "source": [
    "splits = [0.8, 0.1, 0.1]\n",
    "\n",
    "X_train, X_dev, X_test = [], [], []\n",
    "Y_train, Y_dev, Y_test = [], [], []\n",
    "\n",
    "for i in range(N):\n",
    "    if i <= N * splits[0]:\n",
    "        X_train.append(torch.Tensor(X[i]))\n",
    "        Y_train.append(torch.Tensor([Y[i]]).type(torch.LongTensor))\n",
    "    elif i < N * (splits[0] + splits[1]):\n",
    "        X_dev.append(torch.Tensor(X[i]))\n",
    "        Y_dev.append(torch.Tensor([Y[i]]).type(torch.LongTensor))\n",
    "    else:\n",
    "        X_test.append(torch.Tensor(X[i]))\n",
    "        Y_test.append(torch.Tensor([Y[i]]).type(torch.LongTensor))"
   ]
  },
  {
   "cell_type": "code",
   "execution_count": 12,
   "metadata": {},
   "outputs": [],
   "source": [
    "train_dataset = EmmentalDataset({\"data\": X_train}, {\"label\": Y_train})\n",
    "dev_dataset = EmmentalDataset({\"data\": X_dev}, {\"label\": Y_dev})\n",
    "test_dataset = EmmentalDataset({\"data\": X_test}, {\"label\": Y_test})"
   ]
  },
  {
   "cell_type": "code",
   "execution_count": 13,
   "metadata": {},
   "outputs": [],
   "source": [
    "train_dataloader1 = EmmentalDataLoader(\n",
    "    task_name=\"task1\", dataset=train_dataset, label_name=\"label\", split=\"train\", batch_size=10\n",
    ")\n",
    "dev_dataloader1 = EmmentalDataLoader(\n",
    "    task_name=\"task1\", dataset=dev_dataset, label_name=\"label\", split=\"dev\", batch_size=10\n",
    ")\n",
    "test_dataloader1 = EmmentalDataLoader(\n",
    "    task_name=\"task1\", dataset=test_dataset, label_name=\"label\", split=\"test\", batch_size=10\n",
    ")"
   ]
  },
  {
   "cell_type": "code",
   "execution_count": 14,
   "metadata": {},
   "outputs": [],
   "source": [
    "train_dataloader2 = EmmentalDataLoader(\n",
    "    task_name=\"task2\", dataset=train_dataset, label_name=\"label\", split=\"train\", batch_size=20\n",
    ")\n",
    "dev_dataloader2 = EmmentalDataLoader(\n",
    "    task_name=\"task2\", dataset=dev_dataset, label_name=\"label\", split=\"dev\", batch_size=10\n",
    ")\n",
    "test_dataloader2 = EmmentalDataLoader(\n",
    "    task_name=\"task2\", dataset=test_dataset, label_name=\"label\", split=\"test\", batch_size=10\n",
    ")"
   ]
  },
  {
   "cell_type": "markdown",
   "metadata": {},
   "source": [
    "### Load config"
   ]
  },
  {
   "cell_type": "code",
   "execution_count": 15,
   "metadata": {},
   "outputs": [],
   "source": [
    "from emmental.utils.config import load_config"
   ]
  },
  {
   "cell_type": "code",
   "execution_count": 16,
   "metadata": {},
   "outputs": [],
   "source": [
    "config = load_config()"
   ]
  },
  {
   "cell_type": "code",
   "execution_count": 17,
   "metadata": {},
   "outputs": [
    {
     "data": {
      "text/plain": [
       "{'model_config': {'seed': None,\n",
       "  'verbose': True,\n",
       "  'device': 'cpu',\n",
       "  'fp16': False,\n",
       "  'model_path': None},\n",
       " 'learner_config': {'seed': None,\n",
       "  'verbose': True,\n",
       "  'progress_bar': True,\n",
       "  'n_epochs': 1,\n",
       "  'optimizer_config': {'optimizer': 'adam',\n",
       "   'lr': 0.001,\n",
       "   'l2': 0.0,\n",
       "   'grad_clip': 1.0,\n",
       "   'sgd_config': {'momentum': 0.9},\n",
       "   'adam_config': {'betas': (0.9, 0.999)}},\n",
       "  'lr_scheduler_config': {'lr_scheduler': None},\n",
       "  'task_scheduler': 'sequential'},\n",
       " 'evaluation_config': None,\n",
       " 'logging_config': {'counter_unit': 'epoch',\n",
       "  'evaluation_freq': 1.0,\n",
       "  'checkpointing_freq': 2},\n",
       " 'writer_config': {'writer': 'tensorboard', 'verbose': True}}"
      ]
     },
     "execution_count": 17,
     "metadata": {},
     "output_type": "execute_result"
    }
   ],
   "source": [
    "config"
   ]
  },
  {
   "cell_type": "code",
   "execution_count": 18,
   "metadata": {},
   "outputs": [],
   "source": [
    "emmental_learner = EmmentalLearner(config)"
   ]
  },
  {
   "cell_type": "code",
   "execution_count": 19,
   "metadata": {},
   "outputs": [],
   "source": [
    "new_config = {\"learner_config\": {\"n_epochs\": 10, \"optimizer_config\": {\"lr\": 0.01}}}"
   ]
  },
  {
   "cell_type": "code",
   "execution_count": 20,
   "metadata": {
    "scrolled": true
   },
   "outputs": [
    {
     "name": "stdout",
     "output_type": "stream",
     "text": [
      "26\n"
     ]
    },
    {
     "data": {
      "application/vnd.jupyter.widget-view+json": {
       "model_id": "c8e861f460a74ae1ad425496c419a174",
       "version_major": 2,
       "version_minor": 0
      },
      "text/plain": [
       "HBox(children=(IntProgress(value=0, max=26), HTML(value='')))"
      ]
     },
     "metadata": {},
     "output_type": "display_data"
    },
    {
     "name": "stdout",
     "output_type": "stream",
     "text": [
      "\n"
     ]
    },
    {
     "data": {
      "application/vnd.jupyter.widget-view+json": {
       "model_id": "77c316c0f47641fca02dff393a1cfaac",
       "version_major": 2,
       "version_minor": 0
      },
      "text/plain": [
       "HBox(children=(IntProgress(value=0, max=26), HTML(value='')))"
      ]
     },
     "metadata": {},
     "output_type": "display_data"
    },
    {
     "name": "stdout",
     "output_type": "stream",
     "text": [
      "\n"
     ]
    },
    {
     "data": {
      "application/vnd.jupyter.widget-view+json": {
       "model_id": "cae7ff506ec745ffb0bbc83037998fa3",
       "version_major": 2,
       "version_minor": 0
      },
      "text/plain": [
       "HBox(children=(IntProgress(value=0, max=26), HTML(value='')))"
      ]
     },
     "metadata": {},
     "output_type": "display_data"
    },
    {
     "name": "stdout",
     "output_type": "stream",
     "text": [
      "\n"
     ]
    },
    {
     "data": {
      "application/vnd.jupyter.widget-view+json": {
       "model_id": "b94a78366b4940c2935747cd4b0bff86",
       "version_major": 2,
       "version_minor": 0
      },
      "text/plain": [
       "HBox(children=(IntProgress(value=0, max=26), HTML(value='')))"
      ]
     },
     "metadata": {},
     "output_type": "display_data"
    },
    {
     "name": "stdout",
     "output_type": "stream",
     "text": [
      "\n"
     ]
    },
    {
     "data": {
      "application/vnd.jupyter.widget-view+json": {
       "model_id": "7b1fcf992eb94a1096bbc0233464c885",
       "version_major": 2,
       "version_minor": 0
      },
      "text/plain": [
       "HBox(children=(IntProgress(value=0, max=26), HTML(value='')))"
      ]
     },
     "metadata": {},
     "output_type": "display_data"
    },
    {
     "name": "stdout",
     "output_type": "stream",
     "text": [
      "\n"
     ]
    },
    {
     "data": {
      "application/vnd.jupyter.widget-view+json": {
       "model_id": "5ab9e419107d46b4b2a9c48696d51dbc",
       "version_major": 2,
       "version_minor": 0
      },
      "text/plain": [
       "HBox(children=(IntProgress(value=0, max=26), HTML(value='')))"
      ]
     },
     "metadata": {},
     "output_type": "display_data"
    },
    {
     "name": "stdout",
     "output_type": "stream",
     "text": [
      "\n"
     ]
    },
    {
     "data": {
      "application/vnd.jupyter.widget-view+json": {
       "model_id": "2fd65c43ada84749abab07c22b40d05a",
       "version_major": 2,
       "version_minor": 0
      },
      "text/plain": [
       "HBox(children=(IntProgress(value=0, max=26), HTML(value='')))"
      ]
     },
     "metadata": {},
     "output_type": "display_data"
    },
    {
     "name": "stdout",
     "output_type": "stream",
     "text": [
      "\n"
     ]
    },
    {
     "data": {
      "application/vnd.jupyter.widget-view+json": {
       "model_id": "4d0f91b6c58644db84e474cb77a02877",
       "version_major": 2,
       "version_minor": 0
      },
      "text/plain": [
       "HBox(children=(IntProgress(value=0, max=26), HTML(value='')))"
      ]
     },
     "metadata": {},
     "output_type": "display_data"
    },
    {
     "name": "stdout",
     "output_type": "stream",
     "text": [
      "\n"
     ]
    },
    {
     "data": {
      "application/vnd.jupyter.widget-view+json": {
       "model_id": "4d9a71899d5c4f2d9abd7312c2f58f8f",
       "version_major": 2,
       "version_minor": 0
      },
      "text/plain": [
       "HBox(children=(IntProgress(value=0, max=26), HTML(value='')))"
      ]
     },
     "metadata": {},
     "output_type": "display_data"
    },
    {
     "name": "stdout",
     "output_type": "stream",
     "text": [
      "\n"
     ]
    },
    {
     "data": {
      "application/vnd.jupyter.widget-view+json": {
       "model_id": "8aae3ebde8ff4a28a191ff723678c26d",
       "version_major": 2,
       "version_minor": 0
      },
      "text/plain": [
       "HBox(children=(IntProgress(value=0, max=26), HTML(value='')))"
      ]
     },
     "metadata": {},
     "output_type": "display_data"
    },
    {
     "name": "stdout",
     "output_type": "stream",
     "text": [
      "\n"
     ]
    }
   ],
   "source": [
    "emmental_learner.learn(mtl_model, [train_dataloader1, train_dataloader2], config=new_config)"
   ]
  },
  {
   "cell_type": "code",
   "execution_count": 21,
   "metadata": {},
   "outputs": [
    {
     "name": "stdout",
     "output_type": "stream",
     "text": [
      "{'task1': array([[  7.5053225,  -8.333671 ],\n",
      "       [ 12.030731 , -13.306617 ],\n",
      "       [ -6.757081 ,   7.350455 ],\n",
      "       [  5.6738157,  -6.338233 ],\n",
      "       [-11.436083 ,  12.478772 ],\n",
      "       [-16.511269 ,  18.027344 ],\n",
      "       [  9.877325 , -10.918387 ],\n",
      "       [  1.5644051,  -1.83231  ],\n",
      "       [ -6.181883 ,   6.691979 ],\n",
      "       [  6.790236 ,  -7.55553  ]], dtype=float32)} (10, 2)\n",
      "{'task1': array([[  8.7669325,  -9.724367 ],\n",
      "       [  9.018274 ,  -9.987399 ],\n",
      "       [  8.236512 ,  -9.146617 ],\n",
      "       [  5.398513 ,  -5.9780436],\n",
      "       [  7.3742504,  -8.197651 ],\n",
      "       [  9.552507 , -10.587149 ],\n",
      "       [  3.6857576,  -4.117903 ],\n",
      "       [-10.359005 ,  11.2877445],\n",
      "       [ -6.9161177,   7.495649 ],\n",
      "       [  1.3125783,  -1.5481138]], dtype=float32)} (10, 2)\n",
      "{'task1': array([[ 10.849951  , -11.992295  ],\n",
      "       [-16.427     ,  17.93314   ],\n",
      "       [  1.4931718 ,  -1.738659  ],\n",
      "       [  0.24991822,  -0.38699305],\n",
      "       [ -1.5279857 ,   1.5607244 ],\n",
      "       [-16.310162  ,  17.804127  ],\n",
      "       [  7.326127  ,  -8.097537  ],\n",
      "       [ -0.49680346,   0.4781093 ],\n",
      "       [-13.754919  ,  15.012845  ],\n",
      "       [ 17.185162  , -18.937252  ]], dtype=float32)} (10, 2)\n",
      "{'task1': array([[ -9.985805  ,  10.885142  ],\n",
      "       [  1.297589  ,  -1.5045723 ],\n",
      "       [  7.722762  ,  -8.533917  ],\n",
      "       [  9.352335  , -10.37294   ],\n",
      "       [ -0.86481506,   0.83967805],\n",
      "       [ 11.177307  , -12.344802  ],\n",
      "       [  9.220034  , -10.169273  ],\n",
      "       [ 13.681501  , -15.0766325 ],\n",
      "       [  8.711569  ,  -9.61822   ],\n",
      "       [-17.126793  ,  18.711426  ]], dtype=float32)} (10, 2)\n",
      "{'task1': array([[  7.073783  ,  -7.8538833 ],\n",
      "       [  2.975802  ,  -3.338474  ],\n",
      "       [-10.3641815 ,  11.289544  ],\n",
      "       [  5.5068135 ,  -6.151401  ],\n",
      "       [ 23.789928  , -26.179243  ],\n",
      "       [ -9.275642  ,  10.094053  ],\n",
      "       [ 10.461929  , -11.564425  ],\n",
      "       [ -0.598031  ,   0.53788954],\n",
      "       [ 20.18966   , -22.226404  ],\n",
      "       [ -0.8114744 ,   0.7980309 ]], dtype=float32)} (10, 2)\n",
      "{'task1': array([[ -2.9511268,   3.1426435],\n",
      "       [ -4.2855277,   4.609218 ],\n",
      "       [-14.419609 ,  15.725939 ],\n",
      "       [ 15.603634 , -17.216028 ],\n",
      "       [-11.954758 ,  13.024755 ],\n",
      "       [ -1.9261149,   2.025751 ],\n",
      "       [ 10.966211 , -12.121183 ],\n",
      "       [  5.5675673,  -6.2082725],\n",
      "       [ -9.900463 ,  10.768096 ],\n",
      "       [  3.47736  ,  -3.8735476]], dtype=float32)} (10, 2)\n",
      "{'task1': array([[  1.6530427,  -1.8624897],\n",
      "       [ -7.450654 ,   8.096113 ],\n",
      "       [  4.239193 ,  -4.704883 ],\n",
      "       [  3.2257144,  -3.6022015],\n",
      "       [  1.5976425,  -1.8692265],\n",
      "       [-12.066098 ,  13.140775 ],\n",
      "       [  3.2369087,  -3.6515481],\n",
      "       [ 15.353067 , -16.9089   ],\n",
      "       [ 14.178197 , -15.621528 ],\n",
      "       [ 19.62711  , -21.612143 ]], dtype=float32)} (10, 2)\n",
      "{'task1': array([[ -8.026325 ,   8.74138  ],\n",
      "       [ 10.168411 , -11.268441 ],\n",
      "       [-12.289072 ,  13.402515 ],\n",
      "       [ 20.245945 , -22.294977 ],\n",
      "       [  5.1128287,  -5.7177153],\n",
      "       [ 16.451736 , -18.128143 ],\n",
      "       [-10.209729 ,  11.107559 ],\n",
      "       [ -4.9063597,   5.2903028],\n",
      "       [  0.341526 ,  -0.4575364],\n",
      "       [ -1.9550288,   2.0417726]], dtype=float32)} (10, 2)\n",
      "{'task1': array([[ 10.111186 , -11.164641 ],\n",
      "       [ 13.012489 , -14.359362 ],\n",
      "       [ 19.352959 , -21.316652 ],\n",
      "       [ 15.341635 , -16.893282 ],\n",
      "       [ 14.057083 , -15.48471  ],\n",
      "       [  7.8020577,  -8.671332 ],\n",
      "       [  3.994261 ,  -4.4243093],\n",
      "       [  1.3782965,  -1.5968796],\n",
      "       [-12.662991 ,  13.821785 ],\n",
      "       [  5.329694 ,  -5.951006 ]], dtype=float32)} (10, 2)\n",
      "{'task1': array([[-10.273554  ,  11.190923  ],\n",
      "       [ 11.1764965 , -12.354936  ],\n",
      "       [ 18.204071  , -20.045382  ],\n",
      "       [ -6.703906  ,   7.2911744 ],\n",
      "       [ -4.36712   ,   4.7032356 ],\n",
      "       [ -2.3046687 ,   2.4608357 ],\n",
      "       [ -7.160698  ,   7.7716885 ],\n",
      "       [  0.19930121,  -0.32971627],\n",
      "       [  7.60735   ,  -8.457274  ],\n",
      "       [ 19.67984   , -21.674524  ]], dtype=float32)} (10, 2)\n",
      "{'task1': array([[ 10.463001  , -11.589238  ],\n",
      "       [ -4.329582  ,   4.6528077 ],\n",
      "       [  9.487675  , -10.462653  ],\n",
      "       [  6.3006516 ,  -7.02694   ],\n",
      "       [  4.784463  ,  -5.3534656 ],\n",
      "       [ -2.8936932 ,   3.1207225 ],\n",
      "       [  0.6877301 ,  -0.8621491 ],\n",
      "       [  0.4134638 ,  -0.50316566],\n",
      "       [ -8.974073  ,   9.761057  ],\n",
      "       [ 19.434162  , -21.402151  ]], dtype=float32)} (10, 2)\n",
      "{'task1': array([[  0.6851408 ,  -0.8373571 ],\n",
      "       [ -1.2774643 ,   1.2929953 ],\n",
      "       [  1.0939652 ,  -1.3096846 ],\n",
      "       [ 14.655076  , -16.147245  ],\n",
      "       [  0.85950834,  -1.0063226 ],\n",
      "       [ -6.340003  ,   6.8676586 ],\n",
      "       [  1.6348766 ,  -1.8454732 ],\n",
      "       [ 14.721052  , -16.225557  ],\n",
      "       [  3.7505872 ,  -4.1947446 ],\n",
      "       [  3.0526073 ,  -3.3926713 ]], dtype=float32)} (10, 2)\n",
      "{'task1': array([[-11.087587 ,  12.096723 ],\n",
      "       [ 14.741686 , -16.275446 ],\n",
      "       [  3.1973808,  -3.5514748],\n",
      "       [ 21.18944  , -23.322958 ],\n",
      "       [ 19.107708 , -21.04097  ],\n",
      "       [ -8.28332  ,   8.989966 ],\n",
      "       [  6.18596  ,  -6.8685365],\n",
      "       [-13.341913 ,  14.556399 ],\n",
      "       [-11.396633 ,  12.435651 ],\n",
      "       [  9.036126 ,  -9.964785 ]], dtype=float32)} (10, 2)\n",
      "{'task1': array([[ 11.404316 , -12.586603 ],\n",
      "       [  9.344094 , -10.305815 ],\n",
      "       [  0.5067787,  -0.6516001],\n",
      "       [ 22.425098 , -24.688435 ],\n",
      "       [  2.8401582,  -3.177765 ],\n",
      "       [  9.900194 , -10.915561 ],\n",
      "       [  4.620167 ,  -5.14846  ],\n",
      "       [ -7.2087975,   7.83166  ],\n",
      "       [  7.208725 ,  -7.9765115],\n",
      "       [ 13.938887 , -15.357667 ]], dtype=float32)} (10, 2)\n",
      "{'task1': array([[ -0.4745089 ,   0.41240674],\n",
      "       [  6.409344  ,  -7.1194797 ],\n",
      "       [ 10.196249  , -11.280102  ],\n",
      "       [ 17.444122  , -19.212711  ],\n",
      "       [ -4.767728  ,   5.120427  ],\n",
      "       [ 16.131735  , -17.788708  ],\n",
      "       [ -6.8656015 ,   7.4676423 ],\n",
      "       [  7.3728604 ,  -8.181975  ],\n",
      "       [  8.002962  ,  -8.841117  ],\n",
      "       [  4.125858  ,  -4.629482  ]], dtype=float32)} (10, 2)\n",
      "{'task1': array([[  9.279207 , -10.237918 ],\n",
      "       [ -2.2776392,   2.4033852],\n",
      "       [  7.9516544,  -8.835209 ],\n",
      "       [  4.112836 ,  -4.6202445],\n",
      "       [ 17.652342 , -19.455992 ],\n",
      "       [ -9.522286 ,  10.354768 ],\n",
      "       [ 18.678968 , -20.576605 ],\n",
      "       [ 13.468851 , -14.860448 ],\n",
      "       [  3.9747999,  -4.4395432],\n",
      "       [  8.138294 ,  -8.981479 ]], dtype=float32)} (10, 2)\n",
      "{'task1': array([[-4.0306807,  4.3475842]], dtype=float32)} (1, 2)\n"
     ]
    }
   ],
   "source": [
    "for x, y in train_dataloader1:\n",
    "#     print(x, y)\n",
    "    res = mtl_model.calculate_probs(x['data'], [train_dataloader1.task_name])\n",
    "    print(res, res['task1'].shape)"
   ]
  },
  {
   "cell_type": "code",
   "execution_count": 22,
   "metadata": {},
   "outputs": [
    {
     "data": {
      "text/plain": [
       "(defaultdict(list,\n",
       "             {'task1': [array([1]),\n",
       "               array([1]),\n",
       "               array([2]),\n",
       "               array([1]),\n",
       "               array([2]),\n",
       "               array([2]),\n",
       "               array([1]),\n",
       "               array([1]),\n",
       "               array([2]),\n",
       "               array([1]),\n",
       "               array([1]),\n",
       "               array([1]),\n",
       "               array([1]),\n",
       "               array([1]),\n",
       "               array([1]),\n",
       "               array([1]),\n",
       "               array([1]),\n",
       "               array([2]),\n",
       "               array([2]),\n",
       "               array([1]),\n",
       "               array([1]),\n",
       "               array([2]),\n",
       "               array([1]),\n",
       "               array([2]),\n",
       "               array([2]),\n",
       "               array([2]),\n",
       "               array([1]),\n",
       "               array([2]),\n",
       "               array([2]),\n",
       "               array([1]),\n",
       "               array([2]),\n",
       "               array([1]),\n",
       "               array([1]),\n",
       "               array([1]),\n",
       "               array([2]),\n",
       "               array([1]),\n",
       "               array([1]),\n",
       "               array([1]),\n",
       "               array([1]),\n",
       "               array([2]),\n",
       "               array([1]),\n",
       "               array([1]),\n",
       "               array([2]),\n",
       "               array([1]),\n",
       "               array([1]),\n",
       "               array([2]),\n",
       "               array([1]),\n",
       "               array([2]),\n",
       "               array([1]),\n",
       "               array([2]),\n",
       "               array([2]),\n",
       "               array([2]),\n",
       "               array([2]),\n",
       "               array([1]),\n",
       "               array([2]),\n",
       "               array([2]),\n",
       "               array([1]),\n",
       "               array([1]),\n",
       "               array([2]),\n",
       "               array([1]),\n",
       "               array([1]),\n",
       "               array([2]),\n",
       "               array([1]),\n",
       "               array([1]),\n",
       "               array([1]),\n",
       "               array([2]),\n",
       "               array([1]),\n",
       "               array([1]),\n",
       "               array([1]),\n",
       "               array([1]),\n",
       "               array([2]),\n",
       "               array([1]),\n",
       "               array([2]),\n",
       "               array([1]),\n",
       "               array([1]),\n",
       "               array([1]),\n",
       "               array([2]),\n",
       "               array([2]),\n",
       "               array([1]),\n",
       "               array([2]),\n",
       "               array([1]),\n",
       "               array([1]),\n",
       "               array([1]),\n",
       "               array([1]),\n",
       "               array([1]),\n",
       "               array([1]),\n",
       "               array([1]),\n",
       "               array([1]),\n",
       "               array([2]),\n",
       "               array([1]),\n",
       "               array([2]),\n",
       "               array([1]),\n",
       "               array([1]),\n",
       "               array([2]),\n",
       "               array([2]),\n",
       "               array([2]),\n",
       "               array([2]),\n",
       "               array([2]),\n",
       "               array([1]),\n",
       "               array([1]),\n",
       "               array([1]),\n",
       "               array([2]),\n",
       "               array([1]),\n",
       "               array([1]),\n",
       "               array([1]),\n",
       "               array([2]),\n",
       "               array([1]),\n",
       "               array([2]),\n",
       "               array([2]),\n",
       "               array([1]),\n",
       "               array([1]),\n",
       "               array([2]),\n",
       "               array([1]),\n",
       "               array([1]),\n",
       "               array([1]),\n",
       "               array([2]),\n",
       "               array([1]),\n",
       "               array([1]),\n",
       "               array([1]),\n",
       "               array([1]),\n",
       "               array([2]),\n",
       "               array([1]),\n",
       "               array([1]),\n",
       "               array([1]),\n",
       "               array([1]),\n",
       "               array([2]),\n",
       "               array([1]),\n",
       "               array([2]),\n",
       "               array([2]),\n",
       "               array([1]),\n",
       "               array([1]),\n",
       "               array([1]),\n",
       "               array([1]),\n",
       "               array([1]),\n",
       "               array([1]),\n",
       "               array([1]),\n",
       "               array([1]),\n",
       "               array([2]),\n",
       "               array([1]),\n",
       "               array([1]),\n",
       "               array([2]),\n",
       "               array([1]),\n",
       "               array([1]),\n",
       "               array([1]),\n",
       "               array([2]),\n",
       "               array([1]),\n",
       "               array([2]),\n",
       "               array([1]),\n",
       "               array([1]),\n",
       "               array([1]),\n",
       "               array([1]),\n",
       "               array([2]),\n",
       "               array([1]),\n",
       "               array([1]),\n",
       "               array([1]),\n",
       "               array([2]),\n",
       "               array([1]),\n",
       "               array([1]),\n",
       "               array([1]),\n",
       "               array([1]),\n",
       "               array([2])]}),\n",
       " defaultdict(list,\n",
       "             {'task1': [array([ 7.5053225, -8.333671 ], dtype=float32),\n",
       "               array([ 12.030731, -13.306617], dtype=float32),\n",
       "               array([-6.757081,  7.350455], dtype=float32),\n",
       "               array([ 5.6738157, -6.338233 ], dtype=float32),\n",
       "               array([-11.436083,  12.478772], dtype=float32),\n",
       "               array([-16.511269,  18.027344], dtype=float32),\n",
       "               array([  9.877325, -10.918387], dtype=float32),\n",
       "               array([ 1.5644051, -1.83231  ], dtype=float32),\n",
       "               array([-6.181883,  6.691979], dtype=float32),\n",
       "               array([ 6.790236, -7.55553 ], dtype=float32),\n",
       "               array([ 8.7669325, -9.724367 ], dtype=float32),\n",
       "               array([ 9.018274, -9.987399], dtype=float32),\n",
       "               array([ 8.236512, -9.146617], dtype=float32),\n",
       "               array([ 5.398513 , -5.9780436], dtype=float32),\n",
       "               array([ 7.3742504, -8.197651 ], dtype=float32),\n",
       "               array([  9.552507, -10.587149], dtype=float32),\n",
       "               array([ 3.6857576, -4.117903 ], dtype=float32),\n",
       "               array([-10.359005 ,  11.2877445], dtype=float32),\n",
       "               array([-6.9161177,  7.495649 ], dtype=float32),\n",
       "               array([ 1.3125783, -1.5481138], dtype=float32),\n",
       "               array([ 10.849951, -11.992295], dtype=float32),\n",
       "               array([-16.427  ,  17.93314], dtype=float32),\n",
       "               array([ 1.4931718, -1.738659 ], dtype=float32),\n",
       "               array([ 0.24991822, -0.38699305], dtype=float32),\n",
       "               array([-1.5279857,  1.5607244], dtype=float32),\n",
       "               array([-16.310162,  17.804127], dtype=float32),\n",
       "               array([ 7.326127, -8.097537], dtype=float32),\n",
       "               array([-0.49680346,  0.4781093 ], dtype=float32),\n",
       "               array([-13.754919,  15.012845], dtype=float32),\n",
       "               array([ 17.185162, -18.937252], dtype=float32),\n",
       "               array([-9.985805, 10.885142], dtype=float32),\n",
       "               array([ 1.297589 , -1.5045723], dtype=float32),\n",
       "               array([ 7.722762, -8.533917], dtype=float32),\n",
       "               array([  9.352335, -10.37294 ], dtype=float32),\n",
       "               array([-0.86481506,  0.83967805], dtype=float32),\n",
       "               array([ 11.177307, -12.344802], dtype=float32),\n",
       "               array([  9.220034, -10.169273], dtype=float32),\n",
       "               array([ 13.681501 , -15.0766325], dtype=float32),\n",
       "               array([ 8.711569, -9.61822 ], dtype=float32),\n",
       "               array([-17.126793,  18.711426], dtype=float32),\n",
       "               array([ 7.073783 , -7.8538833], dtype=float32),\n",
       "               array([ 2.975802, -3.338474], dtype=float32),\n",
       "               array([-10.3641815,  11.289544 ], dtype=float32),\n",
       "               array([ 5.5068135, -6.151401 ], dtype=float32),\n",
       "               array([ 23.789928, -26.179243], dtype=float32),\n",
       "               array([-9.275642, 10.094053], dtype=float32),\n",
       "               array([ 10.461929, -11.564425], dtype=float32),\n",
       "               array([-0.598031  ,  0.53788954], dtype=float32),\n",
       "               array([ 20.18966 , -22.226404], dtype=float32),\n",
       "               array([-0.8114744,  0.7980309], dtype=float32),\n",
       "               array([-2.9511268,  3.1426435], dtype=float32),\n",
       "               array([-4.2855277,  4.609218 ], dtype=float32),\n",
       "               array([-14.419609,  15.725939], dtype=float32),\n",
       "               array([ 15.603634, -17.216028], dtype=float32),\n",
       "               array([-11.954758,  13.024755], dtype=float32),\n",
       "               array([-1.9261149,  2.025751 ], dtype=float32),\n",
       "               array([ 10.966211, -12.121183], dtype=float32),\n",
       "               array([ 5.5675673, -6.2082725], dtype=float32),\n",
       "               array([-9.900463, 10.768096], dtype=float32),\n",
       "               array([ 3.47736  , -3.8735476], dtype=float32),\n",
       "               array([ 1.6530427, -1.8624897], dtype=float32),\n",
       "               array([-7.450654,  8.096113], dtype=float32),\n",
       "               array([ 4.239193, -4.704883], dtype=float32),\n",
       "               array([ 3.2257144, -3.6022015], dtype=float32),\n",
       "               array([ 1.5976425, -1.8692265], dtype=float32),\n",
       "               array([-12.066098,  13.140775], dtype=float32),\n",
       "               array([ 3.2369087, -3.6515481], dtype=float32),\n",
       "               array([ 15.353067, -16.9089  ], dtype=float32),\n",
       "               array([ 14.178197, -15.621528], dtype=float32),\n",
       "               array([ 19.62711 , -21.612143], dtype=float32),\n",
       "               array([-8.026325,  8.74138 ], dtype=float32),\n",
       "               array([ 10.168411, -11.268441], dtype=float32),\n",
       "               array([-12.289072,  13.402515], dtype=float32),\n",
       "               array([ 20.245945, -22.294977], dtype=float32),\n",
       "               array([ 5.1128287, -5.7177153], dtype=float32),\n",
       "               array([ 16.451736, -18.128143], dtype=float32),\n",
       "               array([-10.209729,  11.107559], dtype=float32),\n",
       "               array([-4.9063597,  5.2903028], dtype=float32),\n",
       "               array([ 0.341526 , -0.4575364], dtype=float32),\n",
       "               array([-1.9550288,  2.0417726], dtype=float32),\n",
       "               array([ 10.111186, -11.164641], dtype=float32),\n",
       "               array([ 13.012489, -14.359362], dtype=float32),\n",
       "               array([ 19.352959, -21.316652], dtype=float32),\n",
       "               array([ 15.341635, -16.893282], dtype=float32),\n",
       "               array([ 14.057083, -15.48471 ], dtype=float32),\n",
       "               array([ 7.8020577, -8.671332 ], dtype=float32),\n",
       "               array([ 3.994261 , -4.4243093], dtype=float32),\n",
       "               array([ 1.3782965, -1.5968796], dtype=float32),\n",
       "               array([-12.662991,  13.821785], dtype=float32),\n",
       "               array([ 5.329694, -5.951006], dtype=float32),\n",
       "               array([-10.273554,  11.190923], dtype=float32),\n",
       "               array([ 11.1764965, -12.354936 ], dtype=float32),\n",
       "               array([ 18.204071, -20.045382], dtype=float32),\n",
       "               array([-6.703906 ,  7.2911744], dtype=float32),\n",
       "               array([-4.36712  ,  4.7032356], dtype=float32),\n",
       "               array([-2.3046687,  2.4608357], dtype=float32),\n",
       "               array([-7.160698 ,  7.7716885], dtype=float32),\n",
       "               array([ 0.19930121, -0.32971627], dtype=float32),\n",
       "               array([ 7.60735 , -8.457274], dtype=float32),\n",
       "               array([ 19.67984 , -21.674524], dtype=float32),\n",
       "               array([ 10.463001, -11.589238], dtype=float32),\n",
       "               array([-4.329582 ,  4.6528077], dtype=float32),\n",
       "               array([  9.487675, -10.462653], dtype=float32),\n",
       "               array([ 6.3006516, -7.02694  ], dtype=float32),\n",
       "               array([ 4.784463 , -5.3534656], dtype=float32),\n",
       "               array([-2.8936932,  3.1207225], dtype=float32),\n",
       "               array([ 0.6877301, -0.8621491], dtype=float32),\n",
       "               array([ 0.4134638 , -0.50316566], dtype=float32),\n",
       "               array([-8.974073,  9.761057], dtype=float32),\n",
       "               array([ 19.434162, -21.402151], dtype=float32),\n",
       "               array([ 0.6851408, -0.8373571], dtype=float32),\n",
       "               array([-1.2774643,  1.2929953], dtype=float32),\n",
       "               array([ 1.0939652, -1.3096846], dtype=float32),\n",
       "               array([ 14.655076, -16.147245], dtype=float32),\n",
       "               array([ 0.85950834, -1.0063226 ], dtype=float32),\n",
       "               array([-6.340003 ,  6.8676586], dtype=float32),\n",
       "               array([ 1.6348766, -1.8454732], dtype=float32),\n",
       "               array([ 14.721052, -16.225557], dtype=float32),\n",
       "               array([ 3.7505872, -4.1947446], dtype=float32),\n",
       "               array([ 3.0526073, -3.3926713], dtype=float32),\n",
       "               array([-11.087587,  12.096723], dtype=float32),\n",
       "               array([ 14.741686, -16.275446], dtype=float32),\n",
       "               array([ 3.1973808, -3.5514748], dtype=float32),\n",
       "               array([ 21.18944 , -23.322958], dtype=float32),\n",
       "               array([ 19.107708, -21.04097 ], dtype=float32),\n",
       "               array([-8.28332 ,  8.989966], dtype=float32),\n",
       "               array([ 6.18596  , -6.8685365], dtype=float32),\n",
       "               array([-13.341913,  14.556399], dtype=float32),\n",
       "               array([-11.396633,  12.435651], dtype=float32),\n",
       "               array([ 9.036126, -9.964785], dtype=float32),\n",
       "               array([ 11.404316, -12.586603], dtype=float32),\n",
       "               array([  9.344094, -10.305815], dtype=float32),\n",
       "               array([ 0.5067787, -0.6516001], dtype=float32),\n",
       "               array([ 22.425098, -24.688435], dtype=float32),\n",
       "               array([ 2.8401582, -3.177765 ], dtype=float32),\n",
       "               array([  9.900194, -10.915561], dtype=float32),\n",
       "               array([ 4.620167, -5.14846 ], dtype=float32),\n",
       "               array([-7.2087975,  7.83166  ], dtype=float32),\n",
       "               array([ 7.208725 , -7.9765115], dtype=float32),\n",
       "               array([ 13.938887, -15.357667], dtype=float32),\n",
       "               array([-0.4745089 ,  0.41240674], dtype=float32),\n",
       "               array([ 6.409344 , -7.1194797], dtype=float32),\n",
       "               array([ 10.196249, -11.280102], dtype=float32),\n",
       "               array([ 17.444122, -19.212711], dtype=float32),\n",
       "               array([-4.767728,  5.120427], dtype=float32),\n",
       "               array([ 16.131735, -17.788708], dtype=float32),\n",
       "               array([-6.8656015,  7.4676423], dtype=float32),\n",
       "               array([ 7.3728604, -8.181975 ], dtype=float32),\n",
       "               array([ 8.002962, -8.841117], dtype=float32),\n",
       "               array([ 4.125858, -4.629482], dtype=float32),\n",
       "               array([  9.279207, -10.237918], dtype=float32),\n",
       "               array([-2.2776392,  2.4033852], dtype=float32),\n",
       "               array([ 7.9516544, -8.835209 ], dtype=float32),\n",
       "               array([ 4.112836 , -4.6202445], dtype=float32),\n",
       "               array([ 17.652342, -19.455992], dtype=float32),\n",
       "               array([-9.522286, 10.354768], dtype=float32),\n",
       "               array([ 18.678968, -20.576605], dtype=float32),\n",
       "               array([ 13.468851, -14.860448], dtype=float32),\n",
       "               array([ 3.9747999, -4.4395432], dtype=float32),\n",
       "               array([ 8.138294, -8.981479], dtype=float32),\n",
       "               array([-4.0306807,  4.3475842], dtype=float32)]}),\n",
       " defaultdict(list,\n",
       "             {'task1': array([1, 1, 2, 1, 2, 2, 1, 1, 2, 1, 1, 1, 1, 1, 1, 1, 1, 2, 2, 1, 1, 2,\n",
       "                     1, 1, 2, 2, 1, 2, 2, 1, 2, 1, 1, 1, 2, 1, 1, 1, 1, 2, 1, 1, 2, 1,\n",
       "                     1, 2, 1, 2, 1, 2, 2, 2, 2, 1, 2, 2, 1, 1, 2, 1, 1, 2, 1, 1, 1, 2,\n",
       "                     1, 1, 1, 1, 2, 1, 2, 1, 1, 1, 2, 2, 1, 2, 1, 1, 1, 1, 1, 1, 1, 1,\n",
       "                     2, 1, 2, 1, 1, 2, 2, 2, 2, 1, 1, 1, 1, 2, 1, 1, 1, 2, 1, 1, 2, 1,\n",
       "                     1, 2, 1, 1, 1, 2, 1, 1, 1, 1, 2, 1, 1, 1, 1, 2, 1, 2, 2, 1, 1, 1,\n",
       "                     1, 1, 1, 1, 1, 2, 1, 1, 2, 1, 1, 1, 2, 1, 2, 1, 1, 1, 1, 2, 1, 1,\n",
       "                     1, 2, 1, 1, 1, 1, 2])}))"
      ]
     },
     "execution_count": 22,
     "metadata": {},
     "output_type": "execute_result"
    }
   ],
   "source": [
    "mtl_model.predict(train_dataloader1, retrun_preds=True)"
   ]
  },
  {
   "cell_type": "code",
   "execution_count": null,
   "metadata": {},
   "outputs": [],
   "source": []
  }
 ],
 "metadata": {
  "kernelspec": {
   "display_name": "Python 3",
   "language": "python",
   "name": "python3"
  },
  "language_info": {
   "codemirror_mode": {
    "name": "ipython",
    "version": 3
   },
   "file_extension": ".py",
   "mimetype": "text/x-python",
   "name": "python",
   "nbconvert_exporter": "python",
   "pygments_lexer": "ipython3",
   "version": "3.6.5"
  }
 },
 "nbformat": 4,
 "nbformat_minor": 2
}
