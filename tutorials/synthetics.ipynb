{
 "cells": [
  {
   "cell_type": "code",
   "execution_count": 1,
   "metadata": {},
   "outputs": [],
   "source": [
    "%load_ext autoreload\n",
    "%autoreload 2\n",
    "%matplotlib inline"
   ]
  },
  {
   "cell_type": "code",
   "execution_count": 2,
   "metadata": {},
   "outputs": [],
   "source": [
    "import matplotlib.pyplot as plt\n",
    "import numpy as np\n",
    "import torch\n",
    "import torch.nn.functional as F\n",
    "from torch import nn\n",
    "\n",
    "import emmental\n",
    "from emmental import Meta\n",
    "from emmental.data import EmmentalDataLoader, EmmentalDataset\n",
    "from emmental.learner import EmmentalLearner\n",
    "from emmental.model import EmmentalModel\n",
    "from emmental.scorer import Scorer\n",
    "from emmental.task import EmmentalTask"
   ]
  },
  {
   "cell_type": "code",
   "execution_count": 3,
   "metadata": {},
   "outputs": [
    {
     "name": "stderr",
     "output_type": "stream",
     "text": [
      "[2019-04-21 16:48:05,111][INFO] emmental.meta:95 - Setting logging directory to: test_run/2019_04_21/16_48_05\n",
      "[2019-04-21 16:48:05,122][INFO] emmental.meta:56 - Loading Emmental default config from /Users/senwu/Desktop/folder/deleteme/test/test/test/emmental/src/emmental/emmental-default-config.yaml.\n"
     ]
    }
   ],
   "source": [
    "emmental.init(\"test_run\")"
   ]
  },
  {
   "cell_type": "markdown",
   "metadata": {},
   "source": [
    "### Generate data"
   ]
  },
  {
   "cell_type": "code",
   "execution_count": 4,
   "metadata": {},
   "outputs": [],
   "source": [
    "N = 200\n",
    "X = np.random.random((N, 2)) * 2 - 1\n",
    "Y = (X[:, 0] > X[:, 1] + 0.25).astype(int) + 1"
   ]
  },
  {
   "cell_type": "code",
   "execution_count": 5,
   "metadata": {},
   "outputs": [],
   "source": [
    "# categorical labels: \n",
    "Y1_mask = Y == 1\n",
    "Y2_mask = Y == 2"
   ]
  },
  {
   "cell_type": "code",
   "execution_count": 6,
   "metadata": {},
   "outputs": [
    {
     "data": {
      "image/png": "[encoded data removed]",
      "text/plain": [
       "<Figure size 432x288 with 1 Axes>"
      ]
     },
     "metadata": {
      "needs_background": "light"
     },
     "output_type": "display_data"
    }
   ],
   "source": [
    "plt.scatter(X[Y1_mask, 0], X[Y1_mask, 1])\n",
    "plt.scatter(X[Y2_mask, 0], X[Y2_mask, 1])\n",
    "plt.show()"
   ]
  },
  {
   "cell_type": "markdown",
   "metadata": {},
   "source": [
    "### Load config"
   ]
  },
  {
   "cell_type": "code",
   "execution_count": 7,
   "metadata": {
    "scrolled": true
   },
   "outputs": [
    {
     "data": {
      "text/plain": [
       "{'meta_config': {'seed': 0, 'verbose': True, 'device': 0},\n",
       " 'learner_config': {'fp16': False,\n",
       "  'model_path': None,\n",
       "  'seed': None,\n",
       "  'verbose': True,\n",
       "  'progress_bar': True,\n",
       "  'n_epochs': 1,\n",
       "  'train_split': 'train',\n",
       "  'valid_split': 'valid',\n",
       "  'test_split': 'test',\n",
       "  'optimizer_config': {'optimizer': 'sgd',\n",
       "   'lr': 0.001,\n",
       "   'l2': 0.0,\n",
       "   'grad_clip': 1.0,\n",
       "   'sgd_config': {'momentum': 0.9},\n",
       "   'adam_config': {'betas': (0.9, 0.999)}},\n",
       "  'lr_scheduler_config': {'lr_scheduler': None,\n",
       "   'warmup_steps': 0.0,\n",
       "   'warmup_unit': 'epoch',\n",
       "   'min_lr': 0.0,\n",
       "   'linear_config': {'min_lr': 0.0},\n",
       "   'exponential_config': {'gamma': 0.9},\n",
       "   'plateau_config': {'factor': 0.5, 'patience': 10, 'threshold': 0.0001}},\n",
       "  'task_scheduler': 'round_robin'},\n",
       " 'logging_config': {'counter_unit': 'batch',\n",
       "  'evaluation_freq': 2,\n",
       "  'writer_config': {'writer': 'tensorboard', 'verbose': True},\n",
       "  'checkpointint': True,\n",
       "  'checkpointer_config': {'checkpoint_path': None,\n",
       "   'checkpoint_freq': 1,\n",
       "   'checkpoint_metric': 'task1/da1/valid/f1',\n",
       "   'checkpoint_metric_mode': 'max',\n",
       "   'checkpoint_runway': 0}}}"
      ]
     },
     "execution_count": 7,
     "metadata": {},
     "output_type": "execute_result"
    }
   ],
   "source": [
    "Meta.config"
   ]
  },
  {
   "cell_type": "markdown",
   "metadata": {},
   "source": [
    "### Create tasks"
   ]
  },
  {
   "cell_type": "code",
   "execution_count": 8,
   "metadata": {},
   "outputs": [],
   "source": [
    "def mse_loss(immediate_ouput, Y):\n",
    "    mse = nn.MSELoss()\n",
    "    return mse(immediate_ouput[-1][0].view(-1), Y.view(-1))"
   ]
  },
  {
   "cell_type": "code",
   "execution_count": 9,
   "metadata": {},
   "outputs": [],
   "source": [
    "def ce_loss(immediate_ouput, Y):\n",
    "#     F.cross_entropy(X[\"data\"], Y.view(-1) - 1))\n",
    "#     ce = nn.BCELoss()\n",
    "#     print(immediate_ouput[-1][0].size(), Y.size())\n",
    "    return F.cross_entropy(immediate_ouput[-1][0], Y.view(-1) - 1)"
   ]
  },
  {
   "cell_type": "code",
   "execution_count": 10,
   "metadata": {},
   "outputs": [],
   "source": [
    "def output(immediate_ouput):\n",
    "    return immediate_ouput[-1][0]"
   ]
  },
  {
   "cell_type": "code",
   "execution_count": 11,
   "metadata": {},
   "outputs": [
    {
     "name": "stderr",
     "output_type": "stream",
     "text": [
      "[2019-04-21 16:48:05,528][INFO] emmental.task:34 - Created task: task1\n"
     ]
    }
   ],
   "source": [
    "task1 = EmmentalTask(\n",
    "    name=\"task1\",\n",
    "    module_pool=nn.ModuleDict(\n",
    "        {\n",
    "            \"input_module\": nn.Linear(2, 8),\n",
    "            \"middle_module\": nn.Linear(8, 8),\n",
    "            \"head_module1\": nn.Linear(8, 2),\n",
    "        }\n",
    "    ),\n",
    "    task_flow=[\n",
    "        {\"module\": \"input_module\", \"inputs\": [(0, 'data')]},\n",
    "        {\"module\": \"middle_module\", \"inputs\": [(1, 0)]},\n",
    "        {\"module\": \"head_module1\", \"inputs\": [(2, 0)]},\n",
    "    ],\n",
    "    loss_func=ce_loss,\n",
    "    output_func=output,\n",
    "    scorer=Scorer(metrics=['f1', 'accuracy']),\n",
    ")"
   ]
  },
  {
   "cell_type": "code",
   "execution_count": 12,
   "metadata": {},
   "outputs": [
    {
     "name": "stderr",
     "output_type": "stream",
     "text": [
      "[2019-04-21 16:48:05,559][INFO] emmental.task:34 - Created task: task2\n"
     ]
    }
   ],
   "source": [
    "task2 = EmmentalTask(\n",
    "    name=\"task2\",\n",
    "    module_pool=nn.ModuleDict(\n",
    "        {\n",
    "            \"input_module\": nn.Linear(2, 8),\n",
    "            \"middle_module\": nn.Linear(8, 8),\n",
    "            \"head_module2\": nn.Linear(8, 2),\n",
    "        }\n",
    "    ),\n",
    "    task_flow=[\n",
    "        {\"module\": \"input_module\", \"inputs\": [(0, 'data')]},\n",
    "        {\"module\": \"middle_module\", \"inputs\": [(1, 0)]},\n",
    "        {\"module\": \"head_module2\", \"inputs\": [(2, 0)]},\n",
    "    ],\n",
    "    loss_func=ce_loss,\n",
    "    output_func=output,\n",
    "    scorer=Scorer(metrics=['f1', 'accuracy']),\n",
    ")"
   ]
  },
  {
   "cell_type": "code",
   "execution_count": 13,
   "metadata": {},
   "outputs": [
    {
     "name": "stderr",
     "output_type": "stream",
     "text": [
      "[2019-04-21 16:48:05,584][INFO] emmental.model:61 - No cuda device available. Switch to cpu instead.\n",
      "[2019-04-21 16:48:05,585][INFO] emmental.model:61 - No cuda device available. Switch to cpu instead.\n",
      "[2019-04-21 16:48:05,586][INFO] emmental.model:44 - Created emmental model all that contains task {'task2', 'task1'}.\n",
      "[2019-04-21 16:48:05,586][INFO] emmental.model:61 - No cuda device available. Switch to cpu instead.\n"
     ]
    }
   ],
   "source": [
    "mtl_model = EmmentalModel(name = 'all', tasks=[task1, task2])"
   ]
  },
  {
   "cell_type": "code",
   "execution_count": 14,
   "metadata": {},
   "outputs": [
    {
     "data": {
      "text/plain": [
       "False"
      ]
     },
     "execution_count": 14,
     "metadata": {},
     "output_type": "execute_result"
    }
   ],
   "source": [
    "import torch\n",
    "torch.cuda.is_available()"
   ]
  },
  {
   "cell_type": "code",
   "execution_count": 15,
   "metadata": {},
   "outputs": [],
   "source": [
    "# mtl_model1 = EmmentalModel(name = 'all', tasks=[task1, task1])"
   ]
  },
  {
   "cell_type": "markdown",
   "metadata": {},
   "source": [
    "### Generate dataloader"
   ]
  },
  {
   "cell_type": "code",
   "execution_count": 16,
   "metadata": {},
   "outputs": [],
   "source": [
    "splits = [0.8, 0.1, 0.1]\n",
    "\n",
    "X_train, X_dev, X_test = [], [], []\n",
    "Y_train, Y_dev, Y_test = [], [], []\n",
    "\n",
    "for i in range(N):\n",
    "    if i <= N * splits[0]:\n",
    "        X_train.append(torch.Tensor(X[i]))\n",
    "        Y_train.append(torch.Tensor([Y[i]]).type(torch.LongTensor))\n",
    "    elif i < N * (splits[0] + splits[1]):\n",
    "        X_dev.append(torch.Tensor(X[i]))\n",
    "        Y_dev.append(torch.Tensor([Y[i]]).type(torch.LongTensor))\n",
    "    else:\n",
    "        X_test.append(torch.Tensor(X[i]))\n",
    "        Y_test.append(torch.Tensor([Y[i]]).type(torch.LongTensor))"
   ]
  },
  {
   "cell_type": "code",
   "execution_count": 17,
   "metadata": {},
   "outputs": [],
   "source": [
    "train_dataset = EmmentalDataset(name=\"da1\", X_dict={\"data\": X_train}, Y_dict={\"label\": Y_train})\n",
    "dev_dataset = EmmentalDataset(name=\"da1\", X_dict= {\"data\": X_dev}, Y_dict={\"label\": Y_dev})\n",
    "test_dataset = EmmentalDataset(name=\"da1\", X_dict= {\"data\": X_test}, Y_dict={\"label\": Y_test})"
   ]
  },
  {
   "cell_type": "code",
   "execution_count": 18,
   "metadata": {},
   "outputs": [],
   "source": [
    "train_dataloader1 = EmmentalDataLoader(\n",
    "    task_name=\"task1\", dataset=train_dataset, label_name=\"label\", split=\"train\", batch_size=10\n",
    ")\n",
    "dev_dataloader1 = EmmentalDataLoader(\n",
    "    task_name=\"task1\", dataset=dev_dataset, label_name=\"label\", split=\"valid\", batch_size=10\n",
    ")\n",
    "test_dataloader1 = EmmentalDataLoader(\n",
    "    task_name=\"task1\", dataset=test_dataset, label_name=\"label\", split=\"test\", batch_size=10\n",
    ")"
   ]
  },
  {
   "cell_type": "code",
   "execution_count": 19,
   "metadata": {},
   "outputs": [],
   "source": [
    "train_dataloader2 = EmmentalDataLoader(\n",
    "    task_name=\"task2\", dataset=train_dataset, label_name=\"label\", split=\"train\", batch_size=20\n",
    ")\n",
    "dev_dataloader2 = EmmentalDataLoader(\n",
    "    task_name=\"task2\", dataset=dev_dataset, label_name=\"label\", split=\"valid\", batch_size=10\n",
    ")\n",
    "test_dataloader2 = EmmentalDataLoader(\n",
    "    task_name=\"task2\", dataset=test_dataset, label_name=\"label\", split=\"test\", batch_size=10\n",
    ")"
   ]
  },
  {
   "cell_type": "code",
   "execution_count": 20,
   "metadata": {},
   "outputs": [],
   "source": [
    "emmental_learner = EmmentalLearner()"
   ]
  },
  {
   "cell_type": "code",
   "execution_count": 21,
   "metadata": {},
   "outputs": [
    {
     "name": "stderr",
     "output_type": "stream",
     "text": [
      "[2019-04-21 16:48:05,804][INFO] emmental.meta:143 - Updating Emmental config from user provided config.\n"
     ]
    }
   ],
   "source": [
    "Meta.update_config(config = {\"learner_config\": {\"n_epochs\": 10, \"optimizer_config\": {\"lr\": 0.01}}})"
   ]
  },
  {
   "cell_type": "code",
   "execution_count": 22,
   "metadata": {
    "scrolled": true
   },
   "outputs": [
    {
     "name": "stderr",
     "output_type": "stream",
     "text": [
      "[2019-04-21 16:48:05,833][INFO] emmental.utils.logging.logging_manager:33 - Evaluating every 2 batch.\n",
      "[2019-04-21 16:48:05,833][INFO] emmental.utils.logging.logging_manager:40 - Checkpointing every 2 batch.\n",
      "[2019-04-21 16:48:05,846][INFO] emmental.utils.logging.checkpointer:41 - Save checkpoints at test_run/2019_04_21/16_48_05 every 2 batch\n",
      "[2019-04-21 16:48:05,847][INFO] emmental.utils.logging.checkpointer:65 - No checkpoints saved before 0 batch.\n",
      "[2019-04-21 16:48:05,848][INFO] emmental.learner:247 - Start learning...\n"
     ]
    },
    {
     "data": {
      "application/vnd.jupyter.widget-view+json": {
       "model_id": "b7936ff0666d49a78a8b7fc5a39531a6",
       "version_major": 2,
       "version_minor": 0
      },
      "text/plain": [
       "HBox(children=(IntProgress(value=0, max=26), HTML(value='')))"
      ]
     },
     "metadata": {},
     "output_type": "display_data"
    },
    {
     "name": "stderr",
     "output_type": "stream",
     "text": [
      "[2019-04-21 16:48:05,889][INFO] emmental.utils.logging.checkpointer:87 - Save checkpoint of 2 batch at test_run/2019_04_21/16_48_05/checkpoint_2.pth.\n",
      "[2019-04-21 16:48:05,891][INFO] emmental.utils.logging.checkpointer:101 - Save best model of metric task1/da1/valid/f1 at test_run/2019_04_21/16_48_05/best_model_task1_da1_valid_f1.pth\n",
      "[2019-04-21 16:48:05,908][INFO] emmental.utils.logging.checkpointer:87 - Save checkpoint of 4 batch at test_run/2019_04_21/16_48_05/checkpoint_4.pth.\n",
      "[2019-04-21 16:48:05,910][INFO] emmental.utils.logging.checkpointer:101 - Save best model of metric task1/da1/valid/f1 at test_run/2019_04_21/16_48_05/best_model_task1_da1_valid_f1.pth\n",
      "[2019-04-21 16:48:05,926][INFO] emmental.utils.logging.checkpointer:87 - Save checkpoint of 6 batch at test_run/2019_04_21/16_48_05/checkpoint_6.pth.\n",
      "[2019-04-21 16:48:05,928][INFO] emmental.utils.logging.checkpointer:101 - Save best model of metric task1/da1/valid/f1 at test_run/2019_04_21/16_48_05/best_model_task1_da1_valid_f1.pth\n",
      "[2019-04-21 16:48:05,944][INFO] emmental.utils.logging.checkpointer:87 - Save checkpoint of 8 batch at test_run/2019_04_21/16_48_05/checkpoint_8.pth.\n",
      "[2019-04-21 16:48:05,961][INFO] emmental.utils.logging.checkpointer:87 - Save checkpoint of 10 batch at test_run/2019_04_21/16_48_05/checkpoint_10.pth.\n",
      "[2019-04-21 16:48:05,978][INFO] emmental.utils.logging.checkpointer:87 - Save checkpoint of 12 batch at test_run/2019_04_21/16_48_05/checkpoint_12.pth.\n",
      "[2019-04-21 16:48:05,979][INFO] emmental.utils.logging.checkpointer:101 - Save best model of metric task1/da1/valid/f1 at test_run/2019_04_21/16_48_05/best_model_task1_da1_valid_f1.pth\n",
      "[2019-04-21 16:48:05,996][INFO] emmental.utils.logging.checkpointer:87 - Save checkpoint of 14 batch at test_run/2019_04_21/16_48_05/checkpoint_14.pth.\n",
      "[2019-04-21 16:48:06,014][INFO] emmental.utils.logging.checkpointer:87 - Save checkpoint of 16 batch at test_run/2019_04_21/16_48_05/checkpoint_16.pth.\n",
      "[2019-04-21 16:48:06,016][INFO] emmental.utils.logging.checkpointer:101 - Save best model of metric task1/da1/valid/f1 at test_run/2019_04_21/16_48_05/best_model_task1_da1_valid_f1.pth\n",
      "[2019-04-21 16:48:06,030][INFO] emmental.utils.logging.checkpointer:87 - Save checkpoint of 18 batch at test_run/2019_04_21/16_48_05/checkpoint_18.pth.\n",
      "[2019-04-21 16:48:06,047][INFO] emmental.utils.logging.checkpointer:87 - Save checkpoint of 20 batch at test_run/2019_04_21/16_48_05/checkpoint_20.pth.\n",
      "[2019-04-21 16:48:06,063][INFO] emmental.utils.logging.checkpointer:87 - Save checkpoint of 22 batch at test_run/2019_04_21/16_48_05/checkpoint_22.pth.\n",
      "[2019-04-21 16:48:06,065][INFO] emmental.utils.logging.checkpointer:101 - Save best model of metric task1/da1/valid/f1 at test_run/2019_04_21/16_48_05/best_model_task1_da1_valid_f1.pth\n"
     ]
    },
    {
     "name": "stdout",
     "output_type": "stream",
     "text": [
      "task1\n",
      "task2\n",
      "task1\n",
      "task2\n",
      "task1\n",
      "task2\n",
      "task1\n",
      "task2\n",
      "task1\n",
      "task2\n",
      "task1\n",
      "task2\n",
      "task1\n",
      "task2\n",
      "task1\n",
      "task2\n",
      "task1\n",
      "task2\n",
      "task1\n",
      "task1\n",
      "task1\n",
      "task1\n",
      "task1\n",
      "task1\n"
     ]
    },
    {
     "name": "stderr",
     "output_type": "stream",
     "text": [
      "[2019-04-21 16:48:06,082][INFO] emmental.utils.logging.checkpointer:87 - Save checkpoint of 24 batch at test_run/2019_04_21/16_48_05/checkpoint_24.pth.\n",
      "[2019-04-21 16:48:06,084][INFO] emmental.utils.logging.checkpointer:101 - Save best model of metric task1/da1/valid/f1 at test_run/2019_04_21/16_48_05/best_model_task1_da1_valid_f1.pth\n",
      "[2019-04-21 16:48:06,101][INFO] emmental.utils.logging.checkpointer:87 - Save checkpoint of 26 batch at test_run/2019_04_21/16_48_05/checkpoint_26.pth.\n",
      "[2019-04-21 16:48:06,102][INFO] emmental.utils.logging.checkpointer:101 - Save best model of metric task1/da1/valid/f1 at test_run/2019_04_21/16_48_05/best_model_task1_da1_valid_f1.pth\n"
     ]
    },
    {
     "name": "stdout",
     "output_type": "stream",
     "text": [
      "task1\n",
      "task1\n",
      "\n"
     ]
    },
    {
     "data": {
      "application/vnd.jupyter.widget-view+json": {
       "model_id": "ab9b7412efcf4363815688d5ad0759d3",
       "version_major": 2,
       "version_minor": 0
      },
      "text/plain": [
       "HBox(children=(IntProgress(value=0, max=26), HTML(value='')))"
      ]
     },
     "metadata": {},
     "output_type": "display_data"
    },
    {
     "name": "stderr",
     "output_type": "stream",
     "text": [
      "[2019-04-21 16:48:06,141][INFO] emmental.utils.logging.checkpointer:87 - Save checkpoint of 28 batch at test_run/2019_04_21/16_48_05/checkpoint_28.pth.\n",
      "[2019-04-21 16:48:06,165][INFO] emmental.utils.logging.checkpointer:87 - Save checkpoint of 30 batch at test_run/2019_04_21/16_48_05/checkpoint_30.pth.\n",
      "[2019-04-21 16:48:06,181][INFO] emmental.utils.logging.checkpointer:87 - Save checkpoint of 32 batch at test_run/2019_04_21/16_48_05/checkpoint_32.pth.\n",
      "[2019-04-21 16:48:06,182][INFO] emmental.utils.logging.checkpointer:101 - Save best model of metric task1/da1/valid/f1 at test_run/2019_04_21/16_48_05/best_model_task1_da1_valid_f1.pth\n",
      "[2019-04-21 16:48:06,199][INFO] emmental.utils.logging.checkpointer:87 - Save checkpoint of 34 batch at test_run/2019_04_21/16_48_05/checkpoint_34.pth.\n",
      "[2019-04-21 16:48:06,217][INFO] emmental.utils.logging.checkpointer:87 - Save checkpoint of 36 batch at test_run/2019_04_21/16_48_05/checkpoint_36.pth.\n",
      "[2019-04-21 16:48:06,235][INFO] emmental.utils.logging.checkpointer:87 - Save checkpoint of 38 batch at test_run/2019_04_21/16_48_05/checkpoint_38.pth.\n",
      "[2019-04-21 16:48:06,252][INFO] emmental.utils.logging.checkpointer:87 - Save checkpoint of 40 batch at test_run/2019_04_21/16_48_05/checkpoint_40.pth.\n",
      "[2019-04-21 16:48:06,270][INFO] emmental.utils.logging.checkpointer:87 - Save checkpoint of 42 batch at test_run/2019_04_21/16_48_05/checkpoint_42.pth.\n",
      "[2019-04-21 16:48:06,286][INFO] emmental.utils.logging.checkpointer:87 - Save checkpoint of 44 batch at test_run/2019_04_21/16_48_05/checkpoint_44.pth.\n"
     ]
    },
    {
     "name": "stdout",
     "output_type": "stream",
     "text": [
      "task1\n",
      "task2\n",
      "task1\n",
      "task2\n",
      "task1\n",
      "task2\n",
      "task1\n",
      "task2\n",
      "task1\n",
      "task2\n",
      "task1\n",
      "task2\n",
      "task1\n",
      "task2\n",
      "task1\n",
      "task2\n",
      "task1\n",
      "task2\n"
     ]
    },
    {
     "name": "stderr",
     "output_type": "stream",
     "text": [
      "[2019-04-21 16:48:06,303][INFO] emmental.utils.logging.checkpointer:87 - Save checkpoint of 46 batch at test_run/2019_04_21/16_48_05/checkpoint_46.pth.\n",
      "[2019-04-21 16:48:06,320][INFO] emmental.utils.logging.checkpointer:87 - Save checkpoint of 48 batch at test_run/2019_04_21/16_48_05/checkpoint_48.pth.\n"
     ]
    },
    {
     "name": "stdout",
     "output_type": "stream",
     "text": [
      "task1\n",
      "task1\n",
      "task1\n",
      "task1\n",
      "task1\n",
      "task1\n"
     ]
    },
    {
     "name": "stderr",
     "output_type": "stream",
     "text": [
      "[2019-04-21 16:48:06,340][INFO] emmental.utils.logging.checkpointer:87 - Save checkpoint of 50 batch at test_run/2019_04_21/16_48_05/checkpoint_50.pth.\n",
      "[2019-04-21 16:48:06,356][INFO] emmental.utils.logging.checkpointer:87 - Save checkpoint of 52 batch at test_run/2019_04_21/16_48_05/checkpoint_52.pth.\n"
     ]
    },
    {
     "name": "stdout",
     "output_type": "stream",
     "text": [
      "task1\n",
      "task1\n",
      "\n"
     ]
    },
    {
     "data": {
      "application/vnd.jupyter.widget-view+json": {
       "model_id": "97afaedf756e4c999c8a63db44e77dfd",
       "version_major": 2,
       "version_minor": 0
      },
      "text/plain": [
       "HBox(children=(IntProgress(value=0, max=26), HTML(value='')))"
      ]
     },
     "metadata": {},
     "output_type": "display_data"
    },
    {
     "name": "stderr",
     "output_type": "stream",
     "text": [
      "[2019-04-21 16:48:06,394][INFO] emmental.utils.logging.checkpointer:87 - Save checkpoint of 54 batch at test_run/2019_04_21/16_48_05/checkpoint_54.pth.\n",
      "[2019-04-21 16:48:06,413][INFO] emmental.utils.logging.checkpointer:87 - Save checkpoint of 56 batch at test_run/2019_04_21/16_48_05/checkpoint_56.pth.\n",
      "[2019-04-21 16:48:06,429][INFO] emmental.utils.logging.checkpointer:87 - Save checkpoint of 58 batch at test_run/2019_04_21/16_48_05/checkpoint_58.pth.\n",
      "[2019-04-21 16:48:06,431][INFO] emmental.utils.logging.checkpointer:101 - Save best model of metric task1/da1/valid/f1 at test_run/2019_04_21/16_48_05/best_model_task1_da1_valid_f1.pth\n",
      "[2019-04-21 16:48:06,447][INFO] emmental.utils.logging.checkpointer:87 - Save checkpoint of 60 batch at test_run/2019_04_21/16_48_05/checkpoint_60.pth.\n",
      "[2019-04-21 16:48:06,463][INFO] emmental.utils.logging.checkpointer:87 - Save checkpoint of 62 batch at test_run/2019_04_21/16_48_05/checkpoint_62.pth.\n",
      "[2019-04-21 16:48:06,482][INFO] emmental.utils.logging.checkpointer:87 - Save checkpoint of 64 batch at test_run/2019_04_21/16_48_05/checkpoint_64.pth.\n"
     ]
    },
    {
     "name": "stdout",
     "output_type": "stream",
     "text": [
      "task1\n",
      "task2\n",
      "task1\n",
      "task2\n",
      "task1\n",
      "task2\n",
      "task1\n",
      "task2\n",
      "task1\n",
      "task2\n",
      "task1\n",
      "task2\n",
      "task1\n",
      "task2\n"
     ]
    },
    {
     "name": "stderr",
     "output_type": "stream",
     "text": [
      "[2019-04-21 16:48:06,500][INFO] emmental.utils.logging.checkpointer:87 - Save checkpoint of 66 batch at test_run/2019_04_21/16_48_05/checkpoint_66.pth.\n",
      "[2019-04-21 16:48:06,517][INFO] emmental.utils.logging.checkpointer:87 - Save checkpoint of 68 batch at test_run/2019_04_21/16_48_05/checkpoint_68.pth.\n",
      "[2019-04-21 16:48:06,533][INFO] emmental.utils.logging.checkpointer:87 - Save checkpoint of 70 batch at test_run/2019_04_21/16_48_05/checkpoint_70.pth.\n"
     ]
    },
    {
     "name": "stdout",
     "output_type": "stream",
     "text": [
      "task1\n",
      "task2\n",
      "task1\n",
      "task2\n",
      "task1\n",
      "task1\n"
     ]
    },
    {
     "name": "stderr",
     "output_type": "stream",
     "text": [
      "[2019-04-21 16:48:06,551][INFO] emmental.utils.logging.checkpointer:87 - Save checkpoint of 72 batch at test_run/2019_04_21/16_48_05/checkpoint_72.pth.\n",
      "[2019-04-21 16:48:06,570][INFO] emmental.utils.logging.checkpointer:87 - Save checkpoint of 74 batch at test_run/2019_04_21/16_48_05/checkpoint_74.pth.\n"
     ]
    },
    {
     "name": "stdout",
     "output_type": "stream",
     "text": [
      "task1\n",
      "task1\n",
      "task1\n",
      "task1\n"
     ]
    },
    {
     "name": "stderr",
     "output_type": "stream",
     "text": [
      "[2019-04-21 16:48:06,589][INFO] emmental.utils.logging.checkpointer:87 - Save checkpoint of 76 batch at test_run/2019_04_21/16_48_05/checkpoint_76.pth.\n",
      "[2019-04-21 16:48:06,606][INFO] emmental.utils.logging.checkpointer:87 - Save checkpoint of 78 batch at test_run/2019_04_21/16_48_05/checkpoint_78.pth.\n"
     ]
    },
    {
     "name": "stdout",
     "output_type": "stream",
     "text": [
      "task1\n",
      "task1\n",
      "\n"
     ]
    },
    {
     "data": {
      "application/vnd.jupyter.widget-view+json": {
       "model_id": "54518f94519d40099994c28689a9c5cd",
       "version_major": 2,
       "version_minor": 0
      },
      "text/plain": [
       "HBox(children=(IntProgress(value=0, max=26), HTML(value='')))"
      ]
     },
     "metadata": {},
     "output_type": "display_data"
    },
    {
     "name": "stderr",
     "output_type": "stream",
     "text": [
      "[2019-04-21 16:48:06,647][INFO] emmental.utils.logging.checkpointer:87 - Save checkpoint of 80 batch at test_run/2019_04_21/16_48_05/checkpoint_80.pth.\n",
      "[2019-04-21 16:48:06,665][INFO] emmental.utils.logging.checkpointer:87 - Save checkpoint of 82 batch at test_run/2019_04_21/16_48_05/checkpoint_82.pth.\n",
      "[2019-04-21 16:48:06,682][INFO] emmental.utils.logging.checkpointer:87 - Save checkpoint of 84 batch at test_run/2019_04_21/16_48_05/checkpoint_84.pth.\n",
      "[2019-04-21 16:48:06,699][INFO] emmental.utils.logging.checkpointer:87 - Save checkpoint of 86 batch at test_run/2019_04_21/16_48_05/checkpoint_86.pth.\n"
     ]
    },
    {
     "name": "stdout",
     "output_type": "stream",
     "text": [
      "task1\n",
      "task2\n",
      "task1\n",
      "task2\n",
      "task1\n",
      "task2\n",
      "task1\n",
      "task2\n",
      "task1\n"
     ]
    },
    {
     "name": "stderr",
     "output_type": "stream",
     "text": [
      "[2019-04-21 16:48:06,716][INFO] emmental.utils.logging.checkpointer:87 - Save checkpoint of 88 batch at test_run/2019_04_21/16_48_05/checkpoint_88.pth.\n",
      "[2019-04-21 16:48:06,736][INFO] emmental.utils.logging.checkpointer:87 - Save checkpoint of 90 batch at test_run/2019_04_21/16_48_05/checkpoint_90.pth.\n",
      "[2019-04-21 16:48:06,754][INFO] emmental.utils.logging.checkpointer:87 - Save checkpoint of 92 batch at test_run/2019_04_21/16_48_05/checkpoint_92.pth.\n"
     ]
    },
    {
     "name": "stdout",
     "output_type": "stream",
     "text": [
      "task2\n",
      "task1\n",
      "task2\n",
      "task1\n",
      "task2\n"
     ]
    },
    {
     "name": "stderr",
     "output_type": "stream",
     "text": [
      "[2019-04-21 16:48:06,773][INFO] emmental.utils.logging.checkpointer:87 - Save checkpoint of 94 batch at test_run/2019_04_21/16_48_05/checkpoint_94.pth.\n",
      "[2019-04-21 16:48:06,791][INFO] emmental.utils.logging.checkpointer:87 - Save checkpoint of 96 batch at test_run/2019_04_21/16_48_05/checkpoint_96.pth.\n"
     ]
    },
    {
     "name": "stdout",
     "output_type": "stream",
     "text": [
      "task1\n",
      "task2\n",
      "task1\n",
      "task2\n"
     ]
    },
    {
     "name": "stderr",
     "output_type": "stream",
     "text": [
      "[2019-04-21 16:48:06,811][INFO] emmental.utils.logging.checkpointer:87 - Save checkpoint of 98 batch at test_run/2019_04_21/16_48_05/checkpoint_98.pth.\n",
      "[2019-04-21 16:48:06,830][INFO] emmental.utils.logging.checkpointer:87 - Save checkpoint of 100 batch at test_run/2019_04_21/16_48_05/checkpoint_100.pth.\n"
     ]
    },
    {
     "name": "stdout",
     "output_type": "stream",
     "text": [
      "task1\n",
      "task1\n",
      "task1\n",
      "task1\n"
     ]
    },
    {
     "name": "stderr",
     "output_type": "stream",
     "text": [
      "[2019-04-21 16:48:06,851][INFO] emmental.utils.logging.checkpointer:87 - Save checkpoint of 102 batch at test_run/2019_04_21/16_48_05/checkpoint_102.pth.\n",
      "[2019-04-21 16:48:06,868][INFO] emmental.utils.logging.checkpointer:87 - Save checkpoint of 104 batch at test_run/2019_04_21/16_48_05/checkpoint_104.pth.\n"
     ]
    },
    {
     "name": "stdout",
     "output_type": "stream",
     "text": [
      "task1\n",
      "task1\n",
      "task1\n",
      "task1\n",
      "\n"
     ]
    },
    {
     "data": {
      "application/vnd.jupyter.widget-view+json": {
       "model_id": "11b236a4346f421e83261fa28ae6a5ff",
       "version_major": 2,
       "version_minor": 0
      },
      "text/plain": [
       "HBox(children=(IntProgress(value=0, max=26), HTML(value='')))"
      ]
     },
     "metadata": {},
     "output_type": "display_data"
    },
    {
     "name": "stdout",
     "output_type": "stream",
     "text": [
      "task1\n",
      "task2\n"
     ]
    },
    {
     "name": "stderr",
     "output_type": "stream",
     "text": [
      "[2019-04-21 16:48:06,909][INFO] emmental.utils.logging.checkpointer:87 - Save checkpoint of 106 batch at test_run/2019_04_21/16_48_05/checkpoint_106.pth.\n",
      "[2019-04-21 16:48:06,927][INFO] emmental.utils.logging.checkpointer:87 - Save checkpoint of 108 batch at test_run/2019_04_21/16_48_05/checkpoint_108.pth.\n",
      "[2019-04-21 16:48:06,945][INFO] emmental.utils.logging.checkpointer:87 - Save checkpoint of 110 batch at test_run/2019_04_21/16_48_05/checkpoint_110.pth.\n"
     ]
    },
    {
     "name": "stdout",
     "output_type": "stream",
     "text": [
      "task1\n",
      "task2\n",
      "task1\n",
      "task2\n",
      "task1\n",
      "task2\n"
     ]
    },
    {
     "name": "stderr",
     "output_type": "stream",
     "text": [
      "[2019-04-21 16:48:06,964][INFO] emmental.utils.logging.checkpointer:87 - Save checkpoint of 112 batch at test_run/2019_04_21/16_48_05/checkpoint_112.pth.\n",
      "[2019-04-21 16:48:06,984][INFO] emmental.utils.logging.checkpointer:87 - Save checkpoint of 114 batch at test_run/2019_04_21/16_48_05/checkpoint_114.pth.\n"
     ]
    },
    {
     "name": "stdout",
     "output_type": "stream",
     "text": [
      "task1\n",
      "task2\n",
      "task1\n",
      "task2\n"
     ]
    },
    {
     "name": "stderr",
     "output_type": "stream",
     "text": [
      "[2019-04-21 16:48:07,006][INFO] emmental.utils.logging.checkpointer:87 - Save checkpoint of 116 batch at test_run/2019_04_21/16_48_05/checkpoint_116.pth.\n",
      "[2019-04-21 16:48:07,025][INFO] emmental.utils.logging.checkpointer:87 - Save checkpoint of 118 batch at test_run/2019_04_21/16_48_05/checkpoint_118.pth.\n"
     ]
    },
    {
     "name": "stdout",
     "output_type": "stream",
     "text": [
      "task1\n",
      "task2\n",
      "task1\n",
      "task2\n"
     ]
    },
    {
     "name": "stderr",
     "output_type": "stream",
     "text": [
      "[2019-04-21 16:48:07,044][INFO] emmental.utils.logging.checkpointer:87 - Save checkpoint of 120 batch at test_run/2019_04_21/16_48_05/checkpoint_120.pth.\n",
      "[2019-04-21 16:48:07,063][INFO] emmental.utils.logging.checkpointer:87 - Save checkpoint of 122 batch at test_run/2019_04_21/16_48_05/checkpoint_122.pth.\n",
      "[2019-04-21 16:48:07,080][INFO] emmental.utils.logging.checkpointer:87 - Save checkpoint of 124 batch at test_run/2019_04_21/16_48_05/checkpoint_124.pth.\n"
     ]
    },
    {
     "name": "stdout",
     "output_type": "stream",
     "text": [
      "task1\n",
      "task2\n",
      "task1\n",
      "task1\n",
      "task1\n",
      "task1\n"
     ]
    },
    {
     "name": "stderr",
     "output_type": "stream",
     "text": [
      "[2019-04-21 16:48:07,099][INFO] emmental.utils.logging.checkpointer:87 - Save checkpoint of 126 batch at test_run/2019_04_21/16_48_05/checkpoint_126.pth.\n"
     ]
    },
    {
     "name": "stdout",
     "output_type": "stream",
     "text": [
      "task1\n",
      "task1\n"
     ]
    },
    {
     "name": "stderr",
     "output_type": "stream",
     "text": [
      "[2019-04-21 16:48:07,117][INFO] emmental.utils.logging.checkpointer:87 - Save checkpoint of 128 batch at test_run/2019_04_21/16_48_05/checkpoint_128.pth.\n",
      "[2019-04-21 16:48:07,135][INFO] emmental.utils.logging.checkpointer:87 - Save checkpoint of 130 batch at test_run/2019_04_21/16_48_05/checkpoint_130.pth.\n"
     ]
    },
    {
     "name": "stdout",
     "output_type": "stream",
     "text": [
      "task1\n",
      "task1\n",
      "\n"
     ]
    },
    {
     "data": {
      "application/vnd.jupyter.widget-view+json": {
       "model_id": "4b0388a5038e422385b6735135b8787f",
       "version_major": 2,
       "version_minor": 0
      },
      "text/plain": [
       "HBox(children=(IntProgress(value=0, max=26), HTML(value='')))"
      ]
     },
     "metadata": {},
     "output_type": "display_data"
    },
    {
     "name": "stdout",
     "output_type": "stream",
     "text": [
      "task1\n",
      "task2\n"
     ]
    },
    {
     "name": "stderr",
     "output_type": "stream",
     "text": [
      "[2019-04-21 16:48:07,178][INFO] emmental.utils.logging.checkpointer:87 - Save checkpoint of 132 batch at test_run/2019_04_21/16_48_05/checkpoint_132.pth.\n",
      "[2019-04-21 16:48:07,195][INFO] emmental.utils.logging.checkpointer:87 - Save checkpoint of 134 batch at test_run/2019_04_21/16_48_05/checkpoint_134.pth.\n"
     ]
    },
    {
     "name": "stdout",
     "output_type": "stream",
     "text": [
      "task1\n",
      "task2\n",
      "task1\n",
      "task2\n"
     ]
    },
    {
     "name": "stderr",
     "output_type": "stream",
     "text": [
      "[2019-04-21 16:48:07,213][INFO] emmental.utils.logging.checkpointer:87 - Save checkpoint of 136 batch at test_run/2019_04_21/16_48_05/checkpoint_136.pth.\n",
      "[2019-04-21 16:48:07,231][INFO] emmental.utils.logging.checkpointer:87 - Save checkpoint of 138 batch at test_run/2019_04_21/16_48_05/checkpoint_138.pth.\n",
      "[2019-04-21 16:48:07,248][INFO] emmental.utils.logging.checkpointer:87 - Save checkpoint of 140 batch at test_run/2019_04_21/16_48_05/checkpoint_140.pth.\n"
     ]
    },
    {
     "name": "stdout",
     "output_type": "stream",
     "text": [
      "task1\n",
      "task2\n",
      "task1\n",
      "task2\n"
     ]
    },
    {
     "name": "stderr",
     "output_type": "stream",
     "text": [
      "[2019-04-21 16:48:07,267][INFO] emmental.utils.logging.checkpointer:87 - Save checkpoint of 142 batch at test_run/2019_04_21/16_48_05/checkpoint_142.pth.\n",
      "[2019-04-21 16:48:07,283][INFO] emmental.utils.logging.checkpointer:87 - Save checkpoint of 144 batch at test_run/2019_04_21/16_48_05/checkpoint_144.pth.\n",
      "[2019-04-21 16:48:07,300][INFO] emmental.utils.logging.checkpointer:87 - Save checkpoint of 146 batch at test_run/2019_04_21/16_48_05/checkpoint_146.pth.\n"
     ]
    },
    {
     "name": "stdout",
     "output_type": "stream",
     "text": [
      "task1\n",
      "task2\n",
      "task1\n",
      "task2\n",
      "task1\n",
      "task2\n",
      "task1\n"
     ]
    },
    {
     "name": "stderr",
     "output_type": "stream",
     "text": [
      "[2019-04-21 16:48:07,317][INFO] emmental.utils.logging.checkpointer:87 - Save checkpoint of 148 batch at test_run/2019_04_21/16_48_05/checkpoint_148.pth.\n"
     ]
    },
    {
     "name": "stdout",
     "output_type": "stream",
     "text": [
      "task2\n",
      "task1\n"
     ]
    },
    {
     "name": "stderr",
     "output_type": "stream",
     "text": [
      "[2019-04-21 16:48:07,335][INFO] emmental.utils.logging.checkpointer:87 - Save checkpoint of 150 batch at test_run/2019_04_21/16_48_05/checkpoint_150.pth.\n",
      "[2019-04-21 16:48:07,351][INFO] emmental.utils.logging.checkpointer:87 - Save checkpoint of 152 batch at test_run/2019_04_21/16_48_05/checkpoint_152.pth.\n"
     ]
    },
    {
     "name": "stdout",
     "output_type": "stream",
     "text": [
      "task1\n",
      "task1\n",
      "task1\n",
      "task1\n",
      "task1\n"
     ]
    },
    {
     "name": "stderr",
     "output_type": "stream",
     "text": [
      "[2019-04-21 16:48:07,370][INFO] emmental.utils.logging.checkpointer:87 - Save checkpoint of 154 batch at test_run/2019_04_21/16_48_05/checkpoint_154.pth.\n"
     ]
    },
    {
     "name": "stdout",
     "output_type": "stream",
     "text": [
      "task1\n",
      "task1\n"
     ]
    },
    {
     "name": "stderr",
     "output_type": "stream",
     "text": [
      "[2019-04-21 16:48:07,387][INFO] emmental.utils.logging.checkpointer:87 - Save checkpoint of 156 batch at test_run/2019_04_21/16_48_05/checkpoint_156.pth.\n"
     ]
    },
    {
     "name": "stdout",
     "output_type": "stream",
     "text": [
      "\n"
     ]
    },
    {
     "data": {
      "application/vnd.jupyter.widget-view+json": {
       "model_id": "da77231b89d24028909720fe228e32ca",
       "version_major": 2,
       "version_minor": 0
      },
      "text/plain": [
       "HBox(children=(IntProgress(value=0, max=26), HTML(value='')))"
      ]
     },
     "metadata": {},
     "output_type": "display_data"
    },
    {
     "name": "stdout",
     "output_type": "stream",
     "text": [
      "task1\n"
     ]
    },
    {
     "name": "stderr",
     "output_type": "stream",
     "text": [
      "[2019-04-21 16:48:07,429][INFO] emmental.utils.logging.checkpointer:87 - Save checkpoint of 158 batch at test_run/2019_04_21/16_48_05/checkpoint_158.pth.\n",
      "[2019-04-21 16:48:07,447][INFO] emmental.utils.logging.checkpointer:87 - Save checkpoint of 160 batch at test_run/2019_04_21/16_48_05/checkpoint_160.pth.\n"
     ]
    },
    {
     "name": "stdout",
     "output_type": "stream",
     "text": [
      "task2\n",
      "task1\n",
      "task2\n",
      "task1\n",
      "task2\n"
     ]
    },
    {
     "name": "stderr",
     "output_type": "stream",
     "text": [
      "[2019-04-21 16:48:07,466][INFO] emmental.utils.logging.checkpointer:87 - Save checkpoint of 162 batch at test_run/2019_04_21/16_48_05/checkpoint_162.pth.\n",
      "[2019-04-21 16:48:07,485][INFO] emmental.utils.logging.checkpointer:87 - Save checkpoint of 164 batch at test_run/2019_04_21/16_48_05/checkpoint_164.pth.\n",
      "[2019-04-21 16:48:07,502][INFO] emmental.utils.logging.checkpointer:87 - Save checkpoint of 166 batch at test_run/2019_04_21/16_48_05/checkpoint_166.pth.\n"
     ]
    },
    {
     "name": "stdout",
     "output_type": "stream",
     "text": [
      "task1\n",
      "task2\n",
      "task1\n",
      "task2\n"
     ]
    },
    {
     "name": "stderr",
     "output_type": "stream",
     "text": [
      "[2019-04-21 16:48:07,522][INFO] emmental.utils.logging.checkpointer:87 - Save checkpoint of 168 batch at test_run/2019_04_21/16_48_05/checkpoint_168.pth.\n"
     ]
    },
    {
     "name": "stdout",
     "output_type": "stream",
     "text": [
      "task1\n",
      "task2\n"
     ]
    },
    {
     "name": "stderr",
     "output_type": "stream",
     "text": [
      "[2019-04-21 16:48:07,541][INFO] emmental.utils.logging.checkpointer:87 - Save checkpoint of 170 batch at test_run/2019_04_21/16_48_05/checkpoint_170.pth.\n",
      "[2019-04-21 16:48:07,558][INFO] emmental.utils.logging.checkpointer:87 - Save checkpoint of 172 batch at test_run/2019_04_21/16_48_05/checkpoint_172.pth.\n"
     ]
    },
    {
     "name": "stdout",
     "output_type": "stream",
     "text": [
      "task1\n",
      "task2\n",
      "task1\n",
      "task2\n",
      "task1\n",
      "task2\n"
     ]
    },
    {
     "name": "stderr",
     "output_type": "stream",
     "text": [
      "[2019-04-21 16:48:07,574][INFO] emmental.utils.logging.checkpointer:87 - Save checkpoint of 174 batch at test_run/2019_04_21/16_48_05/checkpoint_174.pth.\n",
      "[2019-04-21 16:48:07,590][INFO] emmental.utils.logging.checkpointer:87 - Save checkpoint of 176 batch at test_run/2019_04_21/16_48_05/checkpoint_176.pth.\n"
     ]
    },
    {
     "name": "stdout",
     "output_type": "stream",
     "text": [
      "task1\n",
      "task1\n"
     ]
    },
    {
     "name": "stderr",
     "output_type": "stream",
     "text": [
      "[2019-04-21 16:48:07,608][INFO] emmental.utils.logging.checkpointer:87 - Save checkpoint of 178 batch at test_run/2019_04_21/16_48_05/checkpoint_178.pth.\n"
     ]
    },
    {
     "name": "stdout",
     "output_type": "stream",
     "text": [
      "task1\n",
      "task1\n",
      "task1\n",
      "task1\n"
     ]
    },
    {
     "name": "stderr",
     "output_type": "stream",
     "text": [
      "[2019-04-21 16:48:07,628][INFO] emmental.utils.logging.checkpointer:87 - Save checkpoint of 180 batch at test_run/2019_04_21/16_48_05/checkpoint_180.pth.\n",
      "[2019-04-21 16:48:07,645][INFO] emmental.utils.logging.checkpointer:87 - Save checkpoint of 182 batch at test_run/2019_04_21/16_48_05/checkpoint_182.pth.\n"
     ]
    },
    {
     "name": "stdout",
     "output_type": "stream",
     "text": [
      "task1\n",
      "task1\n",
      "\n"
     ]
    },
    {
     "data": {
      "application/vnd.jupyter.widget-view+json": {
       "model_id": "173e0546a21046b38c0e20015dffebc1",
       "version_major": 2,
       "version_minor": 0
      },
      "text/plain": [
       "HBox(children=(IntProgress(value=0, max=26), HTML(value='')))"
      ]
     },
     "metadata": {},
     "output_type": "display_data"
    },
    {
     "name": "stderr",
     "output_type": "stream",
     "text": [
      "[2019-04-21 16:48:07,686][INFO] emmental.utils.logging.checkpointer:87 - Save checkpoint of 184 batch at test_run/2019_04_21/16_48_05/checkpoint_184.pth.\n",
      "[2019-04-21 16:48:07,703][INFO] emmental.utils.logging.checkpointer:87 - Save checkpoint of 186 batch at test_run/2019_04_21/16_48_05/checkpoint_186.pth.\n"
     ]
    },
    {
     "name": "stdout",
     "output_type": "stream",
     "text": [
      "task1\n",
      "task2\n",
      "task1\n",
      "task2\n",
      "task1\n"
     ]
    },
    {
     "name": "stderr",
     "output_type": "stream",
     "text": [
      "[2019-04-21 16:48:07,720][INFO] emmental.utils.logging.checkpointer:87 - Save checkpoint of 188 batch at test_run/2019_04_21/16_48_05/checkpoint_188.pth.\n"
     ]
    },
    {
     "name": "stdout",
     "output_type": "stream",
     "text": [
      "task2\n",
      "task1\n"
     ]
    },
    {
     "name": "stderr",
     "output_type": "stream",
     "text": [
      "[2019-04-21 16:48:07,737][INFO] emmental.utils.logging.checkpointer:87 - Save checkpoint of 190 batch at test_run/2019_04_21/16_48_05/checkpoint_190.pth.\n",
      "[2019-04-21 16:48:07,754][INFO] emmental.utils.logging.checkpointer:87 - Save checkpoint of 192 batch at test_run/2019_04_21/16_48_05/checkpoint_192.pth.\n",
      "[2019-04-21 16:48:07,773][INFO] emmental.utils.logging.checkpointer:87 - Save checkpoint of 194 batch at test_run/2019_04_21/16_48_05/checkpoint_194.pth.\n"
     ]
    },
    {
     "name": "stdout",
     "output_type": "stream",
     "text": [
      "task2\n",
      "task1\n",
      "task2\n",
      "task1\n",
      "task2\n",
      "task1\n"
     ]
    },
    {
     "name": "stderr",
     "output_type": "stream",
     "text": [
      "[2019-04-21 16:48:07,790][INFO] emmental.utils.logging.checkpointer:87 - Save checkpoint of 196 batch at test_run/2019_04_21/16_48_05/checkpoint_196.pth.\n"
     ]
    },
    {
     "name": "stdout",
     "output_type": "stream",
     "text": [
      "task2\n"
     ]
    },
    {
     "name": "stderr",
     "output_type": "stream",
     "text": [
      "[2019-04-21 16:48:07,809][INFO] emmental.utils.logging.checkpointer:87 - Save checkpoint of 198 batch at test_run/2019_04_21/16_48_05/checkpoint_198.pth.\n"
     ]
    },
    {
     "name": "stdout",
     "output_type": "stream",
     "text": [
      "task1\n",
      "task2\n",
      "task1\n",
      "task2\n"
     ]
    },
    {
     "name": "stderr",
     "output_type": "stream",
     "text": [
      "[2019-04-21 16:48:07,826][INFO] emmental.utils.logging.checkpointer:87 - Save checkpoint of 200 batch at test_run/2019_04_21/16_48_05/checkpoint_200.pth.\n"
     ]
    },
    {
     "name": "stdout",
     "output_type": "stream",
     "text": [
      "task1\n"
     ]
    },
    {
     "name": "stderr",
     "output_type": "stream",
     "text": [
      "[2019-04-21 16:48:07,843][INFO] emmental.utils.logging.checkpointer:87 - Save checkpoint of 202 batch at test_run/2019_04_21/16_48_05/checkpoint_202.pth.\n",
      "[2019-04-21 16:48:07,861][INFO] emmental.utils.logging.checkpointer:87 - Save checkpoint of 204 batch at test_run/2019_04_21/16_48_05/checkpoint_204.pth.\n"
     ]
    },
    {
     "name": "stdout",
     "output_type": "stream",
     "text": [
      "task1\n",
      "task1\n",
      "task1\n",
      "task1\n",
      "task1\n"
     ]
    },
    {
     "name": "stderr",
     "output_type": "stream",
     "text": [
      "[2019-04-21 16:48:07,879][INFO] emmental.utils.logging.checkpointer:87 - Save checkpoint of 206 batch at test_run/2019_04_21/16_48_05/checkpoint_206.pth.\n",
      "[2019-04-21 16:48:07,895][INFO] emmental.utils.logging.checkpointer:87 - Save checkpoint of 208 batch at test_run/2019_04_21/16_48_05/checkpoint_208.pth.\n"
     ]
    },
    {
     "name": "stdout",
     "output_type": "stream",
     "text": [
      "task1\n",
      "task1\n",
      "\n"
     ]
    },
    {
     "data": {
      "application/vnd.jupyter.widget-view+json": {
       "model_id": "ccbfaad785a8479d91c649ced2c528ed",
       "version_major": 2,
       "version_minor": 0
      },
      "text/plain": [
       "HBox(children=(IntProgress(value=0, max=26), HTML(value='')))"
      ]
     },
     "metadata": {},
     "output_type": "display_data"
    },
    {
     "name": "stdout",
     "output_type": "stream",
     "text": [
      "task1\n",
      "task2\n"
     ]
    },
    {
     "name": "stderr",
     "output_type": "stream",
     "text": [
      "[2019-04-21 16:48:07,938][INFO] emmental.utils.logging.checkpointer:87 - Save checkpoint of 210 batch at test_run/2019_04_21/16_48_05/checkpoint_210.pth.\n",
      "[2019-04-21 16:48:07,955][INFO] emmental.utils.logging.checkpointer:87 - Save checkpoint of 212 batch at test_run/2019_04_21/16_48_05/checkpoint_212.pth.\n",
      "[2019-04-21 16:48:07,972][INFO] emmental.utils.logging.checkpointer:87 - Save checkpoint of 214 batch at test_run/2019_04_21/16_48_05/checkpoint_214.pth.\n"
     ]
    },
    {
     "name": "stdout",
     "output_type": "stream",
     "text": [
      "task1\n",
      "task2\n",
      "task1\n",
      "task2\n",
      "task1\n",
      "task2\n"
     ]
    },
    {
     "name": "stderr",
     "output_type": "stream",
     "text": [
      "[2019-04-21 16:48:07,989][INFO] emmental.utils.logging.checkpointer:87 - Save checkpoint of 216 batch at test_run/2019_04_21/16_48_05/checkpoint_216.pth.\n"
     ]
    },
    {
     "name": "stdout",
     "output_type": "stream",
     "text": [
      "task1\n"
     ]
    },
    {
     "name": "stderr",
     "output_type": "stream",
     "text": [
      "[2019-04-21 16:48:08,008][INFO] emmental.utils.logging.checkpointer:87 - Save checkpoint of 218 batch at test_run/2019_04_21/16_48_05/checkpoint_218.pth.\n",
      "[2019-04-21 16:48:08,027][INFO] emmental.utils.logging.checkpointer:87 - Save checkpoint of 220 batch at test_run/2019_04_21/16_48_05/checkpoint_220.pth.\n"
     ]
    },
    {
     "name": "stdout",
     "output_type": "stream",
     "text": [
      "task2\n",
      "task1\n",
      "task2\n",
      "task1\n"
     ]
    },
    {
     "name": "stderr",
     "output_type": "stream",
     "text": [
      "[2019-04-21 16:48:08,044][INFO] emmental.utils.logging.checkpointer:87 - Save checkpoint of 222 batch at test_run/2019_04_21/16_48_05/checkpoint_222.pth.\n",
      "[2019-04-21 16:48:08,063][INFO] emmental.utils.logging.checkpointer:87 - Save checkpoint of 224 batch at test_run/2019_04_21/16_48_05/checkpoint_224.pth.\n",
      "[2019-04-21 16:48:08,079][INFO] emmental.utils.logging.checkpointer:87 - Save checkpoint of 226 batch at test_run/2019_04_21/16_48_05/checkpoint_226.pth.\n"
     ]
    },
    {
     "name": "stdout",
     "output_type": "stream",
     "text": [
      "task2\n",
      "task1\n",
      "task2\n",
      "task1\n",
      "task2\n",
      "task1\n"
     ]
    },
    {
     "name": "stderr",
     "output_type": "stream",
     "text": [
      "[2019-04-21 16:48:08,095][INFO] emmental.utils.logging.checkpointer:87 - Save checkpoint of 228 batch at test_run/2019_04_21/16_48_05/checkpoint_228.pth.\n",
      "[2019-04-21 16:48:08,111][INFO] emmental.utils.logging.checkpointer:87 - Save checkpoint of 230 batch at test_run/2019_04_21/16_48_05/checkpoint_230.pth.\n"
     ]
    },
    {
     "name": "stdout",
     "output_type": "stream",
     "text": [
      "task1\n",
      "task1\n",
      "task1\n",
      "task1\n",
      "task1\n"
     ]
    },
    {
     "name": "stderr",
     "output_type": "stream",
     "text": [
      "[2019-04-21 16:48:08,130][INFO] emmental.utils.logging.checkpointer:87 - Save checkpoint of 232 batch at test_run/2019_04_21/16_48_05/checkpoint_232.pth.\n"
     ]
    },
    {
     "name": "stdout",
     "output_type": "stream",
     "text": [
      "task1\n",
      "task1\n"
     ]
    },
    {
     "name": "stderr",
     "output_type": "stream",
     "text": [
      "[2019-04-21 16:48:08,147][INFO] emmental.utils.logging.checkpointer:87 - Save checkpoint of 234 batch at test_run/2019_04_21/16_48_05/checkpoint_234.pth.\n"
     ]
    },
    {
     "name": "stdout",
     "output_type": "stream",
     "text": [
      "\n"
     ]
    },
    {
     "data": {
      "application/vnd.jupyter.widget-view+json": {
       "model_id": "89278d16bbb445d79ecf773ae2b5cf74",
       "version_major": 2,
       "version_minor": 0
      },
      "text/plain": [
       "HBox(children=(IntProgress(value=0, max=26), HTML(value='')))"
      ]
     },
     "metadata": {},
     "output_type": "display_data"
    },
    {
     "name": "stderr",
     "output_type": "stream",
     "text": [
      "[2019-04-21 16:48:08,189][INFO] emmental.utils.logging.checkpointer:87 - Save checkpoint of 236 batch at test_run/2019_04_21/16_48_05/checkpoint_236.pth.\n"
     ]
    },
    {
     "name": "stdout",
     "output_type": "stream",
     "text": [
      "task1\n",
      "task2\n",
      "task1\n"
     ]
    },
    {
     "name": "stderr",
     "output_type": "stream",
     "text": [
      "[2019-04-21 16:48:08,208][INFO] emmental.utils.logging.checkpointer:87 - Save checkpoint of 238 batch at test_run/2019_04_21/16_48_05/checkpoint_238.pth.\n",
      "[2019-04-21 16:48:08,224][INFO] emmental.utils.logging.checkpointer:87 - Save checkpoint of 240 batch at test_run/2019_04_21/16_48_05/checkpoint_240.pth.\n"
     ]
    },
    {
     "name": "stdout",
     "output_type": "stream",
     "text": [
      "task2\n",
      "task1\n",
      "task2\n",
      "task1\n",
      "task2\n"
     ]
    },
    {
     "name": "stderr",
     "output_type": "stream",
     "text": [
      "[2019-04-21 16:48:08,244][INFO] emmental.utils.logging.checkpointer:87 - Save checkpoint of 242 batch at test_run/2019_04_21/16_48_05/checkpoint_242.pth.\n",
      "[2019-04-21 16:48:08,263][INFO] emmental.utils.logging.checkpointer:87 - Save checkpoint of 244 batch at test_run/2019_04_21/16_48_05/checkpoint_244.pth.\n",
      "[2019-04-21 16:48:08,281][INFO] emmental.utils.logging.checkpointer:87 - Save checkpoint of 246 batch at test_run/2019_04_21/16_48_05/checkpoint_246.pth.\n"
     ]
    },
    {
     "name": "stdout",
     "output_type": "stream",
     "text": [
      "task1\n",
      "task2\n",
      "task1\n",
      "task2\n",
      "task1\n"
     ]
    },
    {
     "name": "stderr",
     "output_type": "stream",
     "text": [
      "[2019-04-21 16:48:08,297][INFO] emmental.utils.logging.checkpointer:87 - Save checkpoint of 248 batch at test_run/2019_04_21/16_48_05/checkpoint_248.pth.\n",
      "[2019-04-21 16:48:08,315][INFO] emmental.utils.logging.checkpointer:87 - Save checkpoint of 250 batch at test_run/2019_04_21/16_48_05/checkpoint_250.pth.\n",
      "[2019-04-21 16:48:08,330][INFO] emmental.utils.logging.checkpointer:87 - Save checkpoint of 252 batch at test_run/2019_04_21/16_48_05/checkpoint_252.pth.\n"
     ]
    },
    {
     "name": "stdout",
     "output_type": "stream",
     "text": [
      "task2\n",
      "task1\n",
      "task2\n",
      "task1\n",
      "task2\n",
      "task1\n"
     ]
    },
    {
     "name": "stderr",
     "output_type": "stream",
     "text": [
      "[2019-04-21 16:48:08,347][INFO] emmental.utils.logging.checkpointer:87 - Save checkpoint of 254 batch at test_run/2019_04_21/16_48_05/checkpoint_254.pth.\n"
     ]
    },
    {
     "name": "stdout",
     "output_type": "stream",
     "text": [
      "task1\n",
      "task1\n"
     ]
    },
    {
     "name": "stderr",
     "output_type": "stream",
     "text": [
      "[2019-04-21 16:48:08,365][INFO] emmental.utils.logging.checkpointer:87 - Save checkpoint of 256 batch at test_run/2019_04_21/16_48_05/checkpoint_256.pth.\n"
     ]
    },
    {
     "name": "stdout",
     "output_type": "stream",
     "text": [
      "task1\n",
      "task1\n",
      "task1\n"
     ]
    },
    {
     "name": "stderr",
     "output_type": "stream",
     "text": [
      "[2019-04-21 16:48:08,383][INFO] emmental.utils.logging.checkpointer:87 - Save checkpoint of 258 batch at test_run/2019_04_21/16_48_05/checkpoint_258.pth.\n"
     ]
    },
    {
     "name": "stdout",
     "output_type": "stream",
     "text": [
      "task1\n",
      "task1\n"
     ]
    },
    {
     "name": "stderr",
     "output_type": "stream",
     "text": [
      "[2019-04-21 16:48:08,400][INFO] emmental.utils.logging.checkpointer:87 - Save checkpoint of 260 batch at test_run/2019_04_21/16_48_05/checkpoint_260.pth.\n"
     ]
    },
    {
     "name": "stdout",
     "output_type": "stream",
     "text": [
      "\n"
     ]
    }
   ],
   "source": [
    "emmental_learner.learn(mtl_model, [train_dataloader1, train_dataloader2, dev_dataloader1, dev_dataloader2])"
   ]
  },
  {
   "cell_type": "code",
   "execution_count": 23,
   "metadata": {},
   "outputs": [
    {
     "name": "stdout",
     "output_type": "stream",
     "text": [
      "10\n",
      "{'task1': array([[ 3.3763626 , -2.6723883 ],\n",
      "       [ 0.8226491 , -0.18968889],\n",
      "       [ 3.927062  , -3.2955348 ],\n",
      "       [ 6.621683  , -5.8604445 ],\n",
      "       [-4.945589  ,  5.602937  ],\n",
      "       [-1.4044039 ,  2.0851412 ],\n",
      "       [ 5.603264  , -4.786127  ],\n",
      "       [ 1.2719544 , -1.030221  ],\n",
      "       [10.447557  , -9.840096  ],\n",
      "       [ 2.6894565 , -1.8385053 ]], dtype=float32)} (10, 2)\n",
      "10\n",
      "{'task1': array([[-0.29674512,  1.170855  ],\n",
      "       [ 5.0762324 , -4.36474   ],\n",
      "       [ 7.158088  , -6.6200213 ],\n",
      "       [10.413454  , -9.712308  ],\n",
      "       [ 0.19021752,  0.3522745 ],\n",
      "       [ 7.1314726 , -6.481497  ],\n",
      "       [ 2.679564  , -2.077981  ],\n",
      "       [ 7.9753075 , -7.4780774 ],\n",
      "       [ 1.5555325 , -0.8830082 ],\n",
      "       [-1.277692  ,  2.0815458 ]], dtype=float32)} (10, 2)\n",
      "10\n",
      "{'task1': array([[ 2.2034302 , -1.6975741 ],\n",
      "       [-5.810766  ,  6.2242656 ],\n",
      "       [ 1.5861552 , -0.87001497],\n",
      "       [ 0.24973741,  0.05459882],\n",
      "       [ 1.8313481 , -1.3759921 ],\n",
      "       [-0.05525151,  0.624285  ],\n",
      "       [-8.468811  ,  8.989747  ],\n",
      "       [ 0.6407317 , -0.320301  ],\n",
      "       [-3.0955598 ,  3.5944896 ],\n",
      "       [-1.1794943 ,  1.6185932 ]], dtype=float32)} (10, 2)\n",
      "10\n",
      "{'task1': array([[ 0.5906755 , -0.31103563],\n",
      "       [-4.4623494 ,  4.903439  ],\n",
      "       [ 3.1737006 , -2.750969  ],\n",
      "       [-6.71719   ,  7.1860466 ],\n",
      "       [-6.911986  ,  7.385349  ],\n",
      "       [-4.0978765 ,  4.802535  ],\n",
      "       [-2.5251653 ,  3.2994766 ],\n",
      "       [-6.5041103 ,  6.91919   ],\n",
      "       [-0.633945  ,  0.9552642 ],\n",
      "       [-0.7950294 ,  1.1195457 ]], dtype=float32)} (10, 2)\n",
      "10\n",
      "{'task1': array([[ 2.3887029 , -1.9067707 ],\n",
      "       [ 8.351113  , -7.8022304 ],\n",
      "       [-2.0207186 ,  2.5002165 ],\n",
      "       [-3.5361328 ,  3.915225  ],\n",
      "       [ 5.5606804 , -4.739314  ],\n",
      "       [ 5.311664  , -4.7002587 ],\n",
      "       [ 7.896076  , -7.314982  ],\n",
      "       [ 0.02368382,  0.3317647 ],\n",
      "       [-5.074172  ,  5.4342837 ],\n",
      "       [-7.87234   ,  8.296352  ]], dtype=float32)} (10, 2)\n",
      "10\n",
      "{'task1': array([[-3.1691396 ,  3.683923  ],\n",
      "       [ 4.220359  , -3.335046  ],\n",
      "       [ 5.010207  , -4.46608   ],\n",
      "       [ 1.2552088 , -0.6114439 ],\n",
      "       [ 9.645356  , -8.916478  ],\n",
      "       [ 5.9936743 , -5.2527823 ],\n",
      "       [-3.0858479 ,  3.621054  ],\n",
      "       [-3.1748767 ,  3.7945285 ],\n",
      "       [-1.7641929 ,  2.498144  ],\n",
      "       [-0.48359576,  1.2745614 ]], dtype=float32)} (10, 2)\n",
      "10\n",
      "{'task1': array([[-1.0051091 ,  1.6520851 ],\n",
      "       [-1.8487486 ,  2.636932  ],\n",
      "       [ 3.4678137 , -2.8564034 ],\n",
      "       [ 4.313656  , -3.9777393 ],\n",
      "       [-2.7462428 ,  3.2660532 ],\n",
      "       [-0.68579197,  1.2639601 ],\n",
      "       [ 3.018949  , -2.6502886 ],\n",
      "       [ 1.7092589 , -1.0625188 ],\n",
      "       [ 2.383366  , -1.7035003 ],\n",
      "       [-1.0235065 ,  1.6131201 ]], dtype=float32)} (10, 2)\n",
      "10\n",
      "{'task1': array([[-4.4040384 ,  5.033405  ],\n",
      "       [ 6.6420345 , -5.88123   ],\n",
      "       [ 0.46417162,  0.3102302 ],\n",
      "       [10.588064  , -9.912551  ],\n",
      "       [ 4.870981  , -3.973147  ],\n",
      "       [ 9.461873  , -8.7980175 ],\n",
      "       [ 6.3983345 , -5.85962   ],\n",
      "       [ 9.506037  , -8.8600445 ],\n",
      "       [-1.1076812 ,  1.8135707 ],\n",
      "       [-2.5685263 ,  2.9006038 ]], dtype=float32)} (10, 2)\n",
      "10\n",
      "{'task1': array([[-1.2573135 ,  1.8716464 ],\n",
      "       [ 3.253721  , -2.4212322 ],\n",
      "       [ 0.39218584,  0.50993955],\n",
      "       [ 5.070293  , -4.7067604 ],\n",
      "       [-4.8713503 ,  5.3513308 ],\n",
      "       [-3.9704947 ,  4.328705  ],\n",
      "       [-0.91556895,  1.1604394 ],\n",
      "       [-4.9546804 ,  5.480233  ],\n",
      "       [ 8.038583  , -7.2861056 ],\n",
      "       [-6.2125444 ,  6.6135526 ]], dtype=float32)} (10, 2)\n",
      "10\n",
      "{'task1': array([[ 6.4430356, -5.9006467],\n",
      "       [-2.4537401,  2.92234  ],\n",
      "       [-1.959836 ,  2.7262096],\n",
      "       [ 2.0691333, -1.4330494],\n",
      "       [-3.2491143,  3.8008025],\n",
      "       [-0.843835 ,  1.245112 ],\n",
      "       [ 9.947068 , -9.23339  ],\n",
      "       [-1.2853373,  1.9309962],\n",
      "       [ 1.5170909, -1.1436467],\n",
      "       [ 5.431146 , -5.015881 ]], dtype=float32)} (10, 2)\n",
      "10\n",
      "{'task1': array([[ 5.719658  , -5.09548   ],\n",
      "       [-0.97255385,  1.3523252 ],\n",
      "       [ 1.5428852 , -1.3250299 ],\n",
      "       [-1.0606207 ,  1.6696925 ],\n",
      "       [ 5.6085906 , -4.8155427 ],\n",
      "       [-7.1610374 ,  7.741217  ],\n",
      "       [-3.0872297 ,  3.5942345 ],\n",
      "       [ 9.583801  , -9.014132  ],\n",
      "       [ 2.0103312 , -1.5435276 ],\n",
      "       [ 4.290123  , -3.5152755 ]], dtype=float32)} (10, 2)\n",
      "10\n",
      "{'task1': array([[ 4.3320713 , -3.5239363 ],\n",
      "       [ 7.309913  , -6.645114  ],\n",
      "       [10.050511  , -9.332698  ],\n",
      "       [-3.9043088 ,  4.394118  ],\n",
      "       [-0.74942553,  1.5793974 ],\n",
      "       [ 0.7554766 , -0.39514285],\n",
      "       [-4.271663  ,  4.614387  ],\n",
      "       [ 3.7035847 , -3.2490468 ],\n",
      "       [ 2.3521295 , -1.8283753 ],\n",
      "       [ 4.821129  , -4.2630253 ]], dtype=float32)} (10, 2)\n",
      "10\n",
      "{'task1': array([[-6.9439764,  7.435958 ],\n",
      "       [-3.0315158,  3.428345 ],\n",
      "       [-2.1324604,  2.7231853],\n",
      "       [-2.958096 ,  3.3953059],\n",
      "       [ 5.1136174, -4.6452518],\n",
      "       [ 8.070609 , -7.308787 ],\n",
      "       [ 1.4239401, -0.638768 ],\n",
      "       [-7.7694716,  8.255834 ],\n",
      "       [ 1.8273004, -1.1890893],\n",
      "       [-5.98334  ,  6.593547 ]], dtype=float32)} (10, 2)\n",
      "10\n",
      "{'task1': array([[ -0.41060397,   0.7093296 ],\n",
      "       [ 11.609888  , -10.954051  ],\n",
      "       [  2.8772254 ,  -2.1016622 ],\n",
      "       [  4.772477  ,  -4.2133503 ],\n",
      "       [  5.9596915 ,  -5.516515  ],\n",
      "       [  0.61040926,   0.30287418],\n",
      "       [  8.503827  ,  -7.7363753 ],\n",
      "       [  9.51251   ,  -8.782832  ],\n",
      "       [  0.1062116 ,   0.7568954 ],\n",
      "       [  4.335174  ,  -3.5257692 ]], dtype=float32)} (10, 2)\n",
      "10\n",
      "{'task1': array([[ 7.688369 , -6.991806 ],\n",
      "       [-5.4926143,  5.858501 ],\n",
      "       [-1.006824 ,  1.36149  ],\n",
      "       [-4.0434427,  4.754655 ],\n",
      "       [ 3.0559077, -2.4058306],\n",
      "       [-1.3676285,  1.7228744],\n",
      "       [-5.6561255,  6.172686 ],\n",
      "       [-1.8985692,  2.340722 ],\n",
      "       [ 9.950867 , -9.30532  ],\n",
      "       [ 1.6356732, -0.6806716]], dtype=float32)} (10, 2)\n",
      "10\n",
      "{'task1': array([[ 0.19143978,  0.64850944],\n",
      "       [-1.6303222 ,  1.9465759 ],\n",
      "       [-0.68222237,  1.097606  ],\n",
      "       [ 0.2178846 ,  0.02482799],\n",
      "       [-6.6776195 ,  7.0744724 ],\n",
      "       [-5.5956144 ,  6.0750055 ],\n",
      "       [ 1.2088739 , -0.96336466],\n",
      "       [-3.3919296 ,  3.8924186 ],\n",
      "       [ 2.9363585 , -2.3509698 ],\n",
      "       [ 0.14469752,  0.65762424]], dtype=float32)} (10, 2)\n",
      "1\n",
      "{'task1': array([[-0.36848933,  0.69187856]], dtype=float32)} (1, 2)\n"
     ]
    }
   ],
   "source": [
    "for x, y in train_dataloader1:\n",
    "    print(len(next(iter(y.values()))))\n",
    "    res = mtl_model._calculate_probs(x, [train_dataloader1.task_name])\n",
    "    print(res, res['task1'].shape)"
   ]
  },
  {
   "cell_type": "code",
   "execution_count": 24,
   "metadata": {},
   "outputs": [
    {
     "data": {
      "text/plain": [
       "(defaultdict(list,\n",
       "             {'task1': array([1, 1, 1, 1, 2, 2, 1, 1, 1, 1, 2, 1, 1, 1, 1, 1, 1, 1, 1, 2, 1, 2,\n",
       "                     1, 1, 1, 2, 2, 1, 2, 2, 1, 2, 1, 2, 2, 2, 2, 2, 2, 2, 1, 1, 2, 2,\n",
       "                     1, 1, 1, 1, 2, 2, 2, 1, 1, 1, 1, 1, 2, 2, 2, 2, 2, 2, 1, 1, 2, 2,\n",
       "                     1, 1, 1, 2, 2, 1, 1, 1, 1, 1, 1, 1, 2, 2, 2, 1, 1, 1, 2, 2, 2, 2,\n",
       "                     1, 2, 1, 2, 2, 1, 2, 2, 1, 2, 1, 1, 1, 2, 1, 2, 1, 2, 2, 1, 1, 1,\n",
       "                     1, 1, 1, 2, 2, 1, 2, 1, 1, 1, 2, 2, 2, 2, 1, 1, 1, 2, 1, 2, 2, 1,\n",
       "                     1, 1, 1, 1, 1, 1, 2, 1, 1, 2, 2, 2, 1, 2, 2, 2, 1, 1, 2, 2, 2, 1,\n",
       "                     2, 2, 1, 2, 1, 2, 2])}),\n",
       " defaultdict(list, {'task1': array([[  3.3763626 ,  -2.6723883 ],\n",
       "                     [  0.8226491 ,  -0.18968889],\n",
       "                     [  3.927062  ,  -3.2955348 ],\n",
       "                     [  6.621683  ,  -5.8604445 ],\n",
       "                     [ -4.945589  ,   5.602937  ],\n",
       "                     [ -1.4044039 ,   2.0851412 ],\n",
       "                     [  5.603264  ,  -4.786127  ],\n",
       "                     [  1.2719544 ,  -1.030221  ],\n",
       "                     [ 10.447557  ,  -9.840096  ],\n",
       "                     [  2.6894565 ,  -1.8385053 ],\n",
       "                     [ -0.29674512,   1.170855  ],\n",
       "                     [  5.0762324 ,  -4.36474   ],\n",
       "                     [  7.158088  ,  -6.6200213 ],\n",
       "                     [ 10.413454  ,  -9.712308  ],\n",
       "                     [  0.19021752,   0.3522745 ],\n",
       "                     [  7.1314726 ,  -6.481497  ],\n",
       "                     [  2.679564  ,  -2.077981  ],\n",
       "                     [  7.9753075 ,  -7.4780774 ],\n",
       "                     [  1.5555325 ,  -0.8830082 ],\n",
       "                     [ -1.277692  ,   2.0815458 ],\n",
       "                     [  2.2034302 ,  -1.6975741 ],\n",
       "                     [ -5.810766  ,   6.2242656 ],\n",
       "                     [  1.5861552 ,  -0.87001497],\n",
       "                     [  0.24973741,   0.05459882],\n",
       "                     [  1.8313481 ,  -1.3759921 ],\n",
       "                     [ -0.05525151,   0.624285  ],\n",
       "                     [ -8.468811  ,   8.989747  ],\n",
       "                     [  0.6407317 ,  -0.320301  ],\n",
       "                     [ -3.0955598 ,   3.5944896 ],\n",
       "                     [ -1.1794943 ,   1.6185932 ],\n",
       "                     [  0.5906755 ,  -0.31103563],\n",
       "                     [ -4.4623494 ,   4.903439  ],\n",
       "                     [  3.1737006 ,  -2.750969  ],\n",
       "                     [ -6.71719   ,   7.1860466 ],\n",
       "                     [ -6.911986  ,   7.385349  ],\n",
       "                     [ -4.0978765 ,   4.802535  ],\n",
       "                     [ -2.5251653 ,   3.2994766 ],\n",
       "                     [ -6.5041103 ,   6.91919   ],\n",
       "                     [ -0.633945  ,   0.9552642 ],\n",
       "                     [ -0.7950294 ,   1.1195457 ],\n",
       "                     [  2.3887029 ,  -1.9067707 ],\n",
       "                     [  8.351113  ,  -7.8022304 ],\n",
       "                     [ -2.0207186 ,   2.5002165 ],\n",
       "                     [ -3.5361328 ,   3.915225  ],\n",
       "                     [  5.5606804 ,  -4.739314  ],\n",
       "                     [  5.311664  ,  -4.7002587 ],\n",
       "                     [  7.896076  ,  -7.314982  ],\n",
       "                     [  0.02368382,   0.3317647 ],\n",
       "                     [ -5.074172  ,   5.4342837 ],\n",
       "                     [ -7.87234   ,   8.296352  ],\n",
       "                     [ -3.1691396 ,   3.683923  ],\n",
       "                     [  4.220359  ,  -3.335046  ],\n",
       "                     [  5.010207  ,  -4.46608   ],\n",
       "                     [  1.2552088 ,  -0.6114439 ],\n",
       "                     [  9.645356  ,  -8.916478  ],\n",
       "                     [  5.9936743 ,  -5.2527823 ],\n",
       "                     [ -3.0858479 ,   3.621054  ],\n",
       "                     [ -3.1748767 ,   3.7945285 ],\n",
       "                     [ -1.7641929 ,   2.498144  ],\n",
       "                     [ -0.48359576,   1.2745614 ],\n",
       "                     [ -1.0051091 ,   1.6520851 ],\n",
       "                     [ -1.8487486 ,   2.636932  ],\n",
       "                     [  3.4678137 ,  -2.8564034 ],\n",
       "                     [  4.313656  ,  -3.9777393 ],\n",
       "                     [ -2.7462428 ,   3.2660532 ],\n",
       "                     [ -0.68579197,   1.2639601 ],\n",
       "                     [  3.018949  ,  -2.6502886 ],\n",
       "                     [  1.7092589 ,  -1.0625188 ],\n",
       "                     [  2.383366  ,  -1.7035003 ],\n",
       "                     [ -1.0235065 ,   1.6131201 ],\n",
       "                     [ -4.4040384 ,   5.033405  ],\n",
       "                     [  6.6420345 ,  -5.88123   ],\n",
       "                     [  0.46417162,   0.3102302 ],\n",
       "                     [ 10.588064  ,  -9.912551  ],\n",
       "                     [  4.870981  ,  -3.973147  ],\n",
       "                     [  9.461873  ,  -8.7980175 ],\n",
       "                     [  6.3983345 ,  -5.85962   ],\n",
       "                     [  9.506037  ,  -8.8600445 ],\n",
       "                     [ -1.1076812 ,   1.8135707 ],\n",
       "                     [ -2.5685263 ,   2.9006038 ],\n",
       "                     [ -1.2573135 ,   1.8716464 ],\n",
       "                     [  3.253721  ,  -2.4212322 ],\n",
       "                     [  0.39218584,   0.50993955],\n",
       "                     [  5.070293  ,  -4.7067604 ],\n",
       "                     [ -4.8713503 ,   5.3513308 ],\n",
       "                     [ -3.9704947 ,   4.328705  ],\n",
       "                     [ -0.91556895,   1.1604394 ],\n",
       "                     [ -4.9546804 ,   5.480233  ],\n",
       "                     [  8.038583  ,  -7.2861056 ],\n",
       "                     [ -6.2125444 ,   6.6135526 ],\n",
       "                     [  6.4430356 ,  -5.9006467 ],\n",
       "                     [ -2.4537401 ,   2.92234   ],\n",
       "                     [ -1.959836  ,   2.7262096 ],\n",
       "                     [  2.0691333 ,  -1.4330494 ],\n",
       "                     [ -3.2491143 ,   3.8008025 ],\n",
       "                     [ -0.843835  ,   1.245112  ],\n",
       "                     [  9.947068  ,  -9.23339   ],\n",
       "                     [ -1.2853373 ,   1.9309962 ],\n",
       "                     [  1.5170909 ,  -1.1436467 ],\n",
       "                     [  5.431146  ,  -5.015881  ],\n",
       "                     [  5.719658  ,  -5.09548   ],\n",
       "                     [ -0.97255385,   1.3523252 ],\n",
       "                     [  1.5428852 ,  -1.3250299 ],\n",
       "                     [ -1.0606207 ,   1.6696925 ],\n",
       "                     [  5.6085906 ,  -4.8155427 ],\n",
       "                     [ -7.1610374 ,   7.741217  ],\n",
       "                     [ -3.0872297 ,   3.5942345 ],\n",
       "                     [  9.583801  ,  -9.014132  ],\n",
       "                     [  2.0103312 ,  -1.5435276 ],\n",
       "                     [  4.290123  ,  -3.5152755 ],\n",
       "                     [  4.3320713 ,  -3.5239363 ],\n",
       "                     [  7.309913  ,  -6.645114  ],\n",
       "                     [ 10.050511  ,  -9.332698  ],\n",
       "                     [ -3.9043088 ,   4.394118  ],\n",
       "                     [ -0.74942553,   1.5793974 ],\n",
       "                     [  0.7554766 ,  -0.39514285],\n",
       "                     [ -4.271663  ,   4.614387  ],\n",
       "                     [  3.7035847 ,  -3.2490468 ],\n",
       "                     [  2.3521295 ,  -1.8283753 ],\n",
       "                     [  4.821129  ,  -4.2630253 ],\n",
       "                     [ -6.9439764 ,   7.435958  ],\n",
       "                     [ -3.0315158 ,   3.428345  ],\n",
       "                     [ -2.1324604 ,   2.7231853 ],\n",
       "                     [ -2.958096  ,   3.3953059 ],\n",
       "                     [  5.1136174 ,  -4.6452518 ],\n",
       "                     [  8.070609  ,  -7.308787  ],\n",
       "                     [  1.4239401 ,  -0.638768  ],\n",
       "                     [ -7.7694716 ,   8.255834  ],\n",
       "                     [  1.8273004 ,  -1.1890893 ],\n",
       "                     [ -5.98334   ,   6.593547  ],\n",
       "                     [ -0.41060397,   0.7093296 ],\n",
       "                     [ 11.609888  , -10.954051  ],\n",
       "                     [  2.8772254 ,  -2.1016622 ],\n",
       "                     [  4.772477  ,  -4.2133503 ],\n",
       "                     [  5.9596915 ,  -5.516515  ],\n",
       "                     [  0.61040926,   0.30287418],\n",
       "                     [  8.503827  ,  -7.7363753 ],\n",
       "                     [  9.51251   ,  -8.782832  ],\n",
       "                     [  0.1062116 ,   0.7568954 ],\n",
       "                     [  4.335174  ,  -3.5257692 ],\n",
       "                     [  7.688369  ,  -6.991806  ],\n",
       "                     [ -5.4926143 ,   5.858501  ],\n",
       "                     [ -1.006824  ,   1.36149   ],\n",
       "                     [ -4.0434427 ,   4.754655  ],\n",
       "                     [  3.0559077 ,  -2.4058306 ],\n",
       "                     [ -1.3676285 ,   1.7228744 ],\n",
       "                     [ -5.6561255 ,   6.172686  ],\n",
       "                     [ -1.8985692 ,   2.340722  ],\n",
       "                     [  9.950867  ,  -9.30532   ],\n",
       "                     [  1.6356732 ,  -0.6806716 ],\n",
       "                     [  0.19143978,   0.64850944],\n",
       "                     [ -1.6303222 ,   1.9465759 ],\n",
       "                     [ -0.68222237,   1.097606  ],\n",
       "                     [  0.2178846 ,   0.02482799],\n",
       "                     [ -6.6776195 ,   7.0744724 ],\n",
       "                     [ -5.5956144 ,   6.0750055 ],\n",
       "                     [  1.2088739 ,  -0.96336466],\n",
       "                     [ -3.3919296 ,   3.8924186 ],\n",
       "                     [  2.9363585 ,  -2.3509698 ],\n",
       "                     [  0.14469752,   0.65762424],\n",
       "                     [ -0.36848933,   0.69187856]], dtype=float32)}),\n",
       " defaultdict(list,\n",
       "             {'task1': array([1, 1, 1, 1, 2, 2, 1, 1, 1, 1, 2, 1, 1, 1, 2, 1, 1, 1, 1, 2, 1, 2,\n",
       "                     1, 1, 1, 2, 2, 1, 2, 2, 1, 2, 1, 2, 2, 2, 2, 2, 2, 2, 1, 1, 2, 2,\n",
       "                     1, 1, 1, 2, 2, 2, 2, 1, 1, 1, 1, 1, 2, 2, 2, 2, 2, 2, 1, 1, 2, 2,\n",
       "                     1, 1, 1, 2, 2, 1, 1, 1, 1, 1, 1, 1, 2, 2, 2, 1, 2, 1, 2, 2, 2, 2,\n",
       "                     1, 2, 1, 2, 2, 1, 2, 2, 1, 2, 1, 1, 1, 2, 1, 2, 1, 2, 2, 1, 1, 1,\n",
       "                     1, 1, 1, 2, 2, 1, 2, 1, 1, 1, 2, 2, 2, 2, 1, 1, 1, 2, 1, 2, 2, 1,\n",
       "                     1, 1, 1, 1, 1, 1, 2, 1, 1, 2, 2, 2, 1, 2, 2, 2, 1, 1, 2, 2, 2, 1,\n",
       "                     2, 2, 1, 2, 1, 2, 2])}))"
      ]
     },
     "execution_count": 24,
     "metadata": {},
     "output_type": "execute_result"
    }
   ],
   "source": [
    "mtl_model.predict(train_dataloader1, return_preds=True)"
   ]
  },
  {
   "cell_type": "code",
   "execution_count": 25,
   "metadata": {},
   "outputs": [
    {
     "data": {
      "text/plain": [
       "{'task1/da1/train/f1': 0.9824561403508771,\n",
       " 'task1/da1/train/accuracy': 0.9813664596273292}"
      ]
     },
     "execution_count": 25,
     "metadata": {},
     "output_type": "execute_result"
    }
   ],
   "source": [
    "mtl_model.score(train_dataloader1)"
   ]
  },
  {
   "cell_type": "code",
   "execution_count": 26,
   "metadata": {},
   "outputs": [
    {
     "data": {
      "text/plain": [
       "False"
      ]
     },
     "execution_count": 26,
     "metadata": {},
     "output_type": "execute_result"
    }
   ],
   "source": [
    "from collections.abc import Iterable\n",
    "\n",
    "isinstance(train_dataloader1, list)"
   ]
  },
  {
   "cell_type": "code",
   "execution_count": 27,
   "metadata": {},
   "outputs": [],
   "source": [
    "a = np.array([1,0,1,0,1,0])\n",
    "b = np.array([1,1,1,1,1,0])"
   ]
  },
  {
   "cell_type": "code",
   "execution_count": 28,
   "metadata": {},
   "outputs": [],
   "source": [
    "from emmental.metrics.accuracy import accuracy_scorer\n",
    "from emmental.metrics.fbeta import f1_scorer, fbeta_scorer\n",
    "from emmental.metrics.precision import precision_scorer\n",
    "from emmental.metrics.recall import recall_scorer"
   ]
  },
  {
   "cell_type": "code",
   "execution_count": 29,
   "metadata": {},
   "outputs": [
    {
     "data": {
      "text/plain": [
       "{'accuracy': 0.6666666666666666}"
      ]
     },
     "execution_count": 29,
     "metadata": {},
     "output_type": "execute_result"
    }
   ],
   "source": [
    "accuracy_scorer(a, b, b)"
   ]
  },
  {
   "cell_type": "code",
   "execution_count": 30,
   "metadata": {},
   "outputs": [],
   "source": [
    "from emmental.metrics import METRICS"
   ]
  },
  {
   "cell_type": "code",
   "execution_count": 31,
   "metadata": {},
   "outputs": [
    {
     "data": {
      "text/plain": [
       "{'accuracy': <function emmental.metrics.accuracy.accuracy_scorer(gold, probs, preds, normalize=True)>,\n",
       " 'precision': <function emmental.metrics.precision.precision_scorer(gold, probs, preds, pos_label=1)>,\n",
       " 'recall': <function emmental.metrics.recall.recall_scorer(gold, probs, preds, pos_label=1)>,\n",
       " 'f1': <function emmental.metrics.fbeta.f1_scorer(gold, probs, preds, pos_label=1)>,\n",
       " 'fbeta': <function emmental.metrics.fbeta.fbeta_scorer(gold, probs, preds, pos_label=1, beta=1)>,\n",
       " 'matthews_correlation': <function emmental.metrics.matthews_correlation.matthews_correlation_coefficient_scorer(gold, probs, preds)>,\n",
       " 'mean_squared_error': <function emmental.metrics.mean_squared_error.mean_squared_error_scorer(gold, probs, preds)>,\n",
       " 'pearson_correlation': <function emmental.metrics.pearson_correlation.pearson_correlation_scorer(gold, probs, preds)>,\n",
       " 'pearson_spearman': <function emmental.metrics.pearson_spearman.pearson_spearman_scorer(gold, probs, preds)>,\n",
       " 'spearman_correlation': <function emmental.metrics.spearman_correlation.spearman_correlation_scorer(gold, probs, preds)>}"
      ]
     },
     "execution_count": 31,
     "metadata": {},
     "output_type": "execute_result"
    }
   ],
   "source": [
    "METRICS"
   ]
  },
  {
   "cell_type": "code",
   "execution_count": 32,
   "metadata": {},
   "outputs": [
    {
     "data": {
      "text/plain": [
       "{'accuracy': 0.6666666666666666}"
      ]
     },
     "execution_count": 32,
     "metadata": {},
     "output_type": "execute_result"
    }
   ],
   "source": [
    "METRICS[\"accuracy\"](a,b,b)"
   ]
  },
  {
   "cell_type": "code",
   "execution_count": 33,
   "metadata": {},
   "outputs": [],
   "source": [
    "c = ['1', '2', '3', '4']\n",
    "d = ['1', '1', '1', '1']"
   ]
  },
  {
   "cell_type": "code",
   "execution_count": 34,
   "metadata": {},
   "outputs": [
    {
     "data": {
      "text/plain": [
       "array([0, 2, 4, 5])"
      ]
     },
     "execution_count": 34,
     "metadata": {},
     "output_type": "execute_result"
    }
   ],
   "source": [
    "np.where(a == b)[0]"
   ]
  },
  {
   "cell_type": "code",
   "execution_count": 35,
   "metadata": {},
   "outputs": [
    {
     "data": {
      "text/plain": [
       "(array([0, 0, 0, 0]), array([0, 2, 4, 5]))"
      ]
     },
     "execution_count": 35,
     "metadata": {},
     "output_type": "execute_result"
    }
   ],
   "source": [
    "np.where([a == b])"
   ]
  },
  {
   "cell_type": "code",
   "execution_count": 36,
   "metadata": {},
   "outputs": [
    {
     "data": {
      "text/plain": [
       "(array([], dtype=int64),)"
      ]
     },
     "execution_count": 36,
     "metadata": {},
     "output_type": "execute_result"
    }
   ],
   "source": [
    "np.where(c == d)\n",
    "# np.where([c == d])"
   ]
  },
  {
   "cell_type": "code",
   "execution_count": 37,
   "metadata": {},
   "outputs": [
    {
     "data": {
      "text/plain": [
       "4"
      ]
     },
     "execution_count": 37,
     "metadata": {},
     "output_type": "execute_result"
    }
   ],
   "source": [
    "np.where(a == b)[0].shape[0]"
   ]
  },
  {
   "cell_type": "code",
   "execution_count": 38,
   "metadata": {},
   "outputs": [
    {
     "data": {
      "text/plain": [
       "0.6666666666666666"
      ]
     },
     "execution_count": 38,
     "metadata": {},
     "output_type": "execute_result"
    }
   ],
   "source": [
    "2/3"
   ]
  },
  {
   "cell_type": "code",
   "execution_count": 39,
   "metadata": {},
   "outputs": [
    {
     "data": {
      "text/plain": [
       "{'precision': 1.0}"
      ]
     },
     "execution_count": 39,
     "metadata": {},
     "output_type": "execute_result"
    }
   ],
   "source": [
    "precision_scorer(b, a, a)"
   ]
  },
  {
   "cell_type": "code",
   "execution_count": 40,
   "metadata": {},
   "outputs": [
    {
     "data": {
      "text/plain": [
       "{'recall': 0.6}"
      ]
     },
     "execution_count": 40,
     "metadata": {},
     "output_type": "execute_result"
    }
   ],
   "source": [
    "recall_scorer(b, a, a)"
   ]
  },
  {
   "cell_type": "code",
   "execution_count": 41,
   "metadata": {},
   "outputs": [
    {
     "data": {
      "text/plain": [
       "{'f1': 0.7499999999999999}"
      ]
     },
     "execution_count": 41,
     "metadata": {},
     "output_type": "execute_result"
    }
   ],
   "source": [
    "f1_scorer(b,a,a)"
   ]
  },
  {
   "cell_type": "code",
   "execution_count": 42,
   "metadata": {},
   "outputs": [
    {
     "name": "stdout",
     "output_type": "stream",
     "text": [
      "{'pearson_correlation': 0.4472135954999579, 'pearson_pvalue': 0.37390096630005887, 'spearman_correlation': 0.447213595499958, 'spearman_pvalue': 0.3739009663000589}\n"
     ]
    }
   ],
   "source": [
    "from emmental.metrics import METRICS\n",
    "\n",
    "metrics = METRICS\n",
    "\n",
    "golds = np.array([1,0,1,0,1,0])\n",
    "preds = np.array([1,1,1,1,1,0])\n",
    "probs = np.array([0.8,0.6,0.9,0.7,0.7,0.2])\n",
    "\n",
    "res = dict()\n",
    "\n",
    "for metric_name, metric in metrics.items():\n",
    "    res.update(metric(golds, probs, preds))\n",
    "\n",
    "# res = {metric_name: metric(golds, preds, probs) for metric_name, metric in metrics.items()}"
   ]
  },
  {
   "cell_type": "code",
   "execution_count": 43,
   "metadata": {},
   "outputs": [
    {
     "data": {
      "text/plain": [
       "{'accuracy': 0.6666666666666666,\n",
       " 'precision': 0.6,\n",
       " 'recall': 1.0,\n",
       " 'f1': 0.7499999999999999,\n",
       " 'matthews_corrcoef': 0.4472135954999579,\n",
       " 'mean_squared_error': 0.17166666666666666,\n",
       " 'pearson_correlation': 0.4472135954999579,\n",
       " 'pearson_pvalue': 0.37390096630005887,\n",
       " 'spearman_correlation': 0.447213595499958,\n",
       " 'spearman_pvalue': 0.3739009663000589,\n",
       " 'pearson_spearman': 0.447213595499958}"
      ]
     },
     "execution_count": 43,
     "metadata": {},
     "output_type": "execute_result"
    }
   ],
   "source": [
    "res"
   ]
  },
  {
   "cell_type": "code",
   "execution_count": 44,
   "metadata": {},
   "outputs": [
    {
     "data": {
      "text/plain": [
       "{'f1': 0.0}"
      ]
     },
     "execution_count": 44,
     "metadata": {},
     "output_type": "execute_result"
    }
   ],
   "source": [
    "metrics['f1'](golds, preds, probs)"
   ]
  },
  {
   "cell_type": "code",
   "execution_count": 45,
   "metadata": {},
   "outputs": [],
   "source": [
    "from emmental.scorer import Scorer"
   ]
  },
  {
   "cell_type": "code",
   "execution_count": 46,
   "metadata": {},
   "outputs": [],
   "source": [
    "def sum(gold, preds, probs):\n",
    "    return np.sum(preds)"
   ]
  },
  {
   "cell_type": "code",
   "execution_count": 47,
   "metadata": {},
   "outputs": [],
   "source": [
    "scorer = Scorer(metrics=['accuracy', 'f1'], customize_metric_funcs={\"sum\": sum})"
   ]
  },
  {
   "cell_type": "code",
   "execution_count": 48,
   "metadata": {},
   "outputs": [
    {
     "data": {
      "text/plain": [
       "{'accuracy': 0.0, 'f1': 0.0, 'sum': 5}"
      ]
     },
     "execution_count": 48,
     "metadata": {},
     "output_type": "execute_result"
    }
   ],
   "source": [
    "scorer.score(golds, preds, probs)"
   ]
  },
  {
   "cell_type": "code",
   "execution_count": 49,
   "metadata": {},
   "outputs": [
    {
     "data": {
      "text/plain": [
       "161"
      ]
     },
     "execution_count": 49,
     "metadata": {},
     "output_type": "execute_result"
    }
   ],
   "source": [
    "len(train_dataloader1.dataset)"
   ]
  },
  {
   "cell_type": "code",
   "execution_count": null,
   "metadata": {},
   "outputs": [],
   "source": []
  }
 ],
 "metadata": {
  "kernelspec": {
   "display_name": "Python 3",
   "language": "python",
   "name": "python3"
  },
  "language_info": {
   "codemirror_mode": {
    "name": "ipython",
    "version": 3
   },
   "file_extension": ".py",
   "mimetype": "text/x-python",
   "name": "python",
   "nbconvert_exporter": "python",
   "pygments_lexer": "ipython3",
   "version": "3.6.5"
  }
 },
 "nbformat": 4,
 "nbformat_minor": 2
}
