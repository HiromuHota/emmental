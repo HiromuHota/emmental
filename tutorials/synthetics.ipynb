{
 "cells": [
  {
   "cell_type": "code",
   "execution_count": 1,
   "metadata": {},
   "outputs": [],
   "source": [
    "%load_ext autoreload\n",
    "%autoreload 2\n",
    "%matplotlib inline"
   ]
  },
  {
   "cell_type": "code",
   "execution_count": 2,
   "metadata": {},
   "outputs": [],
   "source": [
    "import matplotlib.pyplot as plt\n",
    "import numpy as np\n",
    "import torch\n",
    "import torch.nn.functional as F\n",
    "from torch import nn\n",
    "\n",
    "import emmental\n",
    "\n",
    "from emmental.data import EmmentalDataLoader, EmmentalDataset\n",
    "from emmental.emmental_model import EmmentalModel\n",
    "from emmental.learner import EmmentalLearner\n",
    "from emmental.task import Task\n",
    "from emmental.scorer import Scorer"
   ]
  },
  {
   "cell_type": "code",
   "execution_count": 3,
   "metadata": {},
   "outputs": [
    {
     "name": "stderr",
     "output_type": "stream",
     "text": [
      "[2019-04-19 01:59:59,835][INFO] emmental.meta:44 - Setting logging directory to: test_run/2019_04_19/01_59_59\n"
     ]
    }
   ],
   "source": [
    "emmental.init_logging(\"test_run\")"
   ]
  },
  {
   "cell_type": "markdown",
   "metadata": {},
   "source": [
    "### Generate data"
   ]
  },
  {
   "cell_type": "code",
   "execution_count": 4,
   "metadata": {},
   "outputs": [],
   "source": [
    "N = 200\n",
    "X = np.random.random((N, 2)) * 2 - 1\n",
    "Y = (X[:, 0] > X[:, 1] + 0.25).astype(int) + 1"
   ]
  },
  {
   "cell_type": "code",
   "execution_count": 5,
   "metadata": {},
   "outputs": [],
   "source": [
    "# categorical labels: \n",
    "Y1_mask = Y == 1\n",
    "Y2_mask = Y == 2"
   ]
  },
  {
   "cell_type": "code",
   "execution_count": 6,
   "metadata": {},
   "outputs": [
    {
     "data": {
      "image/png": "[encoded data removed]",
      "text/plain": [
       "<Figure size 432x288 with 1 Axes>"
      ]
     },
     "metadata": {
      "needs_background": "light"
     },
     "output_type": "display_data"
    }
   ],
   "source": [
    "plt.scatter(X[Y1_mask, 0], X[Y1_mask, 1])\n",
    "plt.scatter(X[Y2_mask, 0], X[Y2_mask, 1])\n",
    "plt.show()"
   ]
  },
  {
   "cell_type": "markdown",
   "metadata": {},
   "source": [
    "### Create tasks"
   ]
  },
  {
   "cell_type": "code",
   "execution_count": 7,
   "metadata": {},
   "outputs": [],
   "source": [
    "def mse_loss(immediate_ouput, Y):\n",
    "    mse = nn.MSELoss()\n",
    "    return mse(immediate_ouput[-1][0].view(-1), Y.view(-1))"
   ]
  },
  {
   "cell_type": "code",
   "execution_count": 8,
   "metadata": {},
   "outputs": [],
   "source": [
    "def ce_loss(immediate_ouput, Y):\n",
    "#     F.cross_entropy(X[\"data\"], Y.view(-1) - 1))\n",
    "#     ce = nn.BCELoss()\n",
    "#     print(immediate_ouput[-1][0].size(), Y.size())\n",
    "    return F.cross_entropy(immediate_ouput[-1][0], Y.view(-1) - 1)"
   ]
  },
  {
   "cell_type": "code",
   "execution_count": 9,
   "metadata": {},
   "outputs": [],
   "source": [
    "def output(immediate_ouput):\n",
    "    return immediate_ouput[-1][0]"
   ]
  },
  {
   "cell_type": "code",
   "execution_count": 10,
   "metadata": {},
   "outputs": [
    {
     "name": "stderr",
     "output_type": "stream",
     "text": [
      "[2019-04-19 02:00:00,160][INFO] emmental.task:34 - Created task: task1\n"
     ]
    }
   ],
   "source": [
    "task1 = Task(\n",
    "    name=\"task1\",\n",
    "    module_pool=nn.ModuleDict(\n",
    "        {\n",
    "            \"input_module\": nn.Linear(2, 8),\n",
    "            \"middle_module\": nn.Linear(8, 8),\n",
    "            \"head_module1\": nn.Linear(8, 2),\n",
    "        }\n",
    "    ),\n",
    "    task_flow=[\n",
    "        {\"module\": \"input_module\", \"inputs\": [(0, 'data')]},\n",
    "        {\"module\": \"middle_module\", \"inputs\": [(1, 0)]},\n",
    "        {\"module\": \"head_module1\", \"inputs\": [(2, 0)]},\n",
    "    ],\n",
    "    loss_func=ce_loss,\n",
    "    output_func=output,\n",
    "    scorer=Scorer(metrics=['f1', 'accuracy']),\n",
    ")"
   ]
  },
  {
   "cell_type": "code",
   "execution_count": 11,
   "metadata": {},
   "outputs": [
    {
     "name": "stderr",
     "output_type": "stream",
     "text": [
      "[2019-04-19 02:00:00,185][INFO] emmental.task:34 - Created task: task2\n"
     ]
    }
   ],
   "source": [
    "task2 = Task(\n",
    "    name=\"task2\",\n",
    "    module_pool=nn.ModuleDict(\n",
    "        {\n",
    "            \"input_module\": nn.Linear(2, 8),\n",
    "            \"middle_module\": nn.Linear(8, 8),\n",
    "            \"head_module2\": nn.Linear(8, 2),\n",
    "        }\n",
    "    ),\n",
    "    task_flow=[\n",
    "        {\"module\": \"input_module\", \"inputs\": [(0, 'data')]},\n",
    "        {\"module\": \"middle_module\", \"inputs\": [(1, 0)]},\n",
    "        {\"module\": \"head_module2\", \"inputs\": [(2, 0)]},\n",
    "    ],\n",
    "    loss_func=ce_loss,\n",
    "    output_func=output,\n",
    "    scorer=Scorer(metrics=['f1', 'accuracy']),\n",
    ")"
   ]
  },
  {
   "cell_type": "code",
   "execution_count": 12,
   "metadata": {},
   "outputs": [
    {
     "name": "stderr",
     "output_type": "stream",
     "text": [
      "[2019-04-19 02:00:00,210][INFO] emmental.emmental_model:42 - Created emmental model all that contains task {'task2', 'task1'}.\n"
     ]
    }
   ],
   "source": [
    "mtl_model = EmmentalModel(name = 'all', tasks=[task1, task2])"
   ]
  },
  {
   "cell_type": "code",
   "execution_count": 13,
   "metadata": {},
   "outputs": [],
   "source": [
    "# mtl_model1 = EmmentalModel(name = 'all', tasks=[task1, task1])"
   ]
  },
  {
   "cell_type": "markdown",
   "metadata": {},
   "source": [
    "### Generate dataloader"
   ]
  },
  {
   "cell_type": "code",
   "execution_count": 14,
   "metadata": {},
   "outputs": [],
   "source": [
    "splits = [0.8, 0.1, 0.1]\n",
    "\n",
    "X_train, X_dev, X_test = [], [], []\n",
    "Y_train, Y_dev, Y_test = [], [], []\n",
    "\n",
    "for i in range(N):\n",
    "    if i <= N * splits[0]:\n",
    "        X_train.append(torch.Tensor(X[i]))\n",
    "        Y_train.append(torch.Tensor([Y[i]]).type(torch.LongTensor))\n",
    "    elif i < N * (splits[0] + splits[1]):\n",
    "        X_dev.append(torch.Tensor(X[i]))\n",
    "        Y_dev.append(torch.Tensor([Y[i]]).type(torch.LongTensor))\n",
    "    else:\n",
    "        X_test.append(torch.Tensor(X[i]))\n",
    "        Y_test.append(torch.Tensor([Y[i]]).type(torch.LongTensor))"
   ]
  },
  {
   "cell_type": "code",
   "execution_count": 15,
   "metadata": {},
   "outputs": [],
   "source": [
    "train_dataset = EmmentalDataset(name=\"da1\", X_dict={\"data\": X_train}, Y_dict={\"label\": Y_train})\n",
    "dev_dataset = EmmentalDataset(name=\"da1\", X_dict= {\"data\": X_dev}, Y_dict={\"label\": Y_dev})\n",
    "test_dataset = EmmentalDataset(name=\"da1\", X_dict= {\"data\": X_test}, Y_dict={\"label\": Y_test})"
   ]
  },
  {
   "cell_type": "code",
   "execution_count": 16,
   "metadata": {},
   "outputs": [],
   "source": [
    "train_dataloader1 = EmmentalDataLoader(\n",
    "    task_name=\"task1\", dataset=train_dataset, label_name=\"label\", split=\"train\", batch_size=10\n",
    ")\n",
    "dev_dataloader1 = EmmentalDataLoader(\n",
    "    task_name=\"task1\", dataset=dev_dataset, label_name=\"label\", split=\"valid\", batch_size=10\n",
    ")\n",
    "test_dataloader1 = EmmentalDataLoader(\n",
    "    task_name=\"task1\", dataset=test_dataset, label_name=\"label\", split=\"test\", batch_size=10\n",
    ")"
   ]
  },
  {
   "cell_type": "code",
   "execution_count": 17,
   "metadata": {},
   "outputs": [],
   "source": [
    "train_dataloader2 = EmmentalDataLoader(\n",
    "    task_name=\"task2\", dataset=train_dataset, label_name=\"label\", split=\"train\", batch_size=20\n",
    ")\n",
    "dev_dataloader2 = EmmentalDataLoader(\n",
    "    task_name=\"task2\", dataset=dev_dataset, label_name=\"label\", split=\"valid\", batch_size=10\n",
    ")\n",
    "test_dataloader2 = EmmentalDataLoader(\n",
    "    task_name=\"task2\", dataset=test_dataset, label_name=\"label\", split=\"test\", batch_size=10\n",
    ")"
   ]
  },
  {
   "cell_type": "markdown",
   "metadata": {},
   "source": [
    "### Load config"
   ]
  },
  {
   "cell_type": "code",
   "execution_count": 18,
   "metadata": {},
   "outputs": [],
   "source": [
    "from emmental.utils.config import load_config"
   ]
  },
  {
   "cell_type": "code",
   "execution_count": 19,
   "metadata": {},
   "outputs": [],
   "source": [
    "config = load_config()"
   ]
  },
  {
   "cell_type": "code",
   "execution_count": 20,
   "metadata": {},
   "outputs": [
    {
     "data": {
      "text/plain": [
       "{'model_config': {'seed': None,\n",
       "  'verbose': True,\n",
       "  'device': 'cpu',\n",
       "  'fp16': False,\n",
       "  'model_path': None},\n",
       " 'learner_config': {'seed': None,\n",
       "  'verbose': True,\n",
       "  'progress_bar': True,\n",
       "  'n_epochs': 1,\n",
       "  'train_split': 'train',\n",
       "  'valid_split': 'valid',\n",
       "  'test_split': 'test',\n",
       "  'optimizer_config': {'optimizer': 'adam',\n",
       "   'lr': 0.001,\n",
       "   'l2': 0.0,\n",
       "   'grad_clip': 1.0,\n",
       "   'sgd_config': {'momentum': 0.9},\n",
       "   'adam_config': {'betas': (0.9, 0.999)}},\n",
       "  'lr_scheduler_config': {'lr_scheduler': None,\n",
       "   'warmup_steps': 0.0,\n",
       "   'warmup_unit': 'epoch',\n",
       "   'min_lr': 0.0,\n",
       "   'linear_config': {'min_lr': 0.0},\n",
       "   'exponential_config': {'gamma': 0.9},\n",
       "   'plateau_config': {'factor': 0.5, 'patience': 10, 'threshold': 0.0001}},\n",
       "  'task_scheduler': 'sequential'},\n",
       " 'logging_config': {'counter_unit': 'batch',\n",
       "  'evaluation_freq': 10,\n",
       "  'writer_config': {'writer': 'tensorboard', 'verbose': True},\n",
       "  'checkpointint': True,\n",
       "  'checkpointer_config': {'checkpoint_path': None,\n",
       "   'checkpoint_freq': 2,\n",
       "   'checkpoint_metric': 'task1/da1/valid/f1',\n",
       "   'checkpoint_metric_mode': 'max',\n",
       "   'checkpoint_runway': 0}}}"
      ]
     },
     "execution_count": 20,
     "metadata": {},
     "output_type": "execute_result"
    }
   ],
   "source": [
    "config"
   ]
  },
  {
   "cell_type": "code",
   "execution_count": 21,
   "metadata": {},
   "outputs": [],
   "source": [
    "emmental_learner = EmmentalLearner(config)"
   ]
  },
  {
   "cell_type": "code",
   "execution_count": 22,
   "metadata": {},
   "outputs": [],
   "source": [
    "new_config = {\"learner_config\": {\"n_epochs\": 10, \"optimizer_config\": {\"lr\": 0.01}}}"
   ]
  },
  {
   "cell_type": "code",
   "execution_count": 23,
   "metadata": {
    "scrolled": false
   },
   "outputs": [
    {
     "name": "stderr",
     "output_type": "stream",
     "text": [
      "[2019-04-19 02:00:00,495][INFO] emmental.utils.logging.logging_manager:33 - Evaluating every 10 batch.\n",
      "[2019-04-19 02:00:00,496][INFO] emmental.utils.logging.logging_manager:38 - Checkpointing every 20 batch.\n",
      "[2019-04-19 02:00:00,505][INFO] emmental.utils.logging.checkpointer:47 - Save checkpoints at test_run/2019_04_19/01_59_59 every 20 batch\n",
      "[2019-04-19 02:00:00,505][INFO] emmental.utils.logging.checkpointer:71 - No checkpoints saved before 0 batch.\n",
      "[2019-04-19 02:00:00,506][INFO] emmental.learner:273 - Start learning...\n"
     ]
    },
    {
     "data": {
      "application/vnd.jupyter.widget-view+json": {
       "model_id": "611909d8b92442deb6a250fc625c0f3e",
       "version_major": 2,
       "version_minor": 0
      },
      "text/plain": [
       "HBox(children=(IntProgress(value=0, max=26), HTML(value='')))"
      ]
     },
     "metadata": {},
     "output_type": "display_data"
    },
    {
     "name": "stderr",
     "output_type": "stream",
     "text": [
      "[2019-04-19 02:00:00,574][INFO] emmental.utils.logging.checkpointer:93 - Save checkpoint of 20 batch at test_run/2019_04_19/01_59_59/checkpoint_20.pth.\n",
      "[2019-04-19 02:00:00,576][INFO] emmental.utils.logging.checkpointer:105 - Save best model of metric task1/da1/valid/f1 at test_run/2019_04_19/01_59_59/best_model_task1_da1_valid_f1.pth\n"
     ]
    },
    {
     "name": "stdout",
     "output_type": "stream",
     "text": [
      "\n"
     ]
    },
    {
     "data": {
      "application/vnd.jupyter.widget-view+json": {
       "model_id": "8d7bc6756b35421f82c914a2d1757dc5",
       "version_major": 2,
       "version_minor": 0
      },
      "text/plain": [
       "HBox(children=(IntProgress(value=0, max=26), HTML(value='')))"
      ]
     },
     "metadata": {},
     "output_type": "display_data"
    },
    {
     "name": "stderr",
     "output_type": "stream",
     "text": [
      "[2019-04-19 02:00:00,643][INFO] emmental.utils.logging.checkpointer:93 - Save checkpoint of 40 batch at test_run/2019_04_19/01_59_59/checkpoint_40.pth.\n",
      "[2019-04-19 02:00:00,644][INFO] emmental.utils.logging.checkpointer:105 - Save best model of metric task1/da1/valid/f1 at test_run/2019_04_19/01_59_59/best_model_task1_da1_valid_f1.pth\n"
     ]
    },
    {
     "name": "stdout",
     "output_type": "stream",
     "text": [
      "\n"
     ]
    },
    {
     "data": {
      "application/vnd.jupyter.widget-view+json": {
       "model_id": "0518543560d54b2faa2f9c8683a66743",
       "version_major": 2,
       "version_minor": 0
      },
      "text/plain": [
       "HBox(children=(IntProgress(value=0, max=26), HTML(value='')))"
      ]
     },
     "metadata": {},
     "output_type": "display_data"
    },
    {
     "name": "stderr",
     "output_type": "stream",
     "text": [
      "[2019-04-19 02:00:00,711][INFO] emmental.utils.logging.checkpointer:93 - Save checkpoint of 60 batch at test_run/2019_04_19/01_59_59/checkpoint_60.pth.\n",
      "[2019-04-19 02:00:00,713][INFO] emmental.utils.logging.checkpointer:105 - Save best model of metric task1/da1/valid/f1 at test_run/2019_04_19/01_59_59/best_model_task1_da1_valid_f1.pth\n"
     ]
    },
    {
     "name": "stdout",
     "output_type": "stream",
     "text": [
      "\n"
     ]
    },
    {
     "data": {
      "application/vnd.jupyter.widget-view+json": {
       "model_id": "cb74476c3b16428ebf200cdf3edecd35",
       "version_major": 2,
       "version_minor": 0
      },
      "text/plain": [
       "HBox(children=(IntProgress(value=0, max=26), HTML(value='')))"
      ]
     },
     "metadata": {},
     "output_type": "display_data"
    },
    {
     "name": "stderr",
     "output_type": "stream",
     "text": [
      "[2019-04-19 02:00:00,784][INFO] emmental.utils.logging.checkpointer:93 - Save checkpoint of 80 batch at test_run/2019_04_19/01_59_59/checkpoint_80.pth.\n",
      "[2019-04-19 02:00:00,831][INFO] emmental.utils.logging.checkpointer:93 - Save checkpoint of 100 batch at test_run/2019_04_19/01_59_59/checkpoint_100.pth.\n"
     ]
    },
    {
     "name": "stdout",
     "output_type": "stream",
     "text": [
      "\n"
     ]
    },
    {
     "data": {
      "application/vnd.jupyter.widget-view+json": {
       "model_id": "902ce40cb8434d4fbc88939babb58a2b",
       "version_major": 2,
       "version_minor": 0
      },
      "text/plain": [
       "HBox(children=(IntProgress(value=0, max=26), HTML(value='')))"
      ]
     },
     "metadata": {},
     "output_type": "display_data"
    },
    {
     "name": "stderr",
     "output_type": "stream",
     "text": [
      "[2019-04-19 02:00:00,900][INFO] emmental.utils.logging.checkpointer:93 - Save checkpoint of 120 batch at test_run/2019_04_19/01_59_59/checkpoint_120.pth.\n"
     ]
    },
    {
     "name": "stdout",
     "output_type": "stream",
     "text": [
      "\n"
     ]
    },
    {
     "data": {
      "application/vnd.jupyter.widget-view+json": {
       "model_id": "f70c822b4ac343729f687f3c4464e01b",
       "version_major": 2,
       "version_minor": 0
      },
      "text/plain": [
       "HBox(children=(IntProgress(value=0, max=26), HTML(value='')))"
      ]
     },
     "metadata": {},
     "output_type": "display_data"
    },
    {
     "name": "stderr",
     "output_type": "stream",
     "text": [
      "[2019-04-19 02:00:00,966][INFO] emmental.utils.logging.checkpointer:93 - Save checkpoint of 140 batch at test_run/2019_04_19/01_59_59/checkpoint_140.pth.\n"
     ]
    },
    {
     "name": "stdout",
     "output_type": "stream",
     "text": [
      "\n"
     ]
    },
    {
     "data": {
      "application/vnd.jupyter.widget-view+json": {
       "model_id": "22348bf0e3794be0b2bbb522288d917e",
       "version_major": 2,
       "version_minor": 0
      },
      "text/plain": [
       "HBox(children=(IntProgress(value=0, max=26), HTML(value='')))"
      ]
     },
     "metadata": {},
     "output_type": "display_data"
    },
    {
     "name": "stderr",
     "output_type": "stream",
     "text": [
      "[2019-04-19 02:00:01,033][INFO] emmental.utils.logging.checkpointer:93 - Save checkpoint of 160 batch at test_run/2019_04_19/01_59_59/checkpoint_160.pth.\n",
      "[2019-04-19 02:00:01,078][INFO] emmental.utils.logging.checkpointer:93 - Save checkpoint of 180 batch at test_run/2019_04_19/01_59_59/checkpoint_180.pth.\n"
     ]
    },
    {
     "name": "stdout",
     "output_type": "stream",
     "text": [
      "\n"
     ]
    },
    {
     "data": {
      "application/vnd.jupyter.widget-view+json": {
       "model_id": "84dffcb42f0d4a1daf85d9d095420715",
       "version_major": 2,
       "version_minor": 0
      },
      "text/plain": [
       "HBox(children=(IntProgress(value=0, max=26), HTML(value='')))"
      ]
     },
     "metadata": {},
     "output_type": "display_data"
    },
    {
     "name": "stderr",
     "output_type": "stream",
     "text": [
      "[2019-04-19 02:00:01,149][INFO] emmental.utils.logging.checkpointer:93 - Save checkpoint of 200 batch at test_run/2019_04_19/01_59_59/checkpoint_200.pth.\n"
     ]
    },
    {
     "name": "stdout",
     "output_type": "stream",
     "text": [
      "\n"
     ]
    },
    {
     "data": {
      "application/vnd.jupyter.widget-view+json": {
       "model_id": "b63d6715ebc7410bb232cbdc636fd6bc",
       "version_major": 2,
       "version_minor": 0
      },
      "text/plain": [
       "HBox(children=(IntProgress(value=0, max=26), HTML(value='')))"
      ]
     },
     "metadata": {},
     "output_type": "display_data"
    },
    {
     "name": "stderr",
     "output_type": "stream",
     "text": [
      "[2019-04-19 02:00:01,221][INFO] emmental.utils.logging.checkpointer:93 - Save checkpoint of 220 batch at test_run/2019_04_19/01_59_59/checkpoint_220.pth.\n"
     ]
    },
    {
     "name": "stdout",
     "output_type": "stream",
     "text": [
      "\n"
     ]
    },
    {
     "data": {
      "application/vnd.jupyter.widget-view+json": {
       "model_id": "23b9b24bc49a4680a863a83d65057434",
       "version_major": 2,
       "version_minor": 0
      },
      "text/plain": [
       "HBox(children=(IntProgress(value=0, max=26), HTML(value='')))"
      ]
     },
     "metadata": {},
     "output_type": "display_data"
    },
    {
     "name": "stderr",
     "output_type": "stream",
     "text": [
      "[2019-04-19 02:00:01,292][INFO] emmental.utils.logging.checkpointer:93 - Save checkpoint of 240 batch at test_run/2019_04_19/01_59_59/checkpoint_240.pth.\n",
      "[2019-04-19 02:00:01,338][INFO] emmental.utils.logging.checkpointer:93 - Save checkpoint of 260 batch at test_run/2019_04_19/01_59_59/checkpoint_260.pth.\n"
     ]
    },
    {
     "name": "stdout",
     "output_type": "stream",
     "text": [
      "\n"
     ]
    }
   ],
   "source": [
    "emmental_learner.learn(mtl_model, [train_dataloader1, train_dataloader2, dev_dataloader1, dev_dataloader2], config=new_config)"
   ]
  },
  {
   "cell_type": "code",
   "execution_count": 24,
   "metadata": {},
   "outputs": [
    {
     "name": "stdout",
     "output_type": "stream",
     "text": [
      "10\n",
      "{'task1': array([[ 17.019962  , -16.47246   ],\n",
      "       [ 15.734463  , -15.247392  ],\n",
      "       [ 24.369385  , -23.556145  ],\n",
      "       [  0.5008666 ,  -0.4751625 ],\n",
      "       [  3.3248165 ,  -3.125314  ],\n",
      "       [ 20.099396  , -19.419004  ],\n",
      "       [  0.77990216,  -0.76916605],\n",
      "       [  8.440662  ,  -8.143453  ],\n",
      "       [-15.483719  ,  15.072726  ],\n",
      "       [ -3.3478189 ,   3.3037214 ]], dtype=float32)} (10, 2)\n",
      "10\n",
      "{'task1': array([[-11.539083 ,  11.19213  ],\n",
      "       [ -2.0846312,   2.1531727],\n",
      "       [ -7.28406  ,   7.0630026],\n",
      "       [  7.8656416,  -7.663454 ],\n",
      "       [ -8.310793 ,   8.040402 ],\n",
      "       [  5.364034 ,  -5.163368 ],\n",
      "       [ -8.43527  ,   8.256448 ],\n",
      "       [  7.6984305,  -7.445204 ],\n",
      "       [  2.6664553,  -2.609946 ],\n",
      "       [ 16.998756 , -16.401825 ]], dtype=float32)} (10, 2)\n",
      "10\n",
      "{'task1': array([[ 17.671482  , -17.132553  ],\n",
      "       [ 26.35696   , -25.534203  ],\n",
      "       [ -0.36234403,   0.39889657],\n",
      "       [-19.323313  ,  18.751934  ],\n",
      "       [ 15.074062  , -14.505498  ],\n",
      "       [ 14.579981  , -14.1572275 ],\n",
      "       [  7.4378858 ,  -7.2205634 ],\n",
      "       [ 26.529865  , -25.722626  ],\n",
      "       [  9.536583  ,  -9.16604   ],\n",
      "       [ 14.130432  , -13.576214  ]], dtype=float32)} (10, 2)\n",
      "10\n",
      "{'task1': array([[  2.6155005,  -2.4503963],\n",
      "       [  7.1973386,  -6.926955 ],\n",
      "       [  2.0561829,  -1.9743782],\n",
      "       [ 19.27401  , -18.600807 ],\n",
      "       [ -1.5840713,   1.5284306],\n",
      "       [ -6.4484215,   6.246382 ],\n",
      "       [ 34.18821  , -33.108597 ],\n",
      "       [  2.0288382,  -1.8852335],\n",
      "       [  1.9058155,  -1.9199463],\n",
      "       [ -5.113375 ,   5.050985 ]], dtype=float32)} (10, 2)\n",
      "10\n",
      "{'task1': array([[  1.0345079,  -0.9817888],\n",
      "       [  2.4138124,  -2.2966316],\n",
      "       [-21.0699   ,  20.482935 ],\n",
      "       [  4.719596 ,  -4.473178 ],\n",
      "       [  8.932253 ,  -8.636128 ],\n",
      "       [ 26.123034 , -25.331814 ],\n",
      "       [ -7.517023 ,   7.2470713],\n",
      "       [ -6.1184793,   6.036504 ],\n",
      "       [ -1.761293 ,   1.7161297],\n",
      "       [ -5.3339   ,   5.169367 ]], dtype=float32)} (10, 2)\n",
      "10\n",
      "{'task1': array([[ -3.5533803,   3.5707014],\n",
      "       [ -3.2175975,   3.060224 ],\n",
      "       [ -2.0627606,   2.072008 ],\n",
      "       [ -1.8536512,   1.8146015],\n",
      "       [ 12.331787 , -11.996772 ],\n",
      "       [  7.2734356,  -7.1136427],\n",
      "       [  2.4463124,  -2.221337 ],\n",
      "       [ 10.233486 ,  -9.93982  ],\n",
      "       [ 12.174822 , -11.712734 ],\n",
      "       [ 20.662388 , -20.05455  ]], dtype=float32)} (10, 2)\n",
      "10\n",
      "{'task1': array([[  8.0657015,  -7.6893287],\n",
      "       [ 17.077887 , -16.458267 ],\n",
      "       [ 21.844112 , -21.1744   ],\n",
      "       [ 10.274786 ,  -9.92413  ],\n",
      "       [  3.41917  ,  -3.3110988],\n",
      "       [ 14.247931 , -13.856524 ],\n",
      "       [ 27.636555 , -26.721226 ],\n",
      "       [  4.2617097,  -4.040488 ],\n",
      "       [ 17.809425 , -17.265194 ],\n",
      "       [ 13.384931 , -12.867799 ]], dtype=float32)} (10, 2)\n",
      "10\n",
      "{'task1': array([[-10.588249  ,  10.266755  ],\n",
      "       [  0.53767806,  -0.46041036],\n",
      "       [ 28.732334  , -27.818348  ],\n",
      "       [ 28.434456  , -27.53104   ],\n",
      "       [ 18.103172  , -17.543453  ],\n",
      "       [  2.2241008 ,  -2.0651233 ],\n",
      "       [ 10.634814  , -10.249192  ],\n",
      "       [-17.472862  ,  16.944855  ],\n",
      "       [ 29.393875  , -28.437914  ],\n",
      "       [ 21.44552   , -20.699425  ]], dtype=float32)} (10, 2)\n",
      "10\n",
      "{'task1': array([[  1.1618651,  -1.0542469],\n",
      "       [ 10.430532 , -10.078298 ],\n",
      "       [ 14.300537 , -13.876817 ],\n",
      "       [  8.353801 ,  -7.933463 ],\n",
      "       [  3.1772695,  -2.9382193],\n",
      "       [-15.026566 ,  14.654527 ],\n",
      "       [  7.0914474,  -6.8440413],\n",
      "       [ 14.580838 , -14.073583 ],\n",
      "       [ -5.622796 ,   5.5946093],\n",
      "       [  3.898414 ,  -3.6151848]], dtype=float32)} (10, 2)\n",
      "10\n",
      "{'task1': array([[ 21.608042 , -20.875496 ],\n",
      "       [ -7.939179 ,   7.828012 ],\n",
      "       [ -4.0935636,   4.1145115],\n",
      "       [  1.5860077,  -1.4193257],\n",
      "       [ 20.364166 , -19.659317 ],\n",
      "       [-11.684036 ,  11.448624 ],\n",
      "       [ 17.127308 , -16.645426 ],\n",
      "       [ 11.840558 , -11.465299 ],\n",
      "       [ 11.903994 , -11.413981 ],\n",
      "       [  7.3232207,  -7.038048 ]], dtype=float32)} (10, 2)\n",
      "10\n",
      "{'task1': array([[ -0.13204944,   0.10358319],\n",
      "       [-18.770578  ,  18.280285  ],\n",
      "       [ -3.1383984 ,   2.9750369 ],\n",
      "       [ 28.680891  , -27.79496   ],\n",
      "       [-12.166943  ,  11.8023    ],\n",
      "       [ 27.763494  , -26.896952  ],\n",
      "       [ 21.278454  , -20.603306  ],\n",
      "       [  8.356707  ,  -8.124864  ],\n",
      "       [  3.2489047 ,  -3.084622  ],\n",
      "       [ 16.67624   , -16.117142  ]], dtype=float32)} (10, 2)\n",
      "10\n",
      "{'task1': array([[  1.441337  ,  -1.2377434 ],\n",
      "       [-19.11707   ,  18.611275  ],\n",
      "       [ -8.215353  ,   8.065176  ],\n",
      "       [  0.17596732,  -0.16191067],\n",
      "       [-16.371576  ,  15.879501  ],\n",
      "       [ -3.589034  ,   3.510509  ],\n",
      "       [ -2.8230996 ,   2.760453  ],\n",
      "       [ -4.067703  ,   3.9833283 ],\n",
      "       [ 16.847446  , -16.323654  ],\n",
      "       [ 11.658274  , -11.229765  ]], dtype=float32)} (10, 2)\n",
      "10\n",
      "{'task1': array([[ -2.8585224 ,   2.8742518 ],\n",
      "       [  1.534845  ,  -1.5377969 ],\n",
      "       [ -4.930205  ,   4.902898  ],\n",
      "       [ -0.0865247 ,   0.22138874],\n",
      "       [ 17.984238  , -17.47768   ],\n",
      "       [  9.935495  ,  -9.672959  ],\n",
      "       [ -7.7086787 ,   7.4892797 ],\n",
      "       [-19.854975  ,  19.272144  ],\n",
      "       [ 12.895829  , -12.436287  ],\n",
      "       [  7.5340934 ,  -7.258336  ]], dtype=float32)} (10, 2)\n",
      "10\n",
      "{'task1': array([[ 13.990686 , -13.514295 ],\n",
      "       [ 12.596231 , -12.1239395],\n",
      "       [  9.563881 ,  -9.279185 ],\n",
      "       [  0.9875576,  -1.0181576],\n",
      "       [ -4.25512  ,   4.1499662],\n",
      "       [-15.816923 ,  15.411264 ],\n",
      "       [  3.7926452,  -3.5836885],\n",
      "       [-15.3520355,  14.918881 ],\n",
      "       [  3.6850216,  -3.6624196],\n",
      "       [  8.522768 ,  -8.272793 ]], dtype=float32)} (10, 2)\n",
      "10\n",
      "{'task1': array([[  0.66949266,  -0.5096092 ],\n",
      "       [ 11.637778  , -11.232228  ],\n",
      "       [ 18.814466  , -18.195576  ],\n",
      "       [-22.116455  ,  21.48151   ],\n",
      "       [ -8.198209  ,   8.048677  ],\n",
      "       [ -7.2874303 ,   7.2065754 ],\n",
      "       [ 30.621304  , -29.658308  ],\n",
      "       [ 12.705526  , -12.168464  ],\n",
      "       [ 26.987503  , -26.14886   ],\n",
      "       [ -7.1855474 ,   6.9905853 ]], dtype=float32)} (10, 2)\n",
      "10\n",
      "{'task1': array([[-11.026281 ,  10.684883 ],\n",
      "       [  9.674675 ,  -9.43438  ],\n",
      "       [ 17.503498 , -16.98515  ],\n",
      "       [ 30.055569 , -29.12735  ],\n",
      "       [ 20.624208 , -20.01464  ],\n",
      "       [  3.2940466,  -3.1008365],\n",
      "       [ -1.4780115,   1.3608372],\n",
      "       [-11.127428 ,  10.798101 ],\n",
      "       [ 21.624298 , -20.862648 ],\n",
      "       [ -4.6800923,   4.5595183]], dtype=float32)} (10, 2)\n",
      "1\n",
      "{'task1': array([[ 2.8937545, -2.769976 ]], dtype=float32)} (1, 2)\n"
     ]
    }
   ],
   "source": [
    "for x, y in train_dataloader1:\n",
    "    print(len(next(iter(y.values()))))\n",
    "    res = mtl_model._calculate_probs(x, [train_dataloader1.task_name])\n",
    "    print(res, res['task1'].shape)"
   ]
  },
  {
   "cell_type": "code",
   "execution_count": 25,
   "metadata": {},
   "outputs": [
    {
     "data": {
      "text/plain": [
       "(defaultdict(list,\n",
       "             {'task1': array([1, 1, 1, 1, 1, 1, 1, 1, 2, 2, 2, 2, 2, 1, 2, 1, 2, 1, 1, 1, 1, 1,\n",
       "                     2, 2, 1, 1, 1, 1, 1, 1, 1, 1, 1, 1, 2, 2, 1, 1, 1, 2, 1, 1, 2, 1,\n",
       "                     1, 1, 2, 2, 2, 2, 2, 2, 2, 2, 1, 1, 1, 1, 1, 1, 1, 1, 1, 1, 1, 1,\n",
       "                     1, 1, 1, 1, 2, 1, 1, 1, 1, 1, 1, 2, 1, 1, 1, 1, 1, 1, 1, 2, 1, 1,\n",
       "                     2, 1, 1, 2, 2, 1, 1, 2, 1, 1, 1, 1, 2, 2, 2, 1, 2, 1, 1, 1, 1, 1,\n",
       "                     1, 2, 2, 1, 2, 2, 2, 2, 1, 1, 2, 1, 2, 2, 1, 1, 2, 2, 1, 1, 1, 1,\n",
       "                     1, 1, 2, 2, 1, 2, 1, 1, 1, 1, 1, 2, 2, 2, 1, 1, 1, 2, 2, 1, 1, 1,\n",
       "                     1, 1, 2, 2, 1, 2, 1])}),\n",
       " defaultdict(list, {'task1': array([[ 17.019962  , -16.47246   ],\n",
       "                     [ 15.734463  , -15.247392  ],\n",
       "                     [ 24.369385  , -23.556145  ],\n",
       "                     [  0.5008666 ,  -0.4751625 ],\n",
       "                     [  3.3248165 ,  -3.125314  ],\n",
       "                     [ 20.099396  , -19.419004  ],\n",
       "                     [  0.77990216,  -0.76916605],\n",
       "                     [  8.440662  ,  -8.143453  ],\n",
       "                     [-15.483719  ,  15.072726  ],\n",
       "                     [ -3.3478189 ,   3.3037214 ],\n",
       "                     [-11.539083  ,  11.19213   ],\n",
       "                     [ -2.0846312 ,   2.1531727 ],\n",
       "                     [ -7.28406   ,   7.0630026 ],\n",
       "                     [  7.8656416 ,  -7.663454  ],\n",
       "                     [ -8.310793  ,   8.040402  ],\n",
       "                     [  5.364034  ,  -5.163368  ],\n",
       "                     [ -8.43527   ,   8.256448  ],\n",
       "                     [  7.6984305 ,  -7.445204  ],\n",
       "                     [  2.6664553 ,  -2.609946  ],\n",
       "                     [ 16.998756  , -16.401825  ],\n",
       "                     [ 17.671482  , -17.132553  ],\n",
       "                     [ 26.35696   , -25.534203  ],\n",
       "                     [ -0.36234403,   0.39889657],\n",
       "                     [-19.323313  ,  18.751934  ],\n",
       "                     [ 15.074062  , -14.505498  ],\n",
       "                     [ 14.579981  , -14.1572275 ],\n",
       "                     [  7.4378858 ,  -7.2205634 ],\n",
       "                     [ 26.529865  , -25.722626  ],\n",
       "                     [  9.536583  ,  -9.16604   ],\n",
       "                     [ 14.130432  , -13.576214  ],\n",
       "                     [  2.6155005 ,  -2.4503963 ],\n",
       "                     [  7.1973386 ,  -6.926955  ],\n",
       "                     [  2.0561829 ,  -1.9743782 ],\n",
       "                     [ 19.27401   , -18.600807  ],\n",
       "                     [ -1.5840713 ,   1.5284306 ],\n",
       "                     [ -6.4484215 ,   6.246382  ],\n",
       "                     [ 34.18821   , -33.108597  ],\n",
       "                     [  2.0288382 ,  -1.8852335 ],\n",
       "                     [  1.9058155 ,  -1.9199463 ],\n",
       "                     [ -5.113375  ,   5.050985  ],\n",
       "                     [  1.0345079 ,  -0.9817888 ],\n",
       "                     [  2.4138124 ,  -2.2966316 ],\n",
       "                     [-21.0699    ,  20.482935  ],\n",
       "                     [  4.719596  ,  -4.473178  ],\n",
       "                     [  8.932253  ,  -8.636128  ],\n",
       "                     [ 26.123034  , -25.331814  ],\n",
       "                     [ -7.517023  ,   7.2470713 ],\n",
       "                     [ -6.1184793 ,   6.036504  ],\n",
       "                     [ -1.761293  ,   1.7161297 ],\n",
       "                     [ -5.3339    ,   5.169367  ],\n",
       "                     [ -3.5533803 ,   3.5707014 ],\n",
       "                     [ -3.2175975 ,   3.060224  ],\n",
       "                     [ -2.0627606 ,   2.072008  ],\n",
       "                     [ -1.8536512 ,   1.8146015 ],\n",
       "                     [ 12.331787  , -11.996772  ],\n",
       "                     [  7.2734356 ,  -7.1136427 ],\n",
       "                     [  2.4463124 ,  -2.221337  ],\n",
       "                     [ 10.233486  ,  -9.93982   ],\n",
       "                     [ 12.174822  , -11.712734  ],\n",
       "                     [ 20.662388  , -20.05455   ],\n",
       "                     [  8.0657015 ,  -7.6893287 ],\n",
       "                     [ 17.077887  , -16.458267  ],\n",
       "                     [ 21.844112  , -21.1744    ],\n",
       "                     [ 10.274786  ,  -9.92413   ],\n",
       "                     [  3.41917   ,  -3.3110988 ],\n",
       "                     [ 14.247931  , -13.856524  ],\n",
       "                     [ 27.636555  , -26.721226  ],\n",
       "                     [  4.2617097 ,  -4.040488  ],\n",
       "                     [ 17.809425  , -17.265194  ],\n",
       "                     [ 13.384931  , -12.867799  ],\n",
       "                     [-10.588249  ,  10.266755  ],\n",
       "                     [  0.53767806,  -0.46041036],\n",
       "                     [ 28.732334  , -27.818348  ],\n",
       "                     [ 28.434456  , -27.53104   ],\n",
       "                     [ 18.103172  , -17.543453  ],\n",
       "                     [  2.2241008 ,  -2.0651233 ],\n",
       "                     [ 10.634814  , -10.249192  ],\n",
       "                     [-17.472862  ,  16.944855  ],\n",
       "                     [ 29.393875  , -28.437914  ],\n",
       "                     [ 21.44552   , -20.699425  ],\n",
       "                     [  1.1618651 ,  -1.0542469 ],\n",
       "                     [ 10.430532  , -10.078298  ],\n",
       "                     [ 14.300537  , -13.876817  ],\n",
       "                     [  8.353801  ,  -7.933463  ],\n",
       "                     [  3.1772695 ,  -2.9382193 ],\n",
       "                     [-15.026566  ,  14.654527  ],\n",
       "                     [  7.0914474 ,  -6.8440413 ],\n",
       "                     [ 14.580838  , -14.073583  ],\n",
       "                     [ -5.622796  ,   5.5946093 ],\n",
       "                     [  3.898414  ,  -3.6151848 ],\n",
       "                     [ 21.608042  , -20.875496  ],\n",
       "                     [ -7.939179  ,   7.828012  ],\n",
       "                     [ -4.0935636 ,   4.1145115 ],\n",
       "                     [  1.5860077 ,  -1.4193257 ],\n",
       "                     [ 20.364166  , -19.659317  ],\n",
       "                     [-11.684036  ,  11.448624  ],\n",
       "                     [ 17.127308  , -16.645426  ],\n",
       "                     [ 11.840558  , -11.465299  ],\n",
       "                     [ 11.903994  , -11.413981  ],\n",
       "                     [  7.3232207 ,  -7.038048  ],\n",
       "                     [ -0.13204944,   0.10358319],\n",
       "                     [-18.770578  ,  18.280285  ],\n",
       "                     [ -3.1383984 ,   2.9750369 ],\n",
       "                     [ 28.680891  , -27.79496   ],\n",
       "                     [-12.166943  ,  11.8023    ],\n",
       "                     [ 27.763494  , -26.896952  ],\n",
       "                     [ 21.278454  , -20.603306  ],\n",
       "                     [  8.356707  ,  -8.124864  ],\n",
       "                     [  3.2489047 ,  -3.084622  ],\n",
       "                     [ 16.67624   , -16.117142  ],\n",
       "                     [  1.441337  ,  -1.2377434 ],\n",
       "                     [-19.11707   ,  18.611275  ],\n",
       "                     [ -8.215353  ,   8.065176  ],\n",
       "                     [  0.17596732,  -0.16191067],\n",
       "                     [-16.371576  ,  15.879501  ],\n",
       "                     [ -3.589034  ,   3.510509  ],\n",
       "                     [ -2.8230996 ,   2.760453  ],\n",
       "                     [ -4.067703  ,   3.9833283 ],\n",
       "                     [ 16.847446  , -16.323654  ],\n",
       "                     [ 11.658274  , -11.229765  ],\n",
       "                     [ -2.8585224 ,   2.8742518 ],\n",
       "                     [  1.534845  ,  -1.5377969 ],\n",
       "                     [ -4.930205  ,   4.902898  ],\n",
       "                     [ -0.0865247 ,   0.22138874],\n",
       "                     [ 17.984238  , -17.47768   ],\n",
       "                     [  9.935495  ,  -9.672959  ],\n",
       "                     [ -7.7086787 ,   7.4892797 ],\n",
       "                     [-19.854975  ,  19.272144  ],\n",
       "                     [ 12.895829  , -12.436287  ],\n",
       "                     [  7.5340934 ,  -7.258336  ],\n",
       "                     [ 13.990686  , -13.514295  ],\n",
       "                     [ 12.596231  , -12.1239395 ],\n",
       "                     [  9.563881  ,  -9.279185  ],\n",
       "                     [  0.9875576 ,  -1.0181576 ],\n",
       "                     [ -4.25512   ,   4.1499662 ],\n",
       "                     [-15.816923  ,  15.411264  ],\n",
       "                     [  3.7926452 ,  -3.5836885 ],\n",
       "                     [-15.3520355 ,  14.918881  ],\n",
       "                     [  3.6850216 ,  -3.6624196 ],\n",
       "                     [  8.522768  ,  -8.272793  ],\n",
       "                     [  0.66949266,  -0.5096092 ],\n",
       "                     [ 11.637778  , -11.232228  ],\n",
       "                     [ 18.814466  , -18.195576  ],\n",
       "                     [-22.116455  ,  21.48151   ],\n",
       "                     [ -8.198209  ,   8.048677  ],\n",
       "                     [ -7.2874303 ,   7.2065754 ],\n",
       "                     [ 30.621304  , -29.658308  ],\n",
       "                     [ 12.705526  , -12.168464  ],\n",
       "                     [ 26.987503  , -26.14886   ],\n",
       "                     [ -7.1855474 ,   6.9905853 ],\n",
       "                     [-11.026281  ,  10.684883  ],\n",
       "                     [  9.674675  ,  -9.43438   ],\n",
       "                     [ 17.503498  , -16.98515   ],\n",
       "                     [ 30.055569  , -29.12735   ],\n",
       "                     [ 20.624208  , -20.01464   ],\n",
       "                     [  3.2940466 ,  -3.1008365 ],\n",
       "                     [ -1.4780115 ,   1.3608372 ],\n",
       "                     [-11.127428  ,  10.798101  ],\n",
       "                     [ 21.624298  , -20.862648  ],\n",
       "                     [ -4.6800923 ,   4.5595183 ],\n",
       "                     [  2.8937545 ,  -2.769976  ]], dtype=float32)}),\n",
       " defaultdict(list,\n",
       "             {'task1': array([1, 1, 1, 1, 1, 1, 1, 1, 2, 2, 2, 2, 2, 1, 2, 1, 2, 1, 1, 1, 1, 1,\n",
       "                     2, 2, 1, 1, 1, 1, 1, 1, 1, 1, 1, 1, 2, 2, 1, 1, 1, 2, 1, 1, 2, 1,\n",
       "                     1, 1, 2, 2, 2, 2, 2, 2, 2, 2, 1, 1, 1, 1, 1, 1, 1, 1, 1, 1, 1, 1,\n",
       "                     1, 1, 1, 1, 2, 1, 1, 1, 1, 1, 1, 2, 1, 1, 1, 1, 1, 1, 1, 2, 1, 1,\n",
       "                     2, 1, 1, 2, 2, 1, 1, 2, 1, 1, 1, 1, 2, 2, 2, 1, 2, 1, 1, 1, 1, 1,\n",
       "                     1, 2, 2, 1, 2, 2, 2, 2, 1, 1, 2, 1, 2, 2, 1, 1, 2, 2, 1, 1, 1, 1,\n",
       "                     1, 1, 2, 2, 1, 2, 1, 1, 1, 1, 1, 2, 2, 2, 1, 1, 1, 2, 2, 1, 1, 1,\n",
       "                     1, 1, 2, 2, 1, 2, 1])}))"
      ]
     },
     "execution_count": 25,
     "metadata": {},
     "output_type": "execute_result"
    }
   ],
   "source": [
    "mtl_model.predict(train_dataloader1, return_preds=True)"
   ]
  },
  {
   "cell_type": "code",
   "execution_count": 26,
   "metadata": {},
   "outputs": [
    {
     "data": {
      "text/plain": [
       "{'task1/da1/train/f1': 1.0, 'task1/da1/train/accuracy': 1.0}"
      ]
     },
     "execution_count": 26,
     "metadata": {},
     "output_type": "execute_result"
    }
   ],
   "source": [
    "mtl_model.score(train_dataloader1)"
   ]
  },
  {
   "cell_type": "code",
   "execution_count": 27,
   "metadata": {},
   "outputs": [
    {
     "data": {
      "text/plain": [
       "False"
      ]
     },
     "execution_count": 27,
     "metadata": {},
     "output_type": "execute_result"
    }
   ],
   "source": [
    "from collections.abc import Iterable\n",
    "\n",
    "isinstance(train_dataloader1, list)"
   ]
  },
  {
   "cell_type": "code",
   "execution_count": 28,
   "metadata": {},
   "outputs": [],
   "source": [
    "a = np.array([1,0,1,0,1,0])\n",
    "b = np.array([1,1,1,1,1,0])"
   ]
  },
  {
   "cell_type": "code",
   "execution_count": 29,
   "metadata": {},
   "outputs": [],
   "source": [
    "from emmental.metrics.accuracy import accuracy_scorer\n",
    "from emmental.metrics.fbeta import f1_scorer, fbeta_scorer\n",
    "from emmental.metrics.precision import precision_scorer\n",
    "from emmental.metrics.recall import recall_scorer"
   ]
  },
  {
   "cell_type": "code",
   "execution_count": 30,
   "metadata": {},
   "outputs": [
    {
     "data": {
      "text/plain": [
       "{'accuracy': 0.6666666666666666}"
      ]
     },
     "execution_count": 30,
     "metadata": {},
     "output_type": "execute_result"
    }
   ],
   "source": [
    "accuracy_scorer(a, b, b)"
   ]
  },
  {
   "cell_type": "code",
   "execution_count": 31,
   "metadata": {},
   "outputs": [],
   "source": [
    "from emmental.metrics import METRICS"
   ]
  },
  {
   "cell_type": "code",
   "execution_count": 32,
   "metadata": {},
   "outputs": [
    {
     "data": {
      "text/plain": [
       "{'accuracy': <function emmental.metrics.accuracy.accuracy_scorer(gold, probs, preds, normalize=True)>,\n",
       " 'precision': <function emmental.metrics.precision.precision_scorer(gold, probs, preds, pos_label=1)>,\n",
       " 'recall': <function emmental.metrics.recall.recall_scorer(gold, probs, preds, pos_label=1)>,\n",
       " 'f1': <function emmental.metrics.fbeta.f1_scorer(gold, probs, preds, pos_label=1)>,\n",
       " 'fbeta': <function emmental.metrics.fbeta.fbeta_scorer(gold, probs, preds, pos_label=1, beta=1)>,\n",
       " 'matthews_correlation': <function emmental.metrics.matthews_correlation.matthews_correlation_coefficient_scorer(gold, probs, preds)>,\n",
       " 'mean_squared_error': <function emmental.metrics.mean_squared_error.mean_squared_error_scorer(gold, probs, preds)>,\n",
       " 'pearson_correlation': <function emmental.metrics.pearson_correlation.pearson_correlation_scorer(gold, probs, preds)>,\n",
       " 'pearson_spearman': <function emmental.metrics.pearson_spearman.pearson_spearman_scorer(gold, probs, preds)>,\n",
       " 'spearman_correlation': <function emmental.metrics.spearman_correlation.spearman_correlation_scorer(gold, probs, preds)>}"
      ]
     },
     "execution_count": 32,
     "metadata": {},
     "output_type": "execute_result"
    }
   ],
   "source": [
    "METRICS"
   ]
  },
  {
   "cell_type": "code",
   "execution_count": 33,
   "metadata": {},
   "outputs": [
    {
     "data": {
      "text/plain": [
       "{'accuracy': 0.6666666666666666}"
      ]
     },
     "execution_count": 33,
     "metadata": {},
     "output_type": "execute_result"
    }
   ],
   "source": [
    "METRICS[\"accuracy\"](a,b,b)"
   ]
  },
  {
   "cell_type": "code",
   "execution_count": 34,
   "metadata": {},
   "outputs": [],
   "source": [
    "c = ['1', '2', '3', '4']\n",
    "d = ['1', '1', '1', '1']"
   ]
  },
  {
   "cell_type": "code",
   "execution_count": 35,
   "metadata": {},
   "outputs": [
    {
     "data": {
      "text/plain": [
       "array([0, 2, 4, 5])"
      ]
     },
     "execution_count": 35,
     "metadata": {},
     "output_type": "execute_result"
    }
   ],
   "source": [
    "np.where(a == b)[0]"
   ]
  },
  {
   "cell_type": "code",
   "execution_count": 36,
   "metadata": {},
   "outputs": [
    {
     "data": {
      "text/plain": [
       "(array([0, 0, 0, 0]), array([0, 2, 4, 5]))"
      ]
     },
     "execution_count": 36,
     "metadata": {},
     "output_type": "execute_result"
    }
   ],
   "source": [
    "np.where([a == b])"
   ]
  },
  {
   "cell_type": "code",
   "execution_count": 37,
   "metadata": {},
   "outputs": [
    {
     "data": {
      "text/plain": [
       "(array([], dtype=int64),)"
      ]
     },
     "execution_count": 37,
     "metadata": {},
     "output_type": "execute_result"
    }
   ],
   "source": [
    "np.where(c == d)\n",
    "# np.where([c == d])"
   ]
  },
  {
   "cell_type": "code",
   "execution_count": 38,
   "metadata": {},
   "outputs": [
    {
     "data": {
      "text/plain": [
       "4"
      ]
     },
     "execution_count": 38,
     "metadata": {},
     "output_type": "execute_result"
    }
   ],
   "source": [
    "np.where(a == b)[0].shape[0]"
   ]
  },
  {
   "cell_type": "code",
   "execution_count": 39,
   "metadata": {},
   "outputs": [
    {
     "data": {
      "text/plain": [
       "0.6666666666666666"
      ]
     },
     "execution_count": 39,
     "metadata": {},
     "output_type": "execute_result"
    }
   ],
   "source": [
    "2/3"
   ]
  },
  {
   "cell_type": "code",
   "execution_count": 40,
   "metadata": {},
   "outputs": [
    {
     "data": {
      "text/plain": [
       "{'precision': 1.0}"
      ]
     },
     "execution_count": 40,
     "metadata": {},
     "output_type": "execute_result"
    }
   ],
   "source": [
    "precision_scorer(b, a, a)"
   ]
  },
  {
   "cell_type": "code",
   "execution_count": 41,
   "metadata": {},
   "outputs": [
    {
     "data": {
      "text/plain": [
       "{'recall': 0.6}"
      ]
     },
     "execution_count": 41,
     "metadata": {},
     "output_type": "execute_result"
    }
   ],
   "source": [
    "recall_scorer(b, a, a)"
   ]
  },
  {
   "cell_type": "code",
   "execution_count": 42,
   "metadata": {},
   "outputs": [
    {
     "data": {
      "text/plain": [
       "{'f1': 0.7499999999999999}"
      ]
     },
     "execution_count": 42,
     "metadata": {},
     "output_type": "execute_result"
    }
   ],
   "source": [
    "f1_scorer(b,a,a)"
   ]
  },
  {
   "cell_type": "code",
   "execution_count": 43,
   "metadata": {},
   "outputs": [
    {
     "name": "stdout",
     "output_type": "stream",
     "text": [
      "{'pearson_correlation': 0.4472135954999579, 'pearson_pvalue': 0.37390096630005887, 'spearman_correlation': 0.447213595499958, 'spearman_pvalue': 0.3739009663000589}\n"
     ]
    }
   ],
   "source": [
    "from emmental.metrics import METRICS\n",
    "\n",
    "metrics = METRICS\n",
    "\n",
    "golds = np.array([1,0,1,0,1,0])\n",
    "preds = np.array([1,1,1,1,1,0])\n",
    "probs = np.array([0.8,0.6,0.9,0.7,0.7,0.2])\n",
    "\n",
    "res = dict()\n",
    "\n",
    "for metric_name, metric in metrics.items():\n",
    "    res.update(metric(golds, probs, preds))\n",
    "\n",
    "# res = {metric_name: metric(golds, preds, probs) for metric_name, metric in metrics.items()}"
   ]
  },
  {
   "cell_type": "code",
   "execution_count": 44,
   "metadata": {},
   "outputs": [
    {
     "data": {
      "text/plain": [
       "{'accuracy': 0.6666666666666666,\n",
       " 'precision': 0.6,\n",
       " 'recall': 1.0,\n",
       " 'f1': 0.7499999999999999,\n",
       " 'matthews_corrcoef': 0.4472135954999579,\n",
       " 'mean_squared_error': 0.17166666666666666,\n",
       " 'pearson_correlation': 0.4472135954999579,\n",
       " 'pearson_pvalue': 0.37390096630005887,\n",
       " 'spearman_correlation': 0.447213595499958,\n",
       " 'spearman_pvalue': 0.3739009663000589,\n",
       " 'pearson_spearman': 0.447213595499958}"
      ]
     },
     "execution_count": 44,
     "metadata": {},
     "output_type": "execute_result"
    }
   ],
   "source": [
    "res"
   ]
  },
  {
   "cell_type": "code",
   "execution_count": 45,
   "metadata": {},
   "outputs": [
    {
     "data": {
      "text/plain": [
       "{'f1': 0.0}"
      ]
     },
     "execution_count": 45,
     "metadata": {},
     "output_type": "execute_result"
    }
   ],
   "source": [
    "metrics['f1'](golds, preds, probs)"
   ]
  },
  {
   "cell_type": "code",
   "execution_count": 46,
   "metadata": {},
   "outputs": [],
   "source": [
    "from emmental.scorer import Scorer"
   ]
  },
  {
   "cell_type": "code",
   "execution_count": 47,
   "metadata": {},
   "outputs": [],
   "source": [
    "def sum(gold, preds, probs):\n",
    "    return np.sum(preds)"
   ]
  },
  {
   "cell_type": "code",
   "execution_count": 48,
   "metadata": {},
   "outputs": [],
   "source": [
    "scorer = Scorer(metrics=['accuracy', 'f1'], customize_metric_funcs={\"sum\": sum})"
   ]
  },
  {
   "cell_type": "code",
   "execution_count": 49,
   "metadata": {},
   "outputs": [
    {
     "data": {
      "text/plain": [
       "{'accuracy': 0.0, 'f1': 0.0, 'sum': 5}"
      ]
     },
     "execution_count": 49,
     "metadata": {},
     "output_type": "execute_result"
    }
   ],
   "source": [
    "scorer.score(golds, preds, probs)"
   ]
  },
  {
   "cell_type": "code",
   "execution_count": 50,
   "metadata": {},
   "outputs": [
    {
     "data": {
      "text/plain": [
       "161"
      ]
     },
     "execution_count": 50,
     "metadata": {},
     "output_type": "execute_result"
    }
   ],
   "source": [
    "len(train_dataloader1.dataset)"
   ]
  },
  {
   "cell_type": "code",
   "execution_count": null,
   "metadata": {},
   "outputs": [],
   "source": []
  }
 ],
 "metadata": {
  "kernelspec": {
   "display_name": "Python 3",
   "language": "python",
   "name": "python3"
  },
  "language_info": {
   "codemirror_mode": {
    "name": "ipython",
    "version": 3
   },
   "file_extension": ".py",
   "mimetype": "text/x-python",
   "name": "python",
   "nbconvert_exporter": "python",
   "pygments_lexer": "ipython3",
   "version": "3.6.5"
  }
 },
 "nbformat": 4,
 "nbformat_minor": 2
}
