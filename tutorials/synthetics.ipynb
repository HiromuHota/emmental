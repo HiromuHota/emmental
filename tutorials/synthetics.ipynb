{
 "cells": [
  {
   "cell_type": "code",
   "execution_count": 1,
   "metadata": {},
   "outputs": [],
   "source": [
    "import matplotlib.pyplot as plt\n",
    "import numpy as np\n",
    "import torch\n",
    "import torch.nn.functional as F\n",
    "from torch import nn\n",
    "\n",
    "from emmental.data import EmmentalDataLoader, EmmentalDataset\n",
    "from emmental.emmental_model import EmmentalModel\n",
    "from emmental.learner import EmmentalLearner\n",
    "from emmental.task import Task"
   ]
  },
  {
   "cell_type": "markdown",
   "metadata": {},
   "source": [
    "### Generate data"
   ]
  },
  {
   "cell_type": "code",
   "execution_count": 2,
   "metadata": {},
   "outputs": [],
   "source": [
    "N = 200\n",
    "X = np.random.random((N, 2)) * 2 - 1\n",
    "Y = (X[:, 0] > X[:, 1] + 0.25).astype(int) + 1"
   ]
  },
  {
   "cell_type": "code",
   "execution_count": 3,
   "metadata": {},
   "outputs": [],
   "source": [
    "# categorical labels: \n",
    "Y1_mask = Y == 1\n",
    "Y2_mask = Y == 2"
   ]
  },
  {
   "cell_type": "code",
   "execution_count": 4,
   "metadata": {},
   "outputs": [
    {
     "data": {
      "image/png": "[encoded data removed]",
      "text/plain": [
       "<Figure size 432x288 with 1 Axes>"
      ]
     },
     "metadata": {
      "needs_background": "light"
     },
     "output_type": "display_data"
    }
   ],
   "source": [
    "plt.scatter(X[Y1_mask, 0], X[Y1_mask, 1])\n",
    "plt.scatter(X[Y2_mask, 0], X[Y2_mask, 1])\n",
    "plt.show()"
   ]
  },
  {
   "cell_type": "markdown",
   "metadata": {},
   "source": [
    "### Create tasks"
   ]
  },
  {
   "cell_type": "code",
   "execution_count": 5,
   "metadata": {},
   "outputs": [],
   "source": [
    "def mse_loss(immediate_ouput, Y):\n",
    "    mse = nn.MSELoss()\n",
    "    return mse(immediate_ouput[-1][0].view(-1), Y.view(-1))"
   ]
  },
  {
   "cell_type": "code",
   "execution_count": 6,
   "metadata": {},
   "outputs": [],
   "source": [
    "def ce_loss(immediate_ouput, Y):\n",
    "#     F.cross_entropy(X[\"data\"], Y.view(-1) - 1))\n",
    "#     ce = nn.BCELoss()\n",
    "#     print(immediate_ouput[-1][0].size(), Y.size())\n",
    "    return F.cross_entropy(immediate_ouput[-1][0], Y.view(-1) - 1)"
   ]
  },
  {
   "cell_type": "code",
   "execution_count": 7,
   "metadata": {},
   "outputs": [],
   "source": [
    "def output(immediate_ouput):\n",
    "    return immediate_ouput[-1][0]"
   ]
  },
  {
   "cell_type": "code",
   "execution_count": 8,
   "metadata": {},
   "outputs": [],
   "source": [
    "task1 = Task(\n",
    "    name=\"task1\",\n",
    "    module_pool=nn.ModuleDict(\n",
    "        {\n",
    "            \"input_module\": nn.Linear(2, 8),\n",
    "            \"middle_module\": nn.Linear(8, 8),\n",
    "            \"head_module1\": nn.Linear(8, 2),\n",
    "        }\n",
    "    ),\n",
    "    task_flow=[\n",
    "        {\"module\": \"input_module\", \"inputs\": [(0, 0)]},\n",
    "        {\"module\": \"middle_module\", \"inputs\": [(1, 0)]},\n",
    "        {\"module\": \"head_module1\", \"inputs\": [(2, 0)]},\n",
    "    ],\n",
    "    loss_func=ce_loss,\n",
    "    output_func=output,\n",
    ")"
   ]
  },
  {
   "cell_type": "code",
   "execution_count": 9,
   "metadata": {},
   "outputs": [],
   "source": [
    "task2 = Task(\n",
    "    name=\"task2\",\n",
    "    module_pool=nn.ModuleDict(\n",
    "        {\n",
    "            \"input_module\": nn.Linear(2, 8),\n",
    "            \"middle_module\": nn.Linear(8, 8),\n",
    "            \"head_module2\": nn.Linear(8, 2),\n",
    "        }\n",
    "    ),\n",
    "    task_flow=[\n",
    "        {\"module\": \"input_module\", \"inputs\": [(0, 0)]},\n",
    "        {\"module\": \"middle_module\", \"inputs\": [(1, 0)]},\n",
    "        {\"module\": \"head_module2\", \"inputs\": [(2, 0)]},\n",
    "    ],\n",
    "    loss_func=ce_loss,\n",
    "    output_func=output,\n",
    ")"
   ]
  },
  {
   "cell_type": "code",
   "execution_count": 10,
   "metadata": {},
   "outputs": [],
   "source": [
    "mtl_model = EmmentalModel(name = 'all', tasks=[task1, task2])"
   ]
  },
  {
   "cell_type": "markdown",
   "metadata": {},
   "source": [
    "### Generate dataloader"
   ]
  },
  {
   "cell_type": "code",
   "execution_count": 11,
   "metadata": {},
   "outputs": [],
   "source": [
    "splits = [0.8, 0.1, 0.1]\n",
    "\n",
    "X_train, X_dev, X_test = [], [], []\n",
    "Y_train, Y_dev, Y_test = [], [], []\n",
    "\n",
    "for i in range(N):\n",
    "    if i <= N * splits[0]:\n",
    "        X_train.append(torch.Tensor(X[i]))\n",
    "        Y_train.append(torch.Tensor([Y[i]]).type(torch.LongTensor))\n",
    "    elif i < N * (splits[0] + splits[1]):\n",
    "        X_dev.append(torch.Tensor(X[i]))\n",
    "        Y_dev.append(torch.Tensor([Y[i]]).type(torch.LongTensor))\n",
    "    else:\n",
    "        X_test.append(torch.Tensor(X[i]))\n",
    "        Y_test.append(torch.Tensor([Y[i]]).type(torch.LongTensor))"
   ]
  },
  {
   "cell_type": "code",
   "execution_count": 12,
   "metadata": {},
   "outputs": [],
   "source": [
    "train_dataset = EmmentalDataset({\"data\": X_train}, {\"label\": Y_train})\n",
    "dev_dataset = EmmentalDataset({\"data\": X_dev}, {\"label\": Y_dev})\n",
    "test_dataset = EmmentalDataset({\"data\": X_test}, {\"label\": Y_test})"
   ]
  },
  {
   "cell_type": "code",
   "execution_count": 13,
   "metadata": {},
   "outputs": [],
   "source": [
    "train_dataloader1 = EmmentalDataLoader(\n",
    "    task_name=\"task1\", dataset=train_dataset, label_name=\"label\", split=\"train\", batch_size=10\n",
    ")\n",
    "dev_dataloader1 = EmmentalDataLoader(\n",
    "    task_name=\"task1\", dataset=dev_dataset, label_name=\"label\", split=\"dev\", batch_size=10\n",
    ")\n",
    "test_dataloader1 = EmmentalDataLoader(\n",
    "    task_name=\"task1\", dataset=test_dataset, label_name=\"label\", split=\"test\", batch_size=10\n",
    ")"
   ]
  },
  {
   "cell_type": "code",
   "execution_count": 14,
   "metadata": {},
   "outputs": [],
   "source": [
    "train_dataloader2 = EmmentalDataLoader(\n",
    "    task_name=\"task2\", dataset=train_dataset, label_name=\"label\", split=\"train\", batch_size=20\n",
    ")\n",
    "dev_dataloader2 = EmmentalDataLoader(\n",
    "    task_name=\"task2\", dataset=dev_dataset, label_name=\"label\", split=\"dev\", batch_size=10\n",
    ")\n",
    "test_dataloader2 = EmmentalDataLoader(\n",
    "    task_name=\"task2\", dataset=test_dataset, label_name=\"label\", split=\"test\", batch_size=10\n",
    ")"
   ]
  },
  {
   "cell_type": "markdown",
   "metadata": {},
   "source": [
    "### Load config"
   ]
  },
  {
   "cell_type": "code",
   "execution_count": 15,
   "metadata": {},
   "outputs": [],
   "source": [
    "from emmental.utils.config import load_config"
   ]
  },
  {
   "cell_type": "code",
   "execution_count": 16,
   "metadata": {},
   "outputs": [],
   "source": [
    "config = load_config()"
   ]
  },
  {
   "cell_type": "code",
   "execution_count": 17,
   "metadata": {},
   "outputs": [
    {
     "data": {
      "text/plain": [
       "{'model_config': {'seed': None,\n",
       "  'verbose': True,\n",
       "  'device': 'cpu',\n",
       "  'fp16': False,\n",
       "  'model_path': None},\n",
       " 'learner_config': {'seed': None,\n",
       "  'verbose': True,\n",
       "  'progress_bar': True,\n",
       "  'n_epochs': 1,\n",
       "  'optimizer_config': {'optimizer': 'adam',\n",
       "   'lr': 0.001,\n",
       "   'l2': 0.0,\n",
       "   'grad_clip': 1.0,\n",
       "   'sgd_config': {'momentum': 0.9},\n",
       "   'adam_config': {'betas': (0.9, 0.999)}},\n",
       "  'lr_scheduler_config': {'lr_scheduler': None},\n",
       "  'task_scheduler': 'sequential'},\n",
       " 'evaluation_config': None,\n",
       " 'logging_config': {'log_unit': 'epoch', 'log_freq': 1.0}}"
      ]
     },
     "execution_count": 17,
     "metadata": {},
     "output_type": "execute_result"
    }
   ],
   "source": [
    "config"
   ]
  },
  {
   "cell_type": "code",
   "execution_count": 18,
   "metadata": {},
   "outputs": [],
   "source": [
    "emmental_learner = EmmentalLearner(config)"
   ]
  },
  {
   "cell_type": "code",
   "execution_count": 19,
   "metadata": {},
   "outputs": [],
   "source": [
    "new_config = {\"learner_config\": {\"n_epochs\": 10, \"optimizer_config\": {\"lr\": 0.01}}}"
   ]
  },
  {
   "cell_type": "code",
   "execution_count": 20,
   "metadata": {
    "scrolled": true
   },
   "outputs": [
    {
     "name": "stdout",
     "output_type": "stream",
     "text": [
      "26\n"
     ]
    },
    {
     "data": {
      "application/vnd.jupyter.widget-view+json": {
       "model_id": "5f6593ff7c2d4066ae6266d50f1c602a",
       "version_major": 2,
       "version_minor": 0
      },
      "text/plain": [
       "HBox(children=(IntProgress(value=0, max=26), HTML(value='')))"
      ]
     },
     "metadata": {},
     "output_type": "display_data"
    },
    {
     "name": "stdout",
     "output_type": "stream",
     "text": [
      "task1 0.6662676930427551\n",
      "task1 0.5798705220222473\n",
      "task1 0.5622360706329346\n",
      "task1 0.5111991167068481\n",
      "task1 0.4569341242313385\n",
      "task1 0.4606378674507141\n",
      "task1 0.4096677303314209\n",
      "task1 0.5364471673965454\n",
      "task1 0.45225030183792114\n",
      "task1 0.475896418094635\n",
      "task1 0.34893599152565\n",
      "task1 0.5249070525169373\n",
      "task1 0.42223721742630005\n",
      "task1 0.3487916588783264\n",
      "task1 0.5100696682929993\n",
      "task1 0.3175644874572754\n",
      "task1 1.0314267873764038\n",
      "task2 0.49119219183921814\n",
      "task2 0.5390346646308899\n",
      "task2 0.5447746515274048\n",
      "task2 0.5063337683677673\n",
      "task2 0.5384811162948608\n",
      "task2 0.4611400067806244\n",
      "task2 0.43069520592689514\n",
      "task2 0.4629724621772766\n",
      "task2 1.1371920108795166\n",
      "\n"
     ]
    },
    {
     "data": {
      "application/vnd.jupyter.widget-view+json": {
       "model_id": "99898b1b25544d97a51d7d8a118b79fa",
       "version_major": 2,
       "version_minor": 0
      },
      "text/plain": [
       "HBox(children=(IntProgress(value=0, max=26), HTML(value='')))"
      ]
     },
     "metadata": {},
     "output_type": "display_data"
    },
    {
     "name": "stdout",
     "output_type": "stream",
     "text": [
      "task1 0.20963898301124573\n",
      "task1 0.14895546436309814\n",
      "task1 0.17469295859336853\n",
      "task1 0.18763446807861328\n",
      "task1 0.06426630914211273\n",
      "task1 0.1034310907125473\n",
      "task1 0.3018302321434021\n",
      "task1 0.2780400812625885\n",
      "task1 0.22668245434761047\n",
      "task1 0.15046828985214233\n",
      "task1 0.16246114671230316\n",
      "task1 0.31950491666793823\n",
      "task1 0.21776695549488068\n",
      "task1 0.17477425932884216\n",
      "task1 0.19913902878761292\n",
      "task1 0.18207614123821259\n",
      "task1 0.31600552797317505\n",
      "task2 0.14377924799919128\n",
      "task2 0.14353476464748383\n",
      "task2 0.07419794052839279\n",
      "task2 0.27991586923599243\n",
      "task2 0.17073063552379608\n",
      "task2 0.19805845618247986\n",
      "task2 0.19961431622505188\n",
      "task2 0.19618085026741028\n",
      "task2 0.30724599957466125\n",
      "\n"
     ]
    },
    {
     "data": {
      "application/vnd.jupyter.widget-view+json": {
       "model_id": "8e95d34f12324c3ea22f64f8a8cebd70",
       "version_major": 2,
       "version_minor": 0
      },
      "text/plain": [
       "HBox(children=(IntProgress(value=0, max=26), HTML(value='')))"
      ]
     },
     "metadata": {},
     "output_type": "display_data"
    },
    {
     "name": "stdout",
     "output_type": "stream",
     "text": [
      "task1 0.0449189655482769\n",
      "task1 0.07584686577320099\n",
      "task1 0.037968188524246216\n",
      "task1 0.08543180674314499\n",
      "task1 0.005534493830054998\n",
      "task1 0.08912049233913422\n",
      "task1 0.3077046275138855\n",
      "task1 0.19159036874771118\n",
      "task1 0.14494620263576508\n",
      "task1 0.029565226286649704\n",
      "task1 0.06154099106788635\n",
      "task1 0.11798377335071564\n",
      "task1 0.15354086458683014\n",
      "task1 0.08196982741355896\n",
      "task1 0.1078474149107933\n",
      "task1 0.11466357856988907\n",
      "task1 0.055971741676330566\n",
      "task2 0.05864458531141281\n",
      "task2 0.0597681999206543\n",
      "task2 0.03517431393265724\n",
      "task2 0.23384086787700653\n",
      "task2 0.08700244128704071\n",
      "task2 0.10719859600067139\n",
      "task2 0.12658141553401947\n",
      "task2 0.1229495257139206\n",
      "task2 0.09952068328857422\n",
      "\n"
     ]
    },
    {
     "data": {
      "application/vnd.jupyter.widget-view+json": {
       "model_id": "ab67d18194cd4efabfe70fd46ae491e6",
       "version_major": 2,
       "version_minor": 0
      },
      "text/plain": [
       "HBox(children=(IntProgress(value=0, max=26), HTML(value='')))"
      ]
     },
     "metadata": {},
     "output_type": "display_data"
    },
    {
     "name": "stdout",
     "output_type": "stream",
     "text": [
      "task1 0.010001909919083118\n",
      "task1 0.04564859718084335\n",
      "task1 0.03068617545068264\n",
      "task1 0.031249230727553368\n",
      "task1 0.0015290736919268966\n",
      "task1 0.053640544414520264\n",
      "task1 0.22699160873889923\n",
      "task1 0.16233572363853455\n",
      "task1 0.06499911844730377\n",
      "task1 0.026726096868515015\n",
      "task1 0.0492289774119854\n",
      "task1 0.12209896743297577\n",
      "task1 0.12909826636314392\n",
      "task1 0.04055783152580261\n",
      "task1 0.07088513672351837\n",
      "task1 0.11456668376922607\n",
      "task1 0.01595282554626465\n",
      "task2 0.032410770654678345\n",
      "task2 0.04156062752008438\n",
      "task2 0.02813895046710968\n",
      "task2 0.19744354486465454\n",
      "task2 0.05882761999964714\n",
      "task2 0.09251900017261505\n",
      "task2 0.09826339036226273\n",
      "task2 0.09922915697097778\n",
      "task2 0.03979825973510742\n",
      "\n"
     ]
    },
    {
     "data": {
      "application/vnd.jupyter.widget-view+json": {
       "model_id": "55c39126018b4c78b918abe4c19f4a8c",
       "version_major": 2,
       "version_minor": 0
      },
      "text/plain": [
       "HBox(children=(IntProgress(value=0, max=26), HTML(value='')))"
      ]
     },
     "metadata": {},
     "output_type": "display_data"
    },
    {
     "name": "stdout",
     "output_type": "stream",
     "text": [
      "task1 0.0031077146995812654\n",
      "task1 0.02904236875474453\n",
      "task1 0.02653132751584053\n",
      "task1 0.017496954649686813\n",
      "task1 0.00044817925663664937\n",
      "task1 0.037199802696704865\n",
      "task1 0.19922442734241486\n",
      "task1 0.15893110632896423\n",
      "task1 0.03757091611623764\n",
      "task1 0.022829443216323853\n",
      "task1 0.04326746612787247\n",
      "task1 0.12065503746271133\n",
      "task1 0.11765687167644501\n",
      "task1 0.0258687324821949\n",
      "task1 0.056481730192899704\n",
      "task1 0.11676677316427231\n",
      "task1 0.005316257476806641\n",
      "task2 0.022380618378520012\n",
      "task2 0.03132431209087372\n",
      "task2 0.025724688544869423\n",
      "task2 0.17745013535022736\n",
      "task2 0.04289711266756058\n",
      "task2 0.0809738039970398\n",
      "task2 0.08372608572244644\n",
      "task2 0.08773883432149887\n",
      "task2 0.018135905265808105\n",
      "\n"
     ]
    },
    {
     "data": {
      "application/vnd.jupyter.widget-view+json": {
       "model_id": "fd0c5ef31e284ee2a086875927f42a53",
       "version_major": 2,
       "version_minor": 0
      },
      "text/plain": [
       "HBox(children=(IntProgress(value=0, max=26), HTML(value='')))"
      ]
     },
     "metadata": {},
     "output_type": "display_data"
    },
    {
     "name": "stdout",
     "output_type": "stream",
     "text": [
      "task1 0.0011174678802490234\n",
      "task1 0.020560836419463158\n",
      "task1 0.018335770815610886\n",
      "task1 0.013294780626893044\n",
      "task1 0.00012419224367477\n",
      "task1 0.035016901791095734\n",
      "task1 0.18580079078674316\n",
      "task1 0.14194467663764954\n",
      "task1 0.02680736780166626\n",
      "task1 0.016673505306243896\n",
      "task1 0.04321227967739105\n",
      "task1 0.11342725902795792\n",
      "task1 0.11025746166706085\n",
      "task1 0.017809856683015823\n",
      "task1 0.050611577928066254\n",
      "task1 0.1084999293088913\n",
      "task1 0.0022428035736083984\n",
      "task2 0.016038503497838974\n",
      "task2 0.024104196578264236\n",
      "task2 0.021572295576334\n",
      "task2 0.16121967136859894\n",
      "task2 0.032083503901958466\n",
      "task2 0.07616524398326874\n",
      "task2 0.07388551533222198\n",
      "task2 0.07954776287078857\n",
      "task2 0.00953829288482666\n",
      "\n"
     ]
    },
    {
     "data": {
      "application/vnd.jupyter.widget-view+json": {
       "model_id": "6264ed161a464b068eef7a2f32faf740",
       "version_major": 2,
       "version_minor": 0
      },
      "text/plain": [
       "HBox(children=(IntProgress(value=0, max=26), HTML(value='')))"
      ]
     },
     "metadata": {},
     "output_type": "display_data"
    },
    {
     "name": "stdout",
     "output_type": "stream",
     "text": [
      "task1 0.0004427909734658897\n",
      "task1 0.015554999932646751\n",
      "task1 0.012962055392563343\n",
      "task1 0.011897814460098743\n",
      "task1 3.228187415516004e-05\n",
      "task1 0.033824458718299866\n",
      "task1 0.1668110191822052\n",
      "task1 0.1210562214255333\n",
      "task1 0.020559703931212425\n",
      "task1 0.012152815237641335\n",
      "task1 0.04537626728415489\n",
      "task1 0.10909686237573624\n",
      "task1 0.10452105849981308\n",
      "task1 0.01240086555480957\n",
      "task1 0.04868777468800545\n",
      "task1 0.09509424865245819\n",
      "task1 0.0010137557983398438\n",
      "task2 0.012034863233566284\n",
      "task2 0.018956368789076805\n",
      "task2 0.018911730498075485\n",
      "task2 0.15088149905204773\n",
      "task2 0.024781426414847374\n",
      "task2 0.07150261104106903\n",
      "task2 0.06802301108837128\n",
      "task2 0.0738946944475174\n",
      "task2 0.005008220672607422\n",
      "\n"
     ]
    },
    {
     "data": {
      "application/vnd.jupyter.widget-view+json": {
       "model_id": "ae286dfcea824e33b227af3017d32d76",
       "version_major": 2,
       "version_minor": 0
      },
      "text/plain": [
       "HBox(children=(IntProgress(value=0, max=26), HTML(value='')))"
      ]
     },
     "metadata": {},
     "output_type": "display_data"
    },
    {
     "name": "stdout",
     "output_type": "stream",
     "text": [
      "task1 0.00018379688845016062\n",
      "task1 0.012143993750214577\n",
      "task1 0.009290968999266624\n",
      "task1 0.010411310009658337\n",
      "task1 9.202956789522432e-06\n",
      "task1 0.03287240117788315\n",
      "task1 0.15373492240905762\n",
      "task1 0.10445930808782578\n",
      "task1 0.016145050525665283\n",
      "task1 0.008820521645247936\n",
      "task1 0.04673026502132416\n",
      "task1 0.10558440536260605\n",
      "task1 0.09975752979516983\n",
      "task1 0.00882643461227417\n",
      "task1 0.04748877137899399\n",
      "task1 0.0835983157157898\n",
      "task1 0.00045371055603027344\n",
      "task2 0.00944404024630785\n",
      "task2 0.015277487225830555\n",
      "task2 0.017582181841135025\n",
      "task2 0.14221376180648804\n",
      "task2 0.01964072324335575\n",
      "task2 0.06726576387882233\n",
      "task2 0.06377372145652771\n",
      "task2 0.06952429562807083\n",
      "task2 0.002626657485961914\n",
      "\n"
     ]
    },
    {
     "data": {
      "application/vnd.jupyter.widget-view+json": {
       "model_id": "30bef69d202a4c00894b30e145093203",
       "version_major": 2,
       "version_minor": 0
      },
      "text/plain": [
       "HBox(children=(IntProgress(value=0, max=26), HTML(value='')))"
      ]
     },
     "metadata": {},
     "output_type": "display_data"
    },
    {
     "name": "stdout",
     "output_type": "stream",
     "text": [
      "task1 7.817745063221082e-05\n",
      "task1 0.009448480792343616\n",
      "task1 0.0069155097007751465\n",
      "task1 0.008650755509734154\n",
      "task1 2.86102294921875e-06\n",
      "task1 0.030799806118011475\n",
      "task1 0.14350685477256775\n",
      "task1 0.09266164153814316\n",
      "task1 0.012548565864562988\n",
      "task1 0.0065235854126513\n",
      "task1 0.04760392755270004\n",
      "task1 0.10327265411615372\n",
      "task1 0.09549587965011597\n",
      "task1 0.0064241886138916016\n",
      "task1 0.04568774998188019\n",
      "task1 0.0750904530286789\n",
      "task1 0.00020122528076171875\n",
      "task2 0.007637768983840942\n",
      "task2 0.01252329908311367\n",
      "task2 0.01679259166121483\n",
      "task2 0.1339074969291687\n",
      "task2 0.01582241989672184\n",
      "task2 0.06372970342636108\n",
      "task2 0.06027437001466751\n",
      "task2 0.0657774955034256\n",
      "task2 0.0013904571533203125\n",
      "\n"
     ]
    },
    {
     "data": {
      "application/vnd.jupyter.widget-view+json": {
       "model_id": "02d7fb812bd54860bd5bc29974c20272",
       "version_major": 2,
       "version_minor": 0
      },
      "text/plain": [
       "HBox(children=(IntProgress(value=0, max=26), HTML(value='')))"
      ]
     },
     "metadata": {},
     "output_type": "display_data"
    },
    {
     "name": "stdout",
     "output_type": "stream",
     "text": [
      "task1 3.4046173823298886e-05\n",
      "task1 0.007316887378692627\n",
      "task1 0.00525555619969964\n",
      "task1 0.006951821036636829\n",
      "task1 9.5367431640625e-07\n",
      "task1 0.02836722694337368\n",
      "task1 0.13516397774219513\n",
      "task1 0.08350954949855804\n",
      "task1 0.009749019518494606\n",
      "task1 0.0048438785597682\n",
      "task1 0.048541124910116196\n",
      "task1 0.10121673345565796\n",
      "task1 0.09166283160448074\n",
      "task1 0.004761302378028631\n",
      "task1 0.043528422713279724\n",
      "task1 0.0681484118103981\n",
      "task1 9.012222290039062e-05\n",
      "task2 0.0062701525166630745\n",
      "task2 0.010384571738541126\n",
      "task2 0.016012197360396385\n",
      "task2 0.12613490223884583\n",
      "task2 0.012852087616920471\n",
      "task2 0.061153750866651535\n",
      "task2 0.05724456161260605\n",
      "task2 0.06232570484280586\n",
      "task2 0.0007476806640625\n",
      "\n"
     ]
    }
   ],
   "source": [
    "emmental_learner.learn(mtl_model, [train_dataloader1, train_dataloader2], config=new_config)"
   ]
  },
  {
   "cell_type": "code",
   "execution_count": null,
   "metadata": {},
   "outputs": [],
   "source": []
  }
 ],
 "metadata": {
  "kernelspec": {
   "display_name": "Python 3",
   "language": "python",
   "name": "python3"
  },
  "language_info": {
   "codemirror_mode": {
    "name": "ipython",
    "version": 3
   },
   "file_extension": ".py",
   "mimetype": "text/x-python",
   "name": "python",
   "nbconvert_exporter": "python",
   "pygments_lexer": "ipython3",
   "version": "3.6.5"
  }
 },
 "nbformat": 4,
 "nbformat_minor": 2
}
