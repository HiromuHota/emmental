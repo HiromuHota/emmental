{
 "cells": [
  {
   "cell_type": "code",
   "execution_count": 1,
   "metadata": {},
   "outputs": [],
   "source": [
    "%load_ext autoreload\n",
    "%autoreload 2\n",
    "%matplotlib inline"
   ]
  },
  {
   "cell_type": "code",
   "execution_count": 2,
   "metadata": {},
   "outputs": [],
   "source": [
    "import matplotlib.pyplot as plt\n",
    "import numpy as np\n",
    "import torch\n",
    "import torch.nn.functional as F\n",
    "from torch import nn\n",
    "\n",
    "import emmental\n",
    "\n",
    "from emmental.data import EmmentalDataLoader, EmmentalDataset\n",
    "from emmental.emmental_model import EmmentalModel\n",
    "from emmental.learner import EmmentalLearner\n",
    "from emmental.task import Task\n",
    "from emmental.scorer import Scorer"
   ]
  },
  {
   "cell_type": "code",
   "execution_count": 3,
   "metadata": {},
   "outputs": [
    {
     "name": "stderr",
     "output_type": "stream",
     "text": [
      "[2019-04-19 13:11:54,350][INFO] emmental.meta:44 - Setting logging directory to: test_run/2019_04_19/13_11_54\n"
     ]
    }
   ],
   "source": [
    "emmental.init_logging(\"test_run\")"
   ]
  },
  {
   "cell_type": "markdown",
   "metadata": {},
   "source": [
    "### Generate data"
   ]
  },
  {
   "cell_type": "code",
   "execution_count": 4,
   "metadata": {},
   "outputs": [],
   "source": [
    "N = 200\n",
    "X = np.random.random((N, 2)) * 2 - 1\n",
    "Y = (X[:, 0] > X[:, 1] + 0.25).astype(int) + 1"
   ]
  },
  {
   "cell_type": "code",
   "execution_count": 5,
   "metadata": {},
   "outputs": [],
   "source": [
    "# categorical labels: \n",
    "Y1_mask = Y == 1\n",
    "Y2_mask = Y == 2"
   ]
  },
  {
   "cell_type": "code",
   "execution_count": 6,
   "metadata": {},
   "outputs": [
    {
     "data": {
      "image/png": "[encoded data removed]",
      "text/plain": [
       "<Figure size 432x288 with 1 Axes>"
      ]
     },
     "metadata": {
      "needs_background": "light"
     },
     "output_type": "display_data"
    }
   ],
   "source": [
    "plt.scatter(X[Y1_mask, 0], X[Y1_mask, 1])\n",
    "plt.scatter(X[Y2_mask, 0], X[Y2_mask, 1])\n",
    "plt.show()"
   ]
  },
  {
   "cell_type": "markdown",
   "metadata": {},
   "source": [
    "### Load config"
   ]
  },
  {
   "cell_type": "code",
   "execution_count": 7,
   "metadata": {},
   "outputs": [],
   "source": [
    "from emmental.utils.config import load_config"
   ]
  },
  {
   "cell_type": "code",
   "execution_count": 8,
   "metadata": {},
   "outputs": [],
   "source": [
    "config = load_config()"
   ]
  },
  {
   "cell_type": "code",
   "execution_count": 9,
   "metadata": {},
   "outputs": [
    {
     "data": {
      "text/plain": [
       "{'model_config': {'seed': None,\n",
       "  'verbose': True,\n",
       "  'device': 0,\n",
       "  'fp16': False,\n",
       "  'model_path': None},\n",
       " 'learner_config': {'seed': None,\n",
       "  'verbose': True,\n",
       "  'progress_bar': True,\n",
       "  'n_epochs': 1,\n",
       "  'train_split': 'train',\n",
       "  'valid_split': 'valid',\n",
       "  'test_split': 'test',\n",
       "  'optimizer_config': {'optimizer': 'adam',\n",
       "   'lr': 0.001,\n",
       "   'l2': 0.0,\n",
       "   'grad_clip': 1.0,\n",
       "   'sgd_config': {'momentum': 0.9},\n",
       "   'adam_config': {'betas': (0.9, 0.999)}},\n",
       "  'lr_scheduler_config': {'lr_scheduler': None,\n",
       "   'warmup_steps': 0.0,\n",
       "   'warmup_unit': 'epoch',\n",
       "   'min_lr': 0.0,\n",
       "   'linear_config': {'min_lr': 0.0},\n",
       "   'exponential_config': {'gamma': 0.9},\n",
       "   'plateau_config': {'factor': 0.5, 'patience': 10, 'threshold': 0.0001}},\n",
       "  'task_scheduler': 'sequential'},\n",
       " 'logging_config': {'counter_unit': 'batch',\n",
       "  'evaluation_freq': 10,\n",
       "  'writer_config': {'writer': 'tensorboard', 'verbose': True},\n",
       "  'checkpointint': True,\n",
       "  'checkpointer_config': {'checkpoint_path': None,\n",
       "   'checkpoint_freq': 2,\n",
       "   'checkpoint_metric': 'task1/da1/valid/f1',\n",
       "   'checkpoint_metric_mode': 'max',\n",
       "   'checkpoint_runway': 0}}}"
      ]
     },
     "execution_count": 9,
     "metadata": {},
     "output_type": "execute_result"
    }
   ],
   "source": [
    "config"
   ]
  },
  {
   "cell_type": "markdown",
   "metadata": {},
   "source": [
    "### Create tasks"
   ]
  },
  {
   "cell_type": "code",
   "execution_count": 10,
   "metadata": {},
   "outputs": [],
   "source": [
    "def mse_loss(immediate_ouput, Y):\n",
    "    mse = nn.MSELoss()\n",
    "    return mse(immediate_ouput[-1][0].view(-1), Y.view(-1))"
   ]
  },
  {
   "cell_type": "code",
   "execution_count": 11,
   "metadata": {},
   "outputs": [],
   "source": [
    "def ce_loss(immediate_ouput, Y):\n",
    "#     F.cross_entropy(X[\"data\"], Y.view(-1) - 1))\n",
    "#     ce = nn.BCELoss()\n",
    "#     print(immediate_ouput[-1][0].size(), Y.size())\n",
    "    return F.cross_entropy(immediate_ouput[-1][0], Y.view(-1) - 1)"
   ]
  },
  {
   "cell_type": "code",
   "execution_count": 12,
   "metadata": {},
   "outputs": [],
   "source": [
    "def output(immediate_ouput):\n",
    "    return immediate_ouput[-1][0]"
   ]
  },
  {
   "cell_type": "code",
   "execution_count": 13,
   "metadata": {},
   "outputs": [
    {
     "name": "stderr",
     "output_type": "stream",
     "text": [
      "[2019-04-19 13:11:54,783][INFO] emmental.task:34 - Created task: task1\n"
     ]
    }
   ],
   "source": [
    "task1 = Task(\n",
    "    name=\"task1\",\n",
    "    module_pool=nn.ModuleDict(\n",
    "        {\n",
    "            \"input_module\": nn.Linear(2, 8),\n",
    "            \"middle_module\": nn.Linear(8, 8),\n",
    "            \"head_module1\": nn.Linear(8, 2),\n",
    "        }\n",
    "    ),\n",
    "    task_flow=[\n",
    "        {\"module\": \"input_module\", \"inputs\": [(0, 'data')]},\n",
    "        {\"module\": \"middle_module\", \"inputs\": [(1, 0)]},\n",
    "        {\"module\": \"head_module1\", \"inputs\": [(2, 0)]},\n",
    "    ],\n",
    "    loss_func=ce_loss,\n",
    "    output_func=output,\n",
    "    scorer=Scorer(metrics=['f1', 'accuracy']),\n",
    ")"
   ]
  },
  {
   "cell_type": "code",
   "execution_count": 14,
   "metadata": {},
   "outputs": [
    {
     "name": "stderr",
     "output_type": "stream",
     "text": [
      "[2019-04-19 13:11:54,811][INFO] emmental.task:34 - Created task: task2\n"
     ]
    }
   ],
   "source": [
    "task2 = Task(\n",
    "    name=\"task2\",\n",
    "    module_pool=nn.ModuleDict(\n",
    "        {\n",
    "            \"input_module\": nn.Linear(2, 8),\n",
    "            \"middle_module\": nn.Linear(8, 8),\n",
    "            \"head_module2\": nn.Linear(8, 2),\n",
    "        }\n",
    "    ),\n",
    "    task_flow=[\n",
    "        {\"module\": \"input_module\", \"inputs\": [(0, 'data')]},\n",
    "        {\"module\": \"middle_module\", \"inputs\": [(1, 0)]},\n",
    "        {\"module\": \"head_module2\", \"inputs\": [(2, 0)]},\n",
    "    ],\n",
    "    loss_func=ce_loss,\n",
    "    output_func=output,\n",
    "    scorer=Scorer(metrics=['f1', 'accuracy']),\n",
    ")"
   ]
  },
  {
   "cell_type": "code",
   "execution_count": 15,
   "metadata": {},
   "outputs": [
    {
     "name": "stderr",
     "output_type": "stream",
     "text": [
      "[2019-04-19 13:11:54,840][INFO] emmental.emmental_model:43 - Created emmental model all that contains task {'task2', 'task1'}.\n",
      "[2019-04-19 13:11:54,841][INFO] emmental.emmental_model:60 - No cuda device available. Switch to cpu instead.\n"
     ]
    },
    {
     "name": "stdout",
     "output_type": "stream",
     "text": [
      "0\n",
      "False\n"
     ]
    }
   ],
   "source": [
    "mtl_model = EmmentalModel(name = 'all', config = config, tasks=[task1, task2])"
   ]
  },
  {
   "cell_type": "code",
   "execution_count": 16,
   "metadata": {},
   "outputs": [
    {
     "data": {
      "text/plain": [
       "False"
      ]
     },
     "execution_count": 16,
     "metadata": {},
     "output_type": "execute_result"
    }
   ],
   "source": [
    "import torch\n",
    "torch.cuda.is_available()"
   ]
  },
  {
   "cell_type": "code",
   "execution_count": 17,
   "metadata": {},
   "outputs": [],
   "source": [
    "# mtl_model1 = EmmentalModel(name = 'all', tasks=[task1, task1])"
   ]
  },
  {
   "cell_type": "markdown",
   "metadata": {},
   "source": [
    "### Generate dataloader"
   ]
  },
  {
   "cell_type": "code",
   "execution_count": 18,
   "metadata": {},
   "outputs": [],
   "source": [
    "splits = [0.8, 0.1, 0.1]\n",
    "\n",
    "X_train, X_dev, X_test = [], [], []\n",
    "Y_train, Y_dev, Y_test = [], [], []\n",
    "\n",
    "for i in range(N):\n",
    "    if i <= N * splits[0]:\n",
    "        X_train.append(torch.Tensor(X[i]))\n",
    "        Y_train.append(torch.Tensor([Y[i]]).type(torch.LongTensor))\n",
    "    elif i < N * (splits[0] + splits[1]):\n",
    "        X_dev.append(torch.Tensor(X[i]))\n",
    "        Y_dev.append(torch.Tensor([Y[i]]).type(torch.LongTensor))\n",
    "    else:\n",
    "        X_test.append(torch.Tensor(X[i]))\n",
    "        Y_test.append(torch.Tensor([Y[i]]).type(torch.LongTensor))"
   ]
  },
  {
   "cell_type": "code",
   "execution_count": 19,
   "metadata": {},
   "outputs": [],
   "source": [
    "train_dataset = EmmentalDataset(name=\"da1\", X_dict={\"data\": X_train}, Y_dict={\"label\": Y_train})\n",
    "dev_dataset = EmmentalDataset(name=\"da1\", X_dict= {\"data\": X_dev}, Y_dict={\"label\": Y_dev})\n",
    "test_dataset = EmmentalDataset(name=\"da1\", X_dict= {\"data\": X_test}, Y_dict={\"label\": Y_test})"
   ]
  },
  {
   "cell_type": "code",
   "execution_count": 20,
   "metadata": {},
   "outputs": [],
   "source": [
    "train_dataloader1 = EmmentalDataLoader(\n",
    "    task_name=\"task1\", dataset=train_dataset, label_name=\"label\", split=\"train\", batch_size=10\n",
    ")\n",
    "dev_dataloader1 = EmmentalDataLoader(\n",
    "    task_name=\"task1\", dataset=dev_dataset, label_name=\"label\", split=\"valid\", batch_size=10\n",
    ")\n",
    "test_dataloader1 = EmmentalDataLoader(\n",
    "    task_name=\"task1\", dataset=test_dataset, label_name=\"label\", split=\"test\", batch_size=10\n",
    ")"
   ]
  },
  {
   "cell_type": "code",
   "execution_count": 21,
   "metadata": {},
   "outputs": [],
   "source": [
    "train_dataloader2 = EmmentalDataLoader(\n",
    "    task_name=\"task2\", dataset=train_dataset, label_name=\"label\", split=\"train\", batch_size=20\n",
    ")\n",
    "dev_dataloader2 = EmmentalDataLoader(\n",
    "    task_name=\"task2\", dataset=dev_dataset, label_name=\"label\", split=\"valid\", batch_size=10\n",
    ")\n",
    "test_dataloader2 = EmmentalDataLoader(\n",
    "    task_name=\"task2\", dataset=test_dataset, label_name=\"label\", split=\"test\", batch_size=10\n",
    ")"
   ]
  },
  {
   "cell_type": "code",
   "execution_count": 22,
   "metadata": {},
   "outputs": [],
   "source": [
    "emmental_learner = EmmentalLearner(config)"
   ]
  },
  {
   "cell_type": "code",
   "execution_count": 23,
   "metadata": {},
   "outputs": [],
   "source": [
    "new_config = {\"learner_config\": {\"n_epochs\": 10, \"optimizer_config\": {\"lr\": 0.01}}}"
   ]
  },
  {
   "cell_type": "code",
   "execution_count": 24,
   "metadata": {
    "scrolled": true
   },
   "outputs": [
    {
     "name": "stderr",
     "output_type": "stream",
     "text": [
      "[2019-04-19 13:11:55,100][INFO] emmental.utils.logging.logging_manager:34 - Evaluating every 10 batch.\n",
      "[2019-04-19 13:11:55,101][INFO] emmental.utils.logging.logging_manager:41 - Checkpointing every 20 batch.\n",
      "[2019-04-19 13:11:55,111][INFO] emmental.utils.logging.checkpointer:49 - Save checkpoints at test_run/2019_04_19/13_11_54 every 20 batch\n",
      "[2019-04-19 13:11:55,112][INFO] emmental.utils.logging.checkpointer:73 - No checkpoints saved before 0 batch.\n",
      "[2019-04-19 13:11:55,113][INFO] emmental.learner:277 - Start learning...\n"
     ]
    },
    {
     "data": {
      "application/vnd.jupyter.widget-view+json": {
       "model_id": "e18297cda26b4f4aa40469dd2a793e69",
       "version_major": 2,
       "version_minor": 0
      },
      "text/plain": [
       "HBox(children=(IntProgress(value=0, max=26), HTML(value='')))"
      ]
     },
     "metadata": {},
     "output_type": "display_data"
    },
    {
     "name": "stderr",
     "output_type": "stream",
     "text": [
      "[2019-04-19 13:11:55,191][INFO] emmental.utils.logging.checkpointer:95 - Save checkpoint of 20 batch at test_run/2019_04_19/13_11_54/checkpoint_20.pth.\n",
      "[2019-04-19 13:11:55,193][INFO] emmental.utils.logging.checkpointer:109 - Save best model of metric task1/da1/valid/f1 at test_run/2019_04_19/13_11_54/best_model_task1_da1_valid_f1.pth\n"
     ]
    },
    {
     "name": "stdout",
     "output_type": "stream",
     "text": [
      "\n"
     ]
    },
    {
     "data": {
      "application/vnd.jupyter.widget-view+json": {
       "model_id": "300073fba0b1477fb9de9799aad0d865",
       "version_major": 2,
       "version_minor": 0
      },
      "text/plain": [
       "HBox(children=(IntProgress(value=0, max=26), HTML(value='')))"
      ]
     },
     "metadata": {},
     "output_type": "display_data"
    },
    {
     "name": "stderr",
     "output_type": "stream",
     "text": [
      "[2019-04-19 13:11:55,278][INFO] emmental.utils.logging.checkpointer:95 - Save checkpoint of 40 batch at test_run/2019_04_19/13_11_54/checkpoint_40.pth.\n",
      "[2019-04-19 13:11:55,279][INFO] emmental.utils.logging.checkpointer:109 - Save best model of metric task1/da1/valid/f1 at test_run/2019_04_19/13_11_54/best_model_task1_da1_valid_f1.pth\n"
     ]
    },
    {
     "name": "stdout",
     "output_type": "stream",
     "text": [
      "\n"
     ]
    },
    {
     "data": {
      "application/vnd.jupyter.widget-view+json": {
       "model_id": "0d008296867647919b425e0cebb458ee",
       "version_major": 2,
       "version_minor": 0
      },
      "text/plain": [
       "HBox(children=(IntProgress(value=0, max=26), HTML(value='')))"
      ]
     },
     "metadata": {},
     "output_type": "display_data"
    },
    {
     "name": "stderr",
     "output_type": "stream",
     "text": [
      "[2019-04-19 13:11:55,370][INFO] emmental.utils.logging.checkpointer:95 - Save checkpoint of 60 batch at test_run/2019_04_19/13_11_54/checkpoint_60.pth.\n"
     ]
    },
    {
     "name": "stdout",
     "output_type": "stream",
     "text": [
      "\n"
     ]
    },
    {
     "data": {
      "application/vnd.jupyter.widget-view+json": {
       "model_id": "24c1fb6f6e42494099e66e75654f6a24",
       "version_major": 2,
       "version_minor": 0
      },
      "text/plain": [
       "HBox(children=(IntProgress(value=0, max=26), HTML(value='')))"
      ]
     },
     "metadata": {},
     "output_type": "display_data"
    },
    {
     "name": "stderr",
     "output_type": "stream",
     "text": [
      "[2019-04-19 13:11:55,448][INFO] emmental.utils.logging.checkpointer:95 - Save checkpoint of 80 batch at test_run/2019_04_19/13_11_54/checkpoint_80.pth.\n",
      "[2019-04-19 13:11:55,500][INFO] emmental.utils.logging.checkpointer:95 - Save checkpoint of 100 batch at test_run/2019_04_19/13_11_54/checkpoint_100.pth.\n"
     ]
    },
    {
     "name": "stdout",
     "output_type": "stream",
     "text": [
      "\n"
     ]
    },
    {
     "data": {
      "application/vnd.jupyter.widget-view+json": {
       "model_id": "efaef0f141f74968ac1bbcafdddce6e7",
       "version_major": 2,
       "version_minor": 0
      },
      "text/plain": [
       "HBox(children=(IntProgress(value=0, max=26), HTML(value='')))"
      ]
     },
     "metadata": {},
     "output_type": "display_data"
    },
    {
     "name": "stderr",
     "output_type": "stream",
     "text": [
      "[2019-04-19 13:11:55,572][INFO] emmental.utils.logging.checkpointer:95 - Save checkpoint of 120 batch at test_run/2019_04_19/13_11_54/checkpoint_120.pth.\n"
     ]
    },
    {
     "name": "stdout",
     "output_type": "stream",
     "text": [
      "\n"
     ]
    },
    {
     "data": {
      "application/vnd.jupyter.widget-view+json": {
       "model_id": "ab0715431fd84c24915601cc859b418b",
       "version_major": 2,
       "version_minor": 0
      },
      "text/plain": [
       "HBox(children=(IntProgress(value=0, max=26), HTML(value='')))"
      ]
     },
     "metadata": {},
     "output_type": "display_data"
    },
    {
     "name": "stderr",
     "output_type": "stream",
     "text": [
      "[2019-04-19 13:11:55,645][INFO] emmental.utils.logging.checkpointer:95 - Save checkpoint of 140 batch at test_run/2019_04_19/13_11_54/checkpoint_140.pth.\n"
     ]
    },
    {
     "name": "stdout",
     "output_type": "stream",
     "text": [
      "\n"
     ]
    },
    {
     "data": {
      "application/vnd.jupyter.widget-view+json": {
       "model_id": "8506586683904f4ba0d0ce8d7885fac0",
       "version_major": 2,
       "version_minor": 0
      },
      "text/plain": [
       "HBox(children=(IntProgress(value=0, max=26), HTML(value='')))"
      ]
     },
     "metadata": {},
     "output_type": "display_data"
    },
    {
     "name": "stderr",
     "output_type": "stream",
     "text": [
      "[2019-04-19 13:11:55,712][INFO] emmental.utils.logging.checkpointer:95 - Save checkpoint of 160 batch at test_run/2019_04_19/13_11_54/checkpoint_160.pth.\n",
      "[2019-04-19 13:11:55,762][INFO] emmental.utils.logging.checkpointer:95 - Save checkpoint of 180 batch at test_run/2019_04_19/13_11_54/checkpoint_180.pth.\n"
     ]
    },
    {
     "name": "stdout",
     "output_type": "stream",
     "text": [
      "\n"
     ]
    },
    {
     "data": {
      "application/vnd.jupyter.widget-view+json": {
       "model_id": "79027ab429334cd688612c1781836e65",
       "version_major": 2,
       "version_minor": 0
      },
      "text/plain": [
       "HBox(children=(IntProgress(value=0, max=26), HTML(value='')))"
      ]
     },
     "metadata": {},
     "output_type": "display_data"
    },
    {
     "name": "stderr",
     "output_type": "stream",
     "text": [
      "[2019-04-19 13:11:55,832][INFO] emmental.utils.logging.checkpointer:95 - Save checkpoint of 200 batch at test_run/2019_04_19/13_11_54/checkpoint_200.pth.\n"
     ]
    },
    {
     "name": "stdout",
     "output_type": "stream",
     "text": [
      "\n"
     ]
    },
    {
     "data": {
      "application/vnd.jupyter.widget-view+json": {
       "model_id": "aae3c8078e8140e7ba8cf3b69f390708",
       "version_major": 2,
       "version_minor": 0
      },
      "text/plain": [
       "HBox(children=(IntProgress(value=0, max=26), HTML(value='')))"
      ]
     },
     "metadata": {},
     "output_type": "display_data"
    },
    {
     "name": "stderr",
     "output_type": "stream",
     "text": [
      "[2019-04-19 13:11:55,904][INFO] emmental.utils.logging.checkpointer:95 - Save checkpoint of 220 batch at test_run/2019_04_19/13_11_54/checkpoint_220.pth.\n"
     ]
    },
    {
     "name": "stdout",
     "output_type": "stream",
     "text": [
      "\n"
     ]
    },
    {
     "data": {
      "application/vnd.jupyter.widget-view+json": {
       "model_id": "3ed14d1e2539406b91743b1ea335958b",
       "version_major": 2,
       "version_minor": 0
      },
      "text/plain": [
       "HBox(children=(IntProgress(value=0, max=26), HTML(value='')))"
      ]
     },
     "metadata": {},
     "output_type": "display_data"
    },
    {
     "name": "stderr",
     "output_type": "stream",
     "text": [
      "[2019-04-19 13:11:55,977][INFO] emmental.utils.logging.checkpointer:95 - Save checkpoint of 240 batch at test_run/2019_04_19/13_11_54/checkpoint_240.pth.\n",
      "[2019-04-19 13:11:56,028][INFO] emmental.utils.logging.checkpointer:95 - Save checkpoint of 260 batch at test_run/2019_04_19/13_11_54/checkpoint_260.pth.\n"
     ]
    },
    {
     "name": "stdout",
     "output_type": "stream",
     "text": [
      "\n"
     ]
    }
   ],
   "source": [
    "emmental_learner.learn(mtl_model, [train_dataloader1, train_dataloader2, dev_dataloader1, dev_dataloader2], config=new_config)"
   ]
  },
  {
   "cell_type": "code",
   "execution_count": 25,
   "metadata": {},
   "outputs": [
    {
     "name": "stdout",
     "output_type": "stream",
     "text": [
      "10\n",
      "{'task1': array([[ -5.605821 ,   6.616453 ],\n",
      "       [ 10.115773 , -12.303732 ],\n",
      "       [ -5.1620855,   6.041027 ],\n",
      "       [ 18.612885 , -22.665606 ],\n",
      "       [  4.6857123,  -5.976761 ],\n",
      "       [  5.3827314,  -6.5714474],\n",
      "       [  9.706847 , -11.994118 ],\n",
      "       [-13.425292 ,  16.08996  ],\n",
      "       [ -3.8153324,   4.383479 ],\n",
      "       [ -5.8330665,   6.939002 ]], dtype=float32)} (10, 2)\n",
      "10\n",
      "{'task1': array([[ 11.523288 , -14.127176 ],\n",
      "       [ -7.124387 ,   8.5031595],\n",
      "       [ 16.296492 , -19.879707 ],\n",
      "       [ -7.7682495,   9.283152 ],\n",
      "       [ 13.096664 , -15.87392  ],\n",
      "       [ 14.56792  , -17.637539 ],\n",
      "       [  5.5487957,  -6.8551826],\n",
      "       [ 13.86955  , -16.925653 ],\n",
      "       [ 22.386166 , -27.18903  ],\n",
      "       [ 11.763883 , -14.364275 ]], dtype=float32)} (10, 2)\n",
      "10\n",
      "{'task1': array([[ 31.00486  , -37.645245 ],\n",
      "       [ -9.577427 ,  11.440399 ],\n",
      "       [ 10.621839 , -12.981565 ],\n",
      "       [  3.413901 ,  -4.131667 ],\n",
      "       [ -6.221949 ,   7.385564 ],\n",
      "       [ -1.4887195,   1.6450294],\n",
      "       [  0.9328028,  -1.1873667],\n",
      "       [ 21.706293 , -26.378239 ],\n",
      "       [-11.749756 ,  13.989578 ],\n",
      "       [ 10.061671 , -12.269369 ]], dtype=float32)} (10, 2)\n",
      "10\n",
      "{'task1': array([[-21.338737  ,  25.717173  ],\n",
      "       [ -7.99633   ,   9.571214  ],\n",
      "       [ 21.1445    , -25.631584  ],\n",
      "       [ 22.05546   , -26.776718  ],\n",
      "       [  2.898062  ,  -3.6975992 ],\n",
      "       [ 14.481192  , -17.743092  ],\n",
      "       [  3.8830416 ,  -4.792618  ],\n",
      "       [ -0.75267726,   0.6395129 ],\n",
      "       [ 11.3526125 , -13.940357  ],\n",
      "       [-12.154414  ,  14.501983  ]], dtype=float32)} (10, 2)\n",
      "10\n",
      "{'task1': array([[  2.3026683 ,  -3.0205696 ],\n",
      "       [ -0.48391336,   0.52110654],\n",
      "       [ 13.074616  , -15.811409  ],\n",
      "       [-12.089646  ,  14.569315  ],\n",
      "       [-23.416433  ,  28.213503  ],\n",
      "       [ 23.036303  , -27.980785  ],\n",
      "       [  4.222929  ,  -5.2961006 ],\n",
      "       [-16.05203   ,  19.352406  ],\n",
      "       [-11.419246  ,  13.728072  ],\n",
      "       [ 12.40834   , -15.042895  ]], dtype=float32)} (10, 2)\n",
      "10\n",
      "{'task1': array([[  9.955488  , -12.0472555 ],\n",
      "       [-14.285073  ,  17.122082  ],\n",
      "       [ -5.775269  ,   6.9790115 ],\n",
      "       [  8.019919  ,  -9.96014   ],\n",
      "       [  0.38569614,  -0.5271089 ],\n",
      "       [  0.2480233 ,  -0.4635046 ],\n",
      "       [ -3.8867574 ,   4.426158  ],\n",
      "       [  5.7623315 ,  -7.252015  ],\n",
      "       [ -9.00615   ,  10.674194  ],\n",
      "       [  2.440977  ,  -3.160484  ]], dtype=float32)} (10, 2)\n",
      "10\n",
      "{'task1': array([[ 17.76075   , -21.66188   ],\n",
      "       [-12.566877  ,  15.101946  ],\n",
      "       [ -4.8166313 ,   5.810567  ],\n",
      "       [ 12.624642  , -15.411747  ],\n",
      "       [ 12.225454  , -14.853201  ],\n",
      "       [  0.14371645,  -0.45253432],\n",
      "       [ 11.468339  , -14.084549  ],\n",
      "       [ -5.8354297 ,   7.053735  ],\n",
      "       [ -5.180037  ,   6.156111  ],\n",
      "       [ -7.998014  ,   9.558572  ]], dtype=float32)} (10, 2)\n",
      "10\n",
      "{'task1': array([[  2.2562988 ,  -2.6983838 ],\n",
      "       [  6.2312026 ,  -7.482855  ],\n",
      "       [ -6.654717  ,   7.813553  ],\n",
      "       [ -1.710021  ,   2.013169  ],\n",
      "       [  5.0902963 ,  -6.194603  ],\n",
      "       [ 10.016273  , -12.256693  ],\n",
      "       [ -0.3389068 ,   0.12840928],\n",
      "       [ 16.78491   , -20.502071  ],\n",
      "       [  7.1991124 ,  -8.730391  ],\n",
      "       [  7.622057  ,  -9.3662815 ]], dtype=float32)} (10, 2)\n",
      "10\n",
      "{'task1': array([[  1.3970692 ,  -2.008292  ],\n",
      "       [ -6.3606563 ,   7.517028  ],\n",
      "       [ 22.806936  , -27.664257  ],\n",
      "       [ -4.748805  ,   5.617777  ],\n",
      "       [  0.50381565,  -0.90393496],\n",
      "       [  5.1038723 ,  -6.4228735 ],\n",
      "       [ -9.6039    ,  11.437801  ],\n",
      "       [ 14.124806  , -17.21867   ],\n",
      "       [ -1.1453362 ,   1.2726798 ],\n",
      "       [  3.296729  ,  -3.9974477 ]], dtype=float32)} (10, 2)\n",
      "10\n",
      "{'task1': array([[ 19.91833  , -24.192678 ],\n",
      "       [ 12.852126 , -15.748632 ],\n",
      "       [  7.647356 ,  -9.229204 ],\n",
      "       [  1.0602312,  -1.3242562],\n",
      "       [ -7.337207 ,   8.856211 ],\n",
      "       [  8.66134  , -10.633192 ],\n",
      "       [  5.2768416,  -6.614251 ],\n",
      "       [ -7.3509846,   8.704861 ],\n",
      "       [ 26.278934 , -31.961033 ],\n",
      "       [  1.6490054,  -2.127664 ]], dtype=float32)} (10, 2)\n",
      "10\n",
      "{'task1': array([[-16.966305 ,  20.370798 ],\n",
      "       [-18.507586 ,  22.209515 ],\n",
      "       [  4.554149 ,  -5.5141506],\n",
      "       [  9.353738 , -11.611164 ],\n",
      "       [ -6.7149897,   8.112449 ],\n",
      "       [ 23.1175   , -28.178358 ],\n",
      "       [ -8.077589 ,   9.616056 ],\n",
      "       [  1.4771237,  -2.07393  ],\n",
      "       [ -4.727278 ,   5.7037354],\n",
      "       [ 19.373806 , -23.533958 ]], dtype=float32)} (10, 2)\n",
      "10\n",
      "{'task1': array([[ 10.288315  , -12.6862135 ],\n",
      "       [  4.097984  ,  -5.013584  ],\n",
      "       [  9.597884  , -11.579799  ],\n",
      "       [ -5.865273  ,   7.0420494 ],\n",
      "       [ -0.65750647,   0.6103289 ],\n",
      "       [ 10.236339  , -12.422897  ],\n",
      "       [  4.4575    ,  -5.700838  ],\n",
      "       [ 29.078112  , -35.336147  ],\n",
      "       [ 13.889274  , -16.80904   ],\n",
      "       [ -9.640809  ,  11.444731  ]], dtype=float32)} (10, 2)\n",
      "10\n",
      "{'task1': array([[ 22.980673  , -27.9651    ],\n",
      "       [ -0.5872382 ,   0.5761168 ],\n",
      "       [ 25.483635  , -30.940475  ],\n",
      "       [  8.211946  , -10.005976  ],\n",
      "       [ -4.884639  ,   5.6937256 ],\n",
      "       [  0.7074426 ,  -0.97401273],\n",
      "       [  1.696986  ,  -2.1059    ],\n",
      "       [ 19.538733  , -23.85254   ],\n",
      "       [  6.635205  ,  -8.018015  ],\n",
      "       [ -9.758217  ,  11.594358  ]], dtype=float32)} (10, 2)\n",
      "10\n",
      "{'task1': array([[  5.508152 ,  -6.7422304],\n",
      "       [ 18.329206 , -22.313057 ],\n",
      "       [ -7.1700115,   8.561228 ],\n",
      "       [ 13.492797 , -16.322363 ],\n",
      "       [ 19.972849 , -24.210848 ],\n",
      "       [ 13.546182 , -16.466902 ],\n",
      "       [ 16.978456 , -20.632133 ],\n",
      "       [ 17.084913 , -20.90636  ],\n",
      "       [ 16.63162  , -20.36641  ],\n",
      "       [-16.624056 ,  20.04576  ]], dtype=float32)} (10, 2)\n",
      "10\n",
      "{'task1': array([[  1.2380569 ,  -1.7068496 ],\n",
      "       [  2.315348  ,  -3.014803  ],\n",
      "       [ -7.0917096 ,   8.334173  ],\n",
      "       [ -2.2523453 ,   2.6248586 ],\n",
      "       [ -0.41965145,   0.42989635],\n",
      "       [-10.848052  ,  12.990865  ],\n",
      "       [ 17.82856   , -21.787548  ],\n",
      "       [  1.6185703 ,  -1.9260123 ],\n",
      "       [ -6.4416738 ,   7.6796055 ],\n",
      "       [ 31.989552  , -38.85288   ]], dtype=float32)} (10, 2)\n",
      "10\n",
      "{'task1': array([[  3.4186304 ,  -4.2854166 ],\n",
      "       [  3.6190085 ,  -4.678238  ],\n",
      "       [ 19.064993  , -23.276447  ],\n",
      "       [  5.77033   ,  -7.008273  ],\n",
      "       [  6.492567  ,  -7.940531  ],\n",
      "       [  0.59928185,  -0.8643131 ],\n",
      "       [  5.017075  ,  -6.0067997 ],\n",
      "       [-19.201134  ,  23.131859  ],\n",
      "       [  9.565697  , -11.615364  ],\n",
      "       [-14.863406  ,  17.801876  ]], dtype=float32)} (10, 2)\n",
      "1\n",
      "{'task1': array([[ 0.68069637, -0.9811187 ]], dtype=float32)} (1, 2)\n"
     ]
    }
   ],
   "source": [
    "for x, y in train_dataloader1:\n",
    "    print(len(next(iter(y.values()))))\n",
    "    res = mtl_model._calculate_probs(x, [train_dataloader1.task_name])\n",
    "    print(res, res['task1'].shape)"
   ]
  },
  {
   "cell_type": "code",
   "execution_count": 26,
   "metadata": {},
   "outputs": [
    {
     "data": {
      "text/plain": [
       "(defaultdict(list,\n",
       "             {'task1': array([2, 1, 2, 1, 1, 1, 1, 2, 2, 2, 1, 2, 1, 2, 1, 1, 1, 1, 1, 1, 1, 2,\n",
       "                     1, 1, 2, 2, 1, 1, 2, 1, 2, 2, 1, 1, 1, 1, 1, 2, 1, 2, 1, 2, 1, 2,\n",
       "                     2, 1, 1, 2, 2, 1, 1, 2, 2, 1, 1, 1, 2, 1, 2, 1, 1, 2, 2, 1, 1, 1,\n",
       "                     1, 2, 2, 2, 1, 1, 2, 2, 1, 1, 2, 1, 1, 1, 1, 2, 1, 2, 1, 1, 2, 1,\n",
       "                     2, 1, 1, 1, 1, 1, 2, 1, 1, 2, 1, 1, 2, 2, 1, 1, 2, 1, 2, 1, 2, 1,\n",
       "                     1, 1, 1, 2, 2, 1, 1, 1, 1, 2, 1, 2, 1, 1, 2, 1, 1, 1, 1, 2, 1, 1,\n",
       "                     2, 1, 1, 1, 1, 1, 1, 2, 1, 1, 2, 2, 2, 2, 1, 1, 2, 1, 1, 1, 1, 1,\n",
       "                     1, 1, 1, 2, 1, 2, 1])}),\n",
       " defaultdict(list, {'task1': array([[ -5.605821  ,   6.616453  ],\n",
       "                     [ 10.115773  , -12.303732  ],\n",
       "                     [ -5.1620855 ,   6.041027  ],\n",
       "                     [ 18.612885  , -22.665606  ],\n",
       "                     [  4.6857123 ,  -5.976761  ],\n",
       "                     [  5.3827314 ,  -6.5714474 ],\n",
       "                     [  9.706847  , -11.994118  ],\n",
       "                     [-13.425292  ,  16.08996   ],\n",
       "                     [ -3.8153324 ,   4.383479  ],\n",
       "                     [ -5.8330665 ,   6.939002  ],\n",
       "                     [ 11.523288  , -14.127176  ],\n",
       "                     [ -7.124387  ,   8.5031595 ],\n",
       "                     [ 16.296492  , -19.879707  ],\n",
       "                     [ -7.7682495 ,   9.283152  ],\n",
       "                     [ 13.096664  , -15.87392   ],\n",
       "                     [ 14.56792   , -17.637539  ],\n",
       "                     [  5.5487957 ,  -6.8551826 ],\n",
       "                     [ 13.86955   , -16.925653  ],\n",
       "                     [ 22.386166  , -27.18903   ],\n",
       "                     [ 11.763883  , -14.364275  ],\n",
       "                     [ 31.00486   , -37.645245  ],\n",
       "                     [ -9.577427  ,  11.440399  ],\n",
       "                     [ 10.621839  , -12.981565  ],\n",
       "                     [  3.413901  ,  -4.131667  ],\n",
       "                     [ -6.221949  ,   7.385564  ],\n",
       "                     [ -1.4887195 ,   1.6450294 ],\n",
       "                     [  0.9328028 ,  -1.1873667 ],\n",
       "                     [ 21.706293  , -26.378239  ],\n",
       "                     [-11.749756  ,  13.989578  ],\n",
       "                     [ 10.061671  , -12.269369  ],\n",
       "                     [-21.338737  ,  25.717173  ],\n",
       "                     [ -7.99633   ,   9.571214  ],\n",
       "                     [ 21.1445    , -25.631584  ],\n",
       "                     [ 22.05546   , -26.776718  ],\n",
       "                     [  2.898062  ,  -3.6975992 ],\n",
       "                     [ 14.481192  , -17.743092  ],\n",
       "                     [  3.8830416 ,  -4.792618  ],\n",
       "                     [ -0.75267726,   0.6395129 ],\n",
       "                     [ 11.3526125 , -13.940357  ],\n",
       "                     [-12.154414  ,  14.501983  ],\n",
       "                     [  2.3026683 ,  -3.0205696 ],\n",
       "                     [ -0.48391336,   0.52110654],\n",
       "                     [ 13.074616  , -15.811409  ],\n",
       "                     [-12.089646  ,  14.569315  ],\n",
       "                     [-23.416433  ,  28.213503  ],\n",
       "                     [ 23.036303  , -27.980785  ],\n",
       "                     [  4.222929  ,  -5.2961006 ],\n",
       "                     [-16.05203   ,  19.352406  ],\n",
       "                     [-11.419246  ,  13.728072  ],\n",
       "                     [ 12.40834   , -15.042895  ],\n",
       "                     [  9.955488  , -12.0472555 ],\n",
       "                     [-14.285073  ,  17.122082  ],\n",
       "                     [ -5.775269  ,   6.9790115 ],\n",
       "                     [  8.019919  ,  -9.96014   ],\n",
       "                     [  0.38569614,  -0.5271089 ],\n",
       "                     [  0.2480233 ,  -0.4635046 ],\n",
       "                     [ -3.8867574 ,   4.426158  ],\n",
       "                     [  5.7623315 ,  -7.252015  ],\n",
       "                     [ -9.00615   ,  10.674194  ],\n",
       "                     [  2.440977  ,  -3.160484  ],\n",
       "                     [ 17.76075   , -21.66188   ],\n",
       "                     [-12.566877  ,  15.101946  ],\n",
       "                     [ -4.8166313 ,   5.810567  ],\n",
       "                     [ 12.624642  , -15.411747  ],\n",
       "                     [ 12.225454  , -14.853201  ],\n",
       "                     [  0.14371645,  -0.45253432],\n",
       "                     [ 11.468339  , -14.084549  ],\n",
       "                     [ -5.8354297 ,   7.053735  ],\n",
       "                     [ -5.180037  ,   6.156111  ],\n",
       "                     [ -7.998014  ,   9.558572  ],\n",
       "                     [  2.2562988 ,  -2.6983838 ],\n",
       "                     [  6.2312026 ,  -7.482855  ],\n",
       "                     [ -6.654717  ,   7.813553  ],\n",
       "                     [ -1.710021  ,   2.013169  ],\n",
       "                     [  5.0902963 ,  -6.194603  ],\n",
       "                     [ 10.016273  , -12.256693  ],\n",
       "                     [ -0.3389068 ,   0.12840928],\n",
       "                     [ 16.78491   , -20.502071  ],\n",
       "                     [  7.1991124 ,  -8.730391  ],\n",
       "                     [  7.622057  ,  -9.3662815 ],\n",
       "                     [  1.3970692 ,  -2.008292  ],\n",
       "                     [ -6.3606563 ,   7.517028  ],\n",
       "                     [ 22.806936  , -27.664257  ],\n",
       "                     [ -4.748805  ,   5.617777  ],\n",
       "                     [  0.50381565,  -0.90393496],\n",
       "                     [  5.1038723 ,  -6.4228735 ],\n",
       "                     [ -9.6039    ,  11.437801  ],\n",
       "                     [ 14.124806  , -17.21867   ],\n",
       "                     [ -1.1453362 ,   1.2726798 ],\n",
       "                     [  3.296729  ,  -3.9974477 ],\n",
       "                     [ 19.91833   , -24.192678  ],\n",
       "                     [ 12.852126  , -15.748632  ],\n",
       "                     [  7.647356  ,  -9.229204  ],\n",
       "                     [  1.0602312 ,  -1.3242562 ],\n",
       "                     [ -7.337207  ,   8.856211  ],\n",
       "                     [  8.66134   , -10.633192  ],\n",
       "                     [  5.2768416 ,  -6.614251  ],\n",
       "                     [ -7.3509846 ,   8.704861  ],\n",
       "                     [ 26.278934  , -31.961033  ],\n",
       "                     [  1.6490054 ,  -2.127664  ],\n",
       "                     [-16.966305  ,  20.370798  ],\n",
       "                     [-18.507586  ,  22.209515  ],\n",
       "                     [  4.554149  ,  -5.5141506 ],\n",
       "                     [  9.353738  , -11.611164  ],\n",
       "                     [ -6.7149897 ,   8.112449  ],\n",
       "                     [ 23.1175    , -28.178358  ],\n",
       "                     [ -8.077589  ,   9.616056  ],\n",
       "                     [  1.4771237 ,  -2.07393   ],\n",
       "                     [ -4.727278  ,   5.7037354 ],\n",
       "                     [ 19.373806  , -23.533958  ],\n",
       "                     [ 10.288315  , -12.6862135 ],\n",
       "                     [  4.097984  ,  -5.013584  ],\n",
       "                     [  9.597884  , -11.579799  ],\n",
       "                     [ -5.865273  ,   7.0420494 ],\n",
       "                     [ -0.65750647,   0.6103289 ],\n",
       "                     [ 10.236339  , -12.422897  ],\n",
       "                     [  4.4575    ,  -5.700838  ],\n",
       "                     [ 29.078112  , -35.336147  ],\n",
       "                     [ 13.889274  , -16.80904   ],\n",
       "                     [ -9.640809  ,  11.444731  ],\n",
       "                     [ 22.980673  , -27.9651    ],\n",
       "                     [ -0.5872382 ,   0.5761168 ],\n",
       "                     [ 25.483635  , -30.940475  ],\n",
       "                     [  8.211946  , -10.005976  ],\n",
       "                     [ -4.884639  ,   5.6937256 ],\n",
       "                     [  0.7074426 ,  -0.97401273],\n",
       "                     [  1.696986  ,  -2.1059    ],\n",
       "                     [ 19.538733  , -23.85254   ],\n",
       "                     [  6.635205  ,  -8.018015  ],\n",
       "                     [ -9.758217  ,  11.594358  ],\n",
       "                     [  5.508152  ,  -6.7422304 ],\n",
       "                     [ 18.329206  , -22.313057  ],\n",
       "                     [ -7.1700115 ,   8.561228  ],\n",
       "                     [ 13.492797  , -16.322363  ],\n",
       "                     [ 19.972849  , -24.210848  ],\n",
       "                     [ 13.546182  , -16.466902  ],\n",
       "                     [ 16.978456  , -20.632133  ],\n",
       "                     [ 17.084913  , -20.90636   ],\n",
       "                     [ 16.63162   , -20.36641   ],\n",
       "                     [-16.624056  ,  20.04576   ],\n",
       "                     [  1.2380569 ,  -1.7068496 ],\n",
       "                     [  2.315348  ,  -3.014803  ],\n",
       "                     [ -7.0917096 ,   8.334173  ],\n",
       "                     [ -2.2523453 ,   2.6248586 ],\n",
       "                     [ -0.41965145,   0.42989635],\n",
       "                     [-10.848052  ,  12.990865  ],\n",
       "                     [ 17.82856   , -21.787548  ],\n",
       "                     [  1.6185703 ,  -1.9260123 ],\n",
       "                     [ -6.4416738 ,   7.6796055 ],\n",
       "                     [ 31.989552  , -38.85288   ],\n",
       "                     [  3.4186304 ,  -4.2854166 ],\n",
       "                     [  3.6190085 ,  -4.678238  ],\n",
       "                     [ 19.064993  , -23.276447  ],\n",
       "                     [  5.77033   ,  -7.008273  ],\n",
       "                     [  6.492567  ,  -7.940531  ],\n",
       "                     [  0.59928185,  -0.8643131 ],\n",
       "                     [  5.017075  ,  -6.0067997 ],\n",
       "                     [-19.201134  ,  23.131859  ],\n",
       "                     [  9.565697  , -11.615364  ],\n",
       "                     [-14.863406  ,  17.801876  ],\n",
       "                     [  0.68069637,  -0.9811187 ]], dtype=float32)}),\n",
       " defaultdict(list,\n",
       "             {'task1': array([2, 1, 2, 1, 1, 1, 1, 2, 2, 2, 1, 2, 1, 2, 1, 1, 1, 1, 1, 1, 1, 2,\n",
       "                     1, 1, 2, 2, 1, 1, 2, 1, 2, 2, 1, 1, 1, 1, 1, 2, 1, 2, 1, 2, 1, 2,\n",
       "                     2, 1, 1, 2, 2, 1, 1, 2, 2, 1, 1, 1, 2, 1, 2, 1, 1, 2, 2, 1, 1, 1,\n",
       "                     1, 2, 2, 2, 1, 1, 2, 2, 1, 1, 2, 1, 1, 1, 1, 2, 1, 2, 1, 1, 2, 1,\n",
       "                     2, 1, 1, 1, 1, 1, 2, 1, 1, 2, 1, 1, 2, 2, 1, 1, 2, 1, 2, 1, 2, 1,\n",
       "                     1, 1, 1, 2, 2, 1, 1, 1, 1, 2, 1, 2, 1, 1, 2, 1, 1, 1, 1, 2, 1, 1,\n",
       "                     2, 1, 1, 1, 1, 1, 1, 2, 1, 1, 2, 2, 2, 2, 1, 1, 2, 1, 1, 1, 1, 1,\n",
       "                     1, 1, 1, 2, 1, 2, 1])}))"
      ]
     },
     "execution_count": 26,
     "metadata": {},
     "output_type": "execute_result"
    }
   ],
   "source": [
    "mtl_model.predict(train_dataloader1, return_preds=True)"
   ]
  },
  {
   "cell_type": "code",
   "execution_count": 27,
   "metadata": {},
   "outputs": [
    {
     "data": {
      "text/plain": [
       "{'task1/da1/train/f1': 1.0, 'task1/da1/train/accuracy': 1.0}"
      ]
     },
     "execution_count": 27,
     "metadata": {},
     "output_type": "execute_result"
    }
   ],
   "source": [
    "mtl_model.score(train_dataloader1)"
   ]
  },
  {
   "cell_type": "code",
   "execution_count": 28,
   "metadata": {},
   "outputs": [
    {
     "data": {
      "text/plain": [
       "False"
      ]
     },
     "execution_count": 28,
     "metadata": {},
     "output_type": "execute_result"
    }
   ],
   "source": [
    "from collections.abc import Iterable\n",
    "\n",
    "isinstance(train_dataloader1, list)"
   ]
  },
  {
   "cell_type": "code",
   "execution_count": 29,
   "metadata": {},
   "outputs": [],
   "source": [
    "a = np.array([1,0,1,0,1,0])\n",
    "b = np.array([1,1,1,1,1,0])"
   ]
  },
  {
   "cell_type": "code",
   "execution_count": 30,
   "metadata": {},
   "outputs": [],
   "source": [
    "from emmental.metrics.accuracy import accuracy_scorer\n",
    "from emmental.metrics.fbeta import f1_scorer, fbeta_scorer\n",
    "from emmental.metrics.precision import precision_scorer\n",
    "from emmental.metrics.recall import recall_scorer"
   ]
  },
  {
   "cell_type": "code",
   "execution_count": 31,
   "metadata": {},
   "outputs": [
    {
     "data": {
      "text/plain": [
       "{'accuracy': 0.6666666666666666}"
      ]
     },
     "execution_count": 31,
     "metadata": {},
     "output_type": "execute_result"
    }
   ],
   "source": [
    "accuracy_scorer(a, b, b)"
   ]
  },
  {
   "cell_type": "code",
   "execution_count": 32,
   "metadata": {},
   "outputs": [],
   "source": [
    "from emmental.metrics import METRICS"
   ]
  },
  {
   "cell_type": "code",
   "execution_count": 33,
   "metadata": {},
   "outputs": [
    {
     "data": {
      "text/plain": [
       "{'accuracy': <function emmental.metrics.accuracy.accuracy_scorer(gold, probs, preds, normalize=True)>,\n",
       " 'precision': <function emmental.metrics.precision.precision_scorer(gold, probs, preds, pos_label=1)>,\n",
       " 'recall': <function emmental.metrics.recall.recall_scorer(gold, probs, preds, pos_label=1)>,\n",
       " 'f1': <function emmental.metrics.fbeta.f1_scorer(gold, probs, preds, pos_label=1)>,\n",
       " 'fbeta': <function emmental.metrics.fbeta.fbeta_scorer(gold, probs, preds, pos_label=1, beta=1)>,\n",
       " 'matthews_correlation': <function emmental.metrics.matthews_correlation.matthews_correlation_coefficient_scorer(gold, probs, preds)>,\n",
       " 'mean_squared_error': <function emmental.metrics.mean_squared_error.mean_squared_error_scorer(gold, probs, preds)>,\n",
       " 'pearson_correlation': <function emmental.metrics.pearson_correlation.pearson_correlation_scorer(gold, probs, preds)>,\n",
       " 'pearson_spearman': <function emmental.metrics.pearson_spearman.pearson_spearman_scorer(gold, probs, preds)>,\n",
       " 'spearman_correlation': <function emmental.metrics.spearman_correlation.spearman_correlation_scorer(gold, probs, preds)>}"
      ]
     },
     "execution_count": 33,
     "metadata": {},
     "output_type": "execute_result"
    }
   ],
   "source": [
    "METRICS"
   ]
  },
  {
   "cell_type": "code",
   "execution_count": 34,
   "metadata": {},
   "outputs": [
    {
     "data": {
      "text/plain": [
       "{'accuracy': 0.6666666666666666}"
      ]
     },
     "execution_count": 34,
     "metadata": {},
     "output_type": "execute_result"
    }
   ],
   "source": [
    "METRICS[\"accuracy\"](a,b,b)"
   ]
  },
  {
   "cell_type": "code",
   "execution_count": 35,
   "metadata": {},
   "outputs": [],
   "source": [
    "c = ['1', '2', '3', '4']\n",
    "d = ['1', '1', '1', '1']"
   ]
  },
  {
   "cell_type": "code",
   "execution_count": 36,
   "metadata": {},
   "outputs": [
    {
     "data": {
      "text/plain": [
       "array([0, 2, 4, 5])"
      ]
     },
     "execution_count": 36,
     "metadata": {},
     "output_type": "execute_result"
    }
   ],
   "source": [
    "np.where(a == b)[0]"
   ]
  },
  {
   "cell_type": "code",
   "execution_count": 37,
   "metadata": {},
   "outputs": [
    {
     "data": {
      "text/plain": [
       "(array([0, 0, 0, 0]), array([0, 2, 4, 5]))"
      ]
     },
     "execution_count": 37,
     "metadata": {},
     "output_type": "execute_result"
    }
   ],
   "source": [
    "np.where([a == b])"
   ]
  },
  {
   "cell_type": "code",
   "execution_count": 38,
   "metadata": {},
   "outputs": [
    {
     "data": {
      "text/plain": [
       "(array([], dtype=int64),)"
      ]
     },
     "execution_count": 38,
     "metadata": {},
     "output_type": "execute_result"
    }
   ],
   "source": [
    "np.where(c == d)\n",
    "# np.where([c == d])"
   ]
  },
  {
   "cell_type": "code",
   "execution_count": 39,
   "metadata": {},
   "outputs": [
    {
     "data": {
      "text/plain": [
       "4"
      ]
     },
     "execution_count": 39,
     "metadata": {},
     "output_type": "execute_result"
    }
   ],
   "source": [
    "np.where(a == b)[0].shape[0]"
   ]
  },
  {
   "cell_type": "code",
   "execution_count": 40,
   "metadata": {},
   "outputs": [
    {
     "data": {
      "text/plain": [
       "0.6666666666666666"
      ]
     },
     "execution_count": 40,
     "metadata": {},
     "output_type": "execute_result"
    }
   ],
   "source": [
    "2/3"
   ]
  },
  {
   "cell_type": "code",
   "execution_count": 41,
   "metadata": {},
   "outputs": [
    {
     "data": {
      "text/plain": [
       "{'precision': 1.0}"
      ]
     },
     "execution_count": 41,
     "metadata": {},
     "output_type": "execute_result"
    }
   ],
   "source": [
    "precision_scorer(b, a, a)"
   ]
  },
  {
   "cell_type": "code",
   "execution_count": 42,
   "metadata": {},
   "outputs": [
    {
     "data": {
      "text/plain": [
       "{'recall': 0.6}"
      ]
     },
     "execution_count": 42,
     "metadata": {},
     "output_type": "execute_result"
    }
   ],
   "source": [
    "recall_scorer(b, a, a)"
   ]
  },
  {
   "cell_type": "code",
   "execution_count": 43,
   "metadata": {},
   "outputs": [
    {
     "data": {
      "text/plain": [
       "{'f1': 0.7499999999999999}"
      ]
     },
     "execution_count": 43,
     "metadata": {},
     "output_type": "execute_result"
    }
   ],
   "source": [
    "f1_scorer(b,a,a)"
   ]
  },
  {
   "cell_type": "code",
   "execution_count": 44,
   "metadata": {},
   "outputs": [
    {
     "name": "stdout",
     "output_type": "stream",
     "text": [
      "{'pearson_correlation': 0.4472135954999579, 'pearson_pvalue': 0.37390096630005887, 'spearman_correlation': 0.447213595499958, 'spearman_pvalue': 0.3739009663000589}\n"
     ]
    }
   ],
   "source": [
    "from emmental.metrics import METRICS\n",
    "\n",
    "metrics = METRICS\n",
    "\n",
    "golds = np.array([1,0,1,0,1,0])\n",
    "preds = np.array([1,1,1,1,1,0])\n",
    "probs = np.array([0.8,0.6,0.9,0.7,0.7,0.2])\n",
    "\n",
    "res = dict()\n",
    "\n",
    "for metric_name, metric in metrics.items():\n",
    "    res.update(metric(golds, probs, preds))\n",
    "\n",
    "# res = {metric_name: metric(golds, preds, probs) for metric_name, metric in metrics.items()}"
   ]
  },
  {
   "cell_type": "code",
   "execution_count": 45,
   "metadata": {},
   "outputs": [
    {
     "data": {
      "text/plain": [
       "{'accuracy': 0.6666666666666666,\n",
       " 'precision': 0.6,\n",
       " 'recall': 1.0,\n",
       " 'f1': 0.7499999999999999,\n",
       " 'matthews_corrcoef': 0.4472135954999579,\n",
       " 'mean_squared_error': 0.17166666666666666,\n",
       " 'pearson_correlation': 0.4472135954999579,\n",
       " 'pearson_pvalue': 0.37390096630005887,\n",
       " 'spearman_correlation': 0.447213595499958,\n",
       " 'spearman_pvalue': 0.3739009663000589,\n",
       " 'pearson_spearman': 0.447213595499958}"
      ]
     },
     "execution_count": 45,
     "metadata": {},
     "output_type": "execute_result"
    }
   ],
   "source": [
    "res"
   ]
  },
  {
   "cell_type": "code",
   "execution_count": 46,
   "metadata": {},
   "outputs": [
    {
     "data": {
      "text/plain": [
       "{'f1': 0.0}"
      ]
     },
     "execution_count": 46,
     "metadata": {},
     "output_type": "execute_result"
    }
   ],
   "source": [
    "metrics['f1'](golds, preds, probs)"
   ]
  },
  {
   "cell_type": "code",
   "execution_count": 47,
   "metadata": {},
   "outputs": [],
   "source": [
    "from emmental.scorer import Scorer"
   ]
  },
  {
   "cell_type": "code",
   "execution_count": 48,
   "metadata": {},
   "outputs": [],
   "source": [
    "def sum(gold, preds, probs):\n",
    "    return np.sum(preds)"
   ]
  },
  {
   "cell_type": "code",
   "execution_count": 49,
   "metadata": {},
   "outputs": [],
   "source": [
    "scorer = Scorer(metrics=['accuracy', 'f1'], customize_metric_funcs={\"sum\": sum})"
   ]
  },
  {
   "cell_type": "code",
   "execution_count": 50,
   "metadata": {},
   "outputs": [
    {
     "data": {
      "text/plain": [
       "{'accuracy': 0.0, 'f1': 0.0, 'sum': 5}"
      ]
     },
     "execution_count": 50,
     "metadata": {},
     "output_type": "execute_result"
    }
   ],
   "source": [
    "scorer.score(golds, preds, probs)"
   ]
  },
  {
   "cell_type": "code",
   "execution_count": 51,
   "metadata": {},
   "outputs": [
    {
     "data": {
      "text/plain": [
       "161"
      ]
     },
     "execution_count": 51,
     "metadata": {},
     "output_type": "execute_result"
    }
   ],
   "source": [
    "len(train_dataloader1.dataset)"
   ]
  },
  {
   "cell_type": "code",
   "execution_count": null,
   "metadata": {},
   "outputs": [],
   "source": []
  }
 ],
 "metadata": {
  "kernelspec": {
   "display_name": "Python 3",
   "language": "python",
   "name": "python3"
  },
  "language_info": {
   "codemirror_mode": {
    "name": "ipython",
    "version": 3
   },
   "file_extension": ".py",
   "mimetype": "text/x-python",
   "name": "python",
   "nbconvert_exporter": "python",
   "pygments_lexer": "ipython3",
   "version": "3.6.5"
  }
 },
 "nbformat": 4,
 "nbformat_minor": 2
}
