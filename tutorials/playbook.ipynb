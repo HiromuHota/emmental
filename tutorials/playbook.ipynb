{
 "cells": [
  {
   "cell_type": "code",
   "execution_count": 1,
   "metadata": {},
   "outputs": [],
   "source": [
    "import emmental\n",
    "from emmental.modules.identity_module import IdentityModule\n",
    "from emmental.task import Task\n",
    "from emmental.emmental_model import EmmentalModel\n",
    "from torch import nn\n",
    "import torch"
   ]
  },
  {
   "cell_type": "code",
   "execution_count": 2,
   "metadata": {},
   "outputs": [],
   "source": [
    "def print_params(task):\n",
    "    for key in task.module_pool.keys():\n",
    "        print(key)\n",
    "        for param in task.module_pool[key].named_parameters():\n",
    "            print(param)"
   ]
  },
  {
   "cell_type": "code",
   "execution_count": 3,
   "metadata": {},
   "outputs": [],
   "source": [
    "def print_params_all(task):\n",
    "    for key in task.module_pool.keys():\n",
    "        print(key)\n",
    "        for param in task.module_pool[key].named_parameters():\n",
    "            print(param)"
   ]
  },
  {
   "cell_type": "code",
   "execution_count": 4,
   "metadata": {},
   "outputs": [],
   "source": [
    "task1 = Task(\n",
    "    name=\"linear1\",\n",
    "    module_pool=nn.ModuleDict(\n",
    "        {\n",
    "            \"im1\": IdentityModule(),\n",
    "            \"linear1\": nn.Linear(4, 2, bias=False),\n",
    "            \"linear2\": nn.Linear(2, 1, bias=False),\n",
    "        }\n",
    "    ),\n",
    "    task_flow=[\n",
    "        {\"module\": \"linear1\", \"inputs\": [(0, 0)]},\n",
    "        {\"module\": \"linear2\", \"inputs\": [(1, 0)]},\n",
    "    ],\n",
    "    loss_func=None,\n",
    "    output_func=None,\n",
    ")"
   ]
  },
  {
   "cell_type": "code",
   "execution_count": 5,
   "metadata": {},
   "outputs": [],
   "source": [
    "task2 = Task(\n",
    "    name=\"linear2\",\n",
    "    module_pool=nn.ModuleDict(\n",
    "        {\"im2\": IdentityModule(), \"linear1\": nn.Linear(4, 2, bias=False)}\n",
    "    ),\n",
    "    task_flow=None,\n",
    "    loss_func=None,\n",
    "    output_func=None,\n",
    ")"
   ]
  },
  {
   "cell_type": "code",
   "execution_count": 6,
   "metadata": {},
   "outputs": [
    {
     "name": "stdout",
     "output_type": "stream",
     "text": [
      "im1\n",
      "linear1\n",
      "('weight', Parameter containing:\n",
      "tensor([[-0.4613, -0.4269,  0.4455,  0.0602],\n",
      "        [-0.2865,  0.4622, -0.3994, -0.2003]], requires_grad=True))\n",
      "linear2\n",
      "('weight', Parameter containing:\n",
      "tensor([[ 0.2056, -0.5968]], requires_grad=True))\n",
      "im2\n",
      "linear1\n",
      "('weight', Parameter containing:\n",
      "tensor([[ 0.0831,  0.1457,  0.1203, -0.2610],\n",
      "        [ 0.4883, -0.0560,  0.0956, -0.0648]], requires_grad=True))\n"
     ]
    }
   ],
   "source": [
    "print_params(task1)\n",
    "print_params(task2)"
   ]
  },
  {
   "cell_type": "code",
   "execution_count": 7,
   "metadata": {},
   "outputs": [],
   "source": [
    "mtl_model = EmmentalModel(name = 'all', tasks=[task1, task2])"
   ]
  },
  {
   "cell_type": "code",
   "execution_count": 8,
   "metadata": {},
   "outputs": [
    {
     "data": {
      "text/plain": [
       "EmmentalModel(name=all)"
      ]
     },
     "execution_count": 8,
     "metadata": {},
     "output_type": "execute_result"
    }
   ],
   "source": [
    "mtl_model"
   ]
  },
  {
   "cell_type": "code",
   "execution_count": 9,
   "metadata": {},
   "outputs": [
    {
     "name": "stdout",
     "output_type": "stream",
     "text": [
      "im1\n",
      "linear1\n",
      "('weight', Parameter containing:\n",
      "tensor([[-0.4613, -0.4269,  0.4455,  0.0602],\n",
      "        [-0.2865,  0.4622, -0.3994, -0.2003]], requires_grad=True))\n",
      "linear2\n",
      "('weight', Parameter containing:\n",
      "tensor([[ 0.2056, -0.5968]], requires_grad=True))\n",
      "====\n",
      "im2\n",
      "linear1\n",
      "('weight', Parameter containing:\n",
      "tensor([[-0.4613, -0.4269,  0.4455,  0.0602],\n",
      "        [-0.2865,  0.4622, -0.3994, -0.2003]], requires_grad=True))\n",
      "====\n",
      "im1\n",
      "linear1\n",
      "('weight', Parameter containing:\n",
      "tensor([[-0.4613, -0.4269,  0.4455,  0.0602],\n",
      "        [-0.2865,  0.4622, -0.3994, -0.2003]], requires_grad=True))\n",
      "linear2\n",
      "('weight', Parameter containing:\n",
      "tensor([[ 0.2056, -0.5968]], requires_grad=True))\n",
      "im2\n"
     ]
    }
   ],
   "source": [
    "print_params(task1)\n",
    "print('====')\n",
    "print_params(task2)\n",
    "print('====')\n",
    "print_params_all(mtl_model)"
   ]
  },
  {
   "cell_type": "code",
   "execution_count": 10,
   "metadata": {},
   "outputs": [
    {
     "data": {
      "text/plain": [
       "torch.nn.modules.container.ModuleDict"
      ]
     },
     "execution_count": 10,
     "metadata": {},
     "output_type": "execute_result"
    }
   ],
   "source": [
    "type(task1.module_pool)"
   ]
  },
  {
   "cell_type": "code",
   "execution_count": 11,
   "metadata": {},
   "outputs": [
    {
     "data": {
      "text/plain": [
       "torch.nn.modules.container.ModuleDict"
      ]
     },
     "execution_count": 11,
     "metadata": {},
     "output_type": "execute_result"
    }
   ],
   "source": [
    "type(task2.module_pool)"
   ]
  },
  {
   "cell_type": "code",
   "execution_count": 12,
   "metadata": {},
   "outputs": [
    {
     "data": {
      "text/plain": [
       "torch.nn.modules.container.ModuleDict"
      ]
     },
     "execution_count": 12,
     "metadata": {},
     "output_type": "execute_result"
    }
   ],
   "source": [
    "type(mtl_model.module_pool)"
   ]
  },
  {
   "cell_type": "code",
   "execution_count": 13,
   "metadata": {},
   "outputs": [],
   "source": [
    "task_flow = [\n",
    "    {\"module\": \"linear1\", \"inputs\": [(0, 0)]},\n",
    "    {\"module\": \"linear2\", \"inputs\": [(1, 0)]},\n",
    "]"
   ]
  },
  {
   "cell_type": "code",
   "execution_count": 14,
   "metadata": {},
   "outputs": [],
   "source": [
    "var1 = torch.tensor([1.,2.,3.,4.])"
   ]
  },
  {
   "cell_type": "code",
   "execution_count": 15,
   "metadata": {},
   "outputs": [
    {
     "data": {
      "text/plain": [
       "tensor([0.8664], grad_fn=<SqueezeBackward3>)"
      ]
     },
     "execution_count": 15,
     "metadata": {},
     "output_type": "execute_result"
    }
   ],
   "source": [
    "mtl_model.module_pool['linear2'].forward(mtl_model.module_pool['linear1'].forward(var1))"
   ]
  },
  {
   "cell_type": "code",
   "execution_count": 16,
   "metadata": {},
   "outputs": [],
   "source": [
    "import numpy as np"
   ]
  },
  {
   "cell_type": "code",
   "execution_count": 17,
   "metadata": {},
   "outputs": [
    {
     "data": {
      "text/plain": [
       "(2, 4)"
      ]
     },
     "execution_count": 17,
     "metadata": {},
     "output_type": "execute_result"
    }
   ],
   "source": [
    "m1 = np.array([[-0.1828, -0.1443, -0.2745, -0.4306], [0.4322, -0.0427, 0.1007, 0.4297]])\n",
    "m1.shape"
   ]
  },
  {
   "cell_type": "code",
   "execution_count": 18,
   "metadata": {},
   "outputs": [
    {
     "data": {
      "text/plain": [
       "(2,)"
      ]
     },
     "execution_count": 18,
     "metadata": {},
     "output_type": "execute_result"
    }
   ],
   "source": [
    "m2 = np.array([0.5048, 0.4704])\n",
    "m2.shape"
   ]
  },
  {
   "cell_type": "code",
   "execution_count": 19,
   "metadata": {},
   "outputs": [],
   "source": [
    "v1 = np.array([1.0, 2.0, 3.0, 4.0]).reshape((1,4))"
   ]
  },
  {
   "cell_type": "code",
   "execution_count": 20,
   "metadata": {},
   "outputs": [
    {
     "data": {
      "text/plain": [
       "array([-0.40936696])"
      ]
     },
     "execution_count": 20,
     "metadata": {},
     "output_type": "execute_result"
    }
   ],
   "source": [
    "v1 @ m1.transpose() @ m2.transpose()"
   ]
  },
  {
   "cell_type": "code",
   "execution_count": null,
   "metadata": {},
   "outputs": [],
   "source": []
  },
  {
   "cell_type": "code",
   "execution_count": 21,
   "metadata": {},
   "outputs": [
    {
     "data": {
      "text/plain": [
       "{'linear1': [[tensor([1., 2., 3., 4.])],\n",
       "  [tensor([ 0.2624, -1.3615], grad_fn=<SqueezeBackward3>)],\n",
       "  [tensor([0.8664], grad_fn=<SqueezeBackward3>)]]}"
      ]
     },
     "execution_count": 21,
     "metadata": {},
     "output_type": "execute_result"
    }
   ],
   "source": [
    "mtl_model.forward(var1, task_names=['linear1'])"
   ]
  },
  {
   "cell_type": "code",
   "execution_count": 22,
   "metadata": {},
   "outputs": [
    {
     "name": "stdout",
     "output_type": "stream",
     "text": [
      "{'module': 'linear1', 'inputs': [(0, 0)]}\n",
      "=========\n",
      "input [tensor([1., 2., 3., 4.])]\n",
      "output tensor([ 0.2624, -1.3615], grad_fn=<SqueezeBackward3>)\n",
      "[[tensor([1., 2., 3., 4.])], [tensor([ 0.2624, -1.3615], grad_fn=<SqueezeBackward3>)]]\n",
      "{'module': 'linear2', 'inputs': [(1, 0)]}\n",
      "=========\n",
      "input [tensor([ 0.2624, -1.3615], grad_fn=<SqueezeBackward3>)]\n",
      "output tensor([0.8664], grad_fn=<SqueezeBackward3>)\n",
      "[[tensor([1., 2., 3., 4.])], [tensor([ 0.2624, -1.3615], grad_fn=<SqueezeBackward3>)], [tensor([0.8664], grad_fn=<SqueezeBackward3>)]]\n"
     ]
    },
    {
     "data": {
      "text/plain": [
       "[{'module': 'linear1', 'inputs': [(0, 0)]},\n",
       " {'module': 'linear2', 'inputs': [(1, 0)]}]"
      ]
     },
     "execution_count": 22,
     "metadata": {},
     "output_type": "execute_result"
    }
   ],
   "source": [
    "immediate_ouput = [[var1]]\n",
    "for action in task_flow:\n",
    "    print(action)\n",
    "    print('=========')\n",
    "    input = [immediate_ouput[action_index][output_index] for action_index, output_index in action['inputs']]\n",
    "    print('input', input)\n",
    "    output = mtl_model.module_pool[action['module']].forward(*input)\n",
    "    print('output', output)\n",
    "    if isinstance(output, tuple): output = list(output)\n",
    "    if not isinstance(output, list): output = [output]\n",
    "    immediate_ouput.append(output)\n",
    "    print(immediate_ouput)\n",
    "task_flow"
   ]
  },
  {
   "cell_type": "code",
   "execution_count": null,
   "metadata": {},
   "outputs": [],
   "source": []
  },
  {
   "cell_type": "code",
   "execution_count": 23,
   "metadata": {},
   "outputs": [],
   "source": [
    "x = [\n",
    "    torch.Tensor([1]),\n",
    "    torch.Tensor([1, 2]),\n",
    "    torch.Tensor([1, 2, 3]),\n",
    "    torch.Tensor([1, 2, 3, 4]),\n",
    "    torch.Tensor([1, 2, 3, 4, 5]),\n",
    "]"
   ]
  },
  {
   "cell_type": "code",
   "execution_count": 24,
   "metadata": {},
   "outputs": [],
   "source": [
    "y1 = [\n",
    "    torch.Tensor([0]),\n",
    "    torch.Tensor([0]),\n",
    "    torch.Tensor([1]),\n",
    "    torch.Tensor([1]),\n",
    "    torch.Tensor([1]),\n",
    "]\n",
    "\n",
    "y2 = [\n",
    "    torch.Tensor([1]),\n",
    "    torch.Tensor([1]),\n",
    "    torch.Tensor([0]),\n",
    "    torch.Tensor([0]),\n",
    "    torch.Tensor([0]),\n",
    "]"
   ]
  },
  {
   "cell_type": "code",
   "execution_count": 25,
   "metadata": {},
   "outputs": [],
   "source": [
    "from emmental.data import EmmentalDataset, EmmentalDataLoader"
   ]
  },
  {
   "cell_type": "code",
   "execution_count": 26,
   "metadata": {},
   "outputs": [],
   "source": [
    "dataset = EmmentalDataset({\"data\": x}, {\"label1\": y1, \"label2\": y2})"
   ]
  },
  {
   "cell_type": "code",
   "execution_count": 27,
   "metadata": {},
   "outputs": [
    {
     "data": {
      "text/plain": [
       "({'data': tensor([1., 2., 3., 4., 5.])},\n",
       " {'label1': tensor([1.]), 'label2': tensor([0.])})"
      ]
     },
     "execution_count": 27,
     "metadata": {},
     "output_type": "execute_result"
    }
   ],
   "source": [
    "dataset[4]"
   ]
  },
  {
   "cell_type": "code",
   "execution_count": 28,
   "metadata": {},
   "outputs": [],
   "source": [
    "dataloader1 = EmmentalDataLoader(dataset, batch_size=2)"
   ]
  },
  {
   "cell_type": "code",
   "execution_count": 29,
   "metadata": {},
   "outputs": [
    {
     "name": "stdout",
     "output_type": "stream",
     "text": [
      "{'data': tensor([[1., 0.],\n",
      "        [1., 2.]])} {'label1': tensor([[0.],\n",
      "        [0.]]), 'label2': tensor([[1.],\n",
      "        [1.]])}\n",
      "data torch.Size([2, 2])\n",
      "label1 torch.Size([2, 1])\n",
      "label2 torch.Size([2, 1])\n",
      "{'data': tensor([[1., 2., 3., 0.],\n",
      "        [1., 2., 3., 4.]])} {'label1': tensor([[1.],\n",
      "        [1.]]), 'label2': tensor([[0.],\n",
      "        [0.]])}\n",
      "data torch.Size([2, 4])\n",
      "label1 torch.Size([2, 1])\n",
      "label2 torch.Size([2, 1])\n",
      "{'data': tensor([[1., 2., 3., 4., 5.]])} {'label1': tensor([[1.]]), 'label2': tensor([[0.]])}\n",
      "data torch.Size([1, 5])\n",
      "label1 torch.Size([1, 1])\n",
      "label2 torch.Size([1, 1])\n"
     ]
    }
   ],
   "source": [
    "for x_batch, y_batch in dataloader1:\n",
    "    print(x_batch, y_batch)\n",
    "    for key, value in x_batch.items():\n",
    "        print(key, value.size())\n",
    "    for key, value in y_batch.items():\n",
    "        print(key, value.size())"
   ]
  },
  {
   "cell_type": "code",
   "execution_count": 30,
   "metadata": {},
   "outputs": [],
   "source": [
    "dataloader2 = EmmentalDataLoader(dataset, batch_size=3)"
   ]
  },
  {
   "cell_type": "code",
   "execution_count": 31,
   "metadata": {},
   "outputs": [
    {
     "name": "stdout",
     "output_type": "stream",
     "text": [
      "{'data': tensor([[1., 0., 0.],\n",
      "        [1., 2., 0.],\n",
      "        [1., 2., 3.]])} {'label1': tensor([[0.],\n",
      "        [0.],\n",
      "        [1.]]), 'label2': tensor([[1.],\n",
      "        [1.],\n",
      "        [0.]])}\n",
      "data torch.Size([3, 3])\n",
      "label1 torch.Size([3, 1])\n",
      "label2 torch.Size([3, 1])\n",
      "{'data': tensor([[1., 2., 3., 4., 0.],\n",
      "        [1., 2., 3., 4., 5.]])} {'label1': tensor([[1.],\n",
      "        [1.]]), 'label2': tensor([[0.],\n",
      "        [0.]])}\n",
      "data torch.Size([2, 5])\n",
      "label1 torch.Size([2, 1])\n",
      "label2 torch.Size([2, 1])\n"
     ]
    }
   ],
   "source": [
    "for x_batch, y_batch in dataloader2:\n",
    "    print(x_batch, y_batch)\n",
    "    for key, value in x_batch.items():\n",
    "        print(key, value.size())\n",
    "    for key, value in y_batch.items():\n",
    "        print(key, value.size())"
   ]
  },
  {
   "cell_type": "code",
   "execution_count": 32,
   "metadata": {},
   "outputs": [],
   "source": [
    "dataset.Y_dict['label1'][0] = torch.Tensor([2.])"
   ]
  },
  {
   "cell_type": "code",
   "execution_count": 33,
   "metadata": {},
   "outputs": [
    {
     "name": "stdout",
     "output_type": "stream",
     "text": [
      "{'data': tensor([[1., 0.],\n",
      "        [1., 2.]])} {'label1': tensor([[2.],\n",
      "        [0.]]), 'label2': tensor([[1.],\n",
      "        [1.]])}\n",
      "data torch.Size([2, 2])\n",
      "label1 torch.Size([2, 1])\n",
      "label2 torch.Size([2, 1])\n",
      "{'data': tensor([[1., 2., 3., 0.],\n",
      "        [1., 2., 3., 4.]])} {'label1': tensor([[1.],\n",
      "        [1.]]), 'label2': tensor([[0.],\n",
      "        [0.]])}\n",
      "data torch.Size([2, 4])\n",
      "label1 torch.Size([2, 1])\n",
      "label2 torch.Size([2, 1])\n",
      "{'data': tensor([[1., 2., 3., 4., 5.]])} {'label1': tensor([[1.]]), 'label2': tensor([[0.]])}\n",
      "data torch.Size([1, 5])\n",
      "label1 torch.Size([1, 1])\n",
      "label2 torch.Size([1, 1])\n"
     ]
    }
   ],
   "source": [
    "for x_batch, y_batch in dataloader1:\n",
    "    print(x_batch, y_batch)\n",
    "    for key, value in x_batch.items():\n",
    "        print(key, value.size())\n",
    "    for key, value in y_batch.items():\n",
    "        print(key, value.size())"
   ]
  },
  {
   "cell_type": "code",
   "execution_count": 34,
   "metadata": {},
   "outputs": [
    {
     "name": "stdout",
     "output_type": "stream",
     "text": [
      "{'data': tensor([[1., 0., 0.],\n",
      "        [1., 2., 0.],\n",
      "        [1., 2., 3.]])} {'label1': tensor([[2.],\n",
      "        [0.],\n",
      "        [1.]]), 'label2': tensor([[1.],\n",
      "        [1.],\n",
      "        [0.]])}\n",
      "data torch.Size([3, 3])\n",
      "label1 torch.Size([3, 1])\n",
      "label2 torch.Size([3, 1])\n",
      "{'data': tensor([[1., 2., 3., 4., 0.],\n",
      "        [1., 2., 3., 4., 5.]])} {'label1': tensor([[1.],\n",
      "        [1.]]), 'label2': tensor([[0.],\n",
      "        [0.]])}\n",
      "data torch.Size([2, 5])\n",
      "label1 torch.Size([2, 1])\n",
      "label2 torch.Size([2, 1])\n"
     ]
    }
   ],
   "source": [
    "for x_batch, y_batch in dataloader2:\n",
    "    print(x_batch, y_batch)\n",
    "    for key, value in x_batch.items():\n",
    "        print(key, value.size())\n",
    "    for key, value in y_batch.items():\n",
    "        print(key, value.size())"
   ]
  },
  {
   "cell_type": "code",
   "execution_count": 35,
   "metadata": {},
   "outputs": [
    {
     "data": {
      "text/plain": [
       "({'data': tensor([1.])}, {'label1': tensor([2.]), 'label2': tensor([1.])})"
      ]
     },
     "execution_count": 35,
     "metadata": {},
     "output_type": "execute_result"
    }
   ],
   "source": [
    "dataset[0]"
   ]
  },
  {
   "cell_type": "code",
   "execution_count": null,
   "metadata": {},
   "outputs": [],
   "source": []
  }
 ],
 "metadata": {
  "kernelspec": {
   "display_name": "Python 3",
   "language": "python",
   "name": "python3"
  },
  "language_info": {
   "codemirror_mode": {
    "name": "ipython",
    "version": 3
   },
   "file_extension": ".py",
   "mimetype": "text/x-python",
   "name": "python",
   "nbconvert_exporter": "python",
   "pygments_lexer": "ipython3",
   "version": "3.6.5"
  }
 },
 "nbformat": 4,
 "nbformat_minor": 2
}
