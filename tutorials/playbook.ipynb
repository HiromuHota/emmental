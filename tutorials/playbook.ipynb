{
 "cells": [
  {
   "cell_type": "code",
   "execution_count": 1,
   "metadata": {},
   "outputs": [],
   "source": [
    "import emmental\n",
    "from emmental.modules.identity_module import IdentityModule\n",
    "from emmental.task import Task\n",
    "from emmental.emmental_model import EmmentalModel\n",
    "from torch import nn\n",
    "import torch"
   ]
  },
  {
   "cell_type": "code",
   "execution_count": 2,
   "metadata": {},
   "outputs": [],
   "source": [
    "def print_params(task):\n",
    "    for key in task.module_pool.keys():\n",
    "        print(key)\n",
    "        for param in task.module_pool[key].named_parameters():\n",
    "            print(param)"
   ]
  },
  {
   "cell_type": "code",
   "execution_count": 3,
   "metadata": {},
   "outputs": [],
   "source": [
    "def print_params_all(task):\n",
    "    for key in task.module_pool.keys():\n",
    "        print(key)\n",
    "        for param in task.module_pool[key].named_parameters():\n",
    "            print(param)"
   ]
  },
  {
   "cell_type": "code",
   "execution_count": 4,
   "metadata": {},
   "outputs": [],
   "source": [
    "task1 = Task(\n",
    "    name=\"linear1\",\n",
    "    module_pool=nn.ModuleDict(\n",
    "        {\n",
    "            \"im1\": IdentityModule(),\n",
    "            \"linear1\": nn.Linear(4, 2, bias=False),\n",
    "            \"linear2\": nn.Linear(2, 1, bias=False),\n",
    "        }\n",
    "    ),\n",
    "    task_flow=[\n",
    "        {\"module\": \"linear1\", \"inputs\": [(0, 0)]},\n",
    "        {\"module\": \"linear2\", \"inputs\": [(1, 0)]},\n",
    "    ],\n",
    "    loss_func=None,\n",
    "    output_func=None,\n",
    ")"
   ]
  },
  {
   "cell_type": "code",
   "execution_count": 5,
   "metadata": {},
   "outputs": [],
   "source": [
    "task2 = Task(\n",
    "    name=\"linear2\",\n",
    "    module_pool=nn.ModuleDict(\n",
    "        {\"im2\": IdentityModule(), \"linear1\": nn.Linear(4, 2, bias=False)}\n",
    "    ),\n",
    "    task_flow=None,\n",
    "    loss_func=None,\n",
    "    output_func=None,\n",
    ")"
   ]
  },
  {
   "cell_type": "code",
   "execution_count": 6,
   "metadata": {},
   "outputs": [
    {
     "name": "stdout",
     "output_type": "stream",
     "text": [
      "im1\n",
      "linear1\n",
      "('weight', Parameter containing:\n",
      "tensor([[-0.1828, -0.1443, -0.2745, -0.4306],\n",
      "        [ 0.4322, -0.0427,  0.1007,  0.4297]], requires_grad=True))\n",
      "linear2\n",
      "('weight', Parameter containing:\n",
      "tensor([[0.5048, 0.4704]], requires_grad=True))\n",
      "im2\n",
      "linear1\n",
      "('weight', Parameter containing:\n",
      "tensor([[ 0.3921, -0.0760, -0.1948, -0.3949],\n",
      "        [ 0.0197, -0.2435, -0.4469,  0.4664]], requires_grad=True))\n"
     ]
    }
   ],
   "source": [
    "print_params(task1)\n",
    "print_params(task2)"
   ]
  },
  {
   "cell_type": "code",
   "execution_count": 7,
   "metadata": {},
   "outputs": [
    {
     "name": "stdout",
     "output_type": "stream",
     "text": [
      "<class 'torch.nn.modules.container.ModuleDict'>\n",
      "ModuleDict()\n",
      "odict_keys([])\n"
     ]
    }
   ],
   "source": [
    "mtl_model = EmmentalModel(name = 'all', tasks=[task1, task2])"
   ]
  },
  {
   "cell_type": "code",
   "execution_count": 8,
   "metadata": {},
   "outputs": [
    {
     "data": {
      "text/plain": [
       "EmmentalModel(name=all)"
      ]
     },
     "execution_count": 8,
     "metadata": {},
     "output_type": "execute_result"
    }
   ],
   "source": [
    "mtl_model"
   ]
  },
  {
   "cell_type": "code",
   "execution_count": 9,
   "metadata": {},
   "outputs": [
    {
     "name": "stdout",
     "output_type": "stream",
     "text": [
      "im1\n",
      "linear1\n",
      "('weight', Parameter containing:\n",
      "tensor([[-0.1828, -0.1443, -0.2745, -0.4306],\n",
      "        [ 0.4322, -0.0427,  0.1007,  0.4297]], requires_grad=True))\n",
      "linear2\n",
      "('weight', Parameter containing:\n",
      "tensor([[0.5048, 0.4704]], requires_grad=True))\n",
      "====\n",
      "im2\n",
      "linear1\n",
      "('weight', Parameter containing:\n",
      "tensor([[-0.1828, -0.1443, -0.2745, -0.4306],\n",
      "        [ 0.4322, -0.0427,  0.1007,  0.4297]], requires_grad=True))\n",
      "====\n",
      "im1\n",
      "linear1\n",
      "('weight', Parameter containing:\n",
      "tensor([[-0.1828, -0.1443, -0.2745, -0.4306],\n",
      "        [ 0.4322, -0.0427,  0.1007,  0.4297]], requires_grad=True))\n",
      "linear2\n",
      "('weight', Parameter containing:\n",
      "tensor([[0.5048, 0.4704]], requires_grad=True))\n",
      "im2\n"
     ]
    }
   ],
   "source": [
    "print_params(task1)\n",
    "print('====')\n",
    "print_params(task2)\n",
    "print('====')\n",
    "print_params_all(mtl_model)"
   ]
  },
  {
   "cell_type": "code",
   "execution_count": 10,
   "metadata": {},
   "outputs": [
    {
     "data": {
      "text/plain": [
       "torch.nn.modules.container.ModuleDict"
      ]
     },
     "execution_count": 10,
     "metadata": {},
     "output_type": "execute_result"
    }
   ],
   "source": [
    "type(task1.module_pool)"
   ]
  },
  {
   "cell_type": "code",
   "execution_count": 11,
   "metadata": {},
   "outputs": [
    {
     "data": {
      "text/plain": [
       "torch.nn.modules.container.ModuleDict"
      ]
     },
     "execution_count": 11,
     "metadata": {},
     "output_type": "execute_result"
    }
   ],
   "source": [
    "type(task2.module_pool)"
   ]
  },
  {
   "cell_type": "code",
   "execution_count": 12,
   "metadata": {},
   "outputs": [
    {
     "data": {
      "text/plain": [
       "torch.nn.modules.container.ModuleDict"
      ]
     },
     "execution_count": 12,
     "metadata": {},
     "output_type": "execute_result"
    }
   ],
   "source": [
    "type(mtl_model.module_pool)"
   ]
  },
  {
   "cell_type": "code",
   "execution_count": 13,
   "metadata": {},
   "outputs": [],
   "source": [
    "task_flow = [\n",
    "    {\"module\": \"linear1\", \"inputs\": [(0, 0)]},\n",
    "    {\"module\": \"linear2\", \"inputs\": [(1, 0)]},\n",
    "]"
   ]
  },
  {
   "cell_type": "code",
   "execution_count": 14,
   "metadata": {},
   "outputs": [],
   "source": [
    "var1 = torch.tensor([1.,2.,3.,4.])"
   ]
  },
  {
   "cell_type": "code",
   "execution_count": 15,
   "metadata": {},
   "outputs": [
    {
     "data": {
      "text/plain": [
       "tensor([-0.4093], grad_fn=<SqueezeBackward3>)"
      ]
     },
     "execution_count": 15,
     "metadata": {},
     "output_type": "execute_result"
    }
   ],
   "source": [
    "mtl_model.module_pool['linear2'].forward(mtl_model.module_pool['linear1'].forward(var1))"
   ]
  },
  {
   "cell_type": "code",
   "execution_count": 16,
   "metadata": {},
   "outputs": [],
   "source": [
    "import numpy as np"
   ]
  },
  {
   "cell_type": "code",
   "execution_count": 22,
   "metadata": {},
   "outputs": [
    {
     "data": {
      "text/plain": [
       "(2, 4)"
      ]
     },
     "execution_count": 22,
     "metadata": {},
     "output_type": "execute_result"
    }
   ],
   "source": [
    "m1 = np.array([[-0.1828, -0.1443, -0.2745, -0.4306], [0.4322, -0.0427, 0.1007, 0.4297]])\n",
    "m1.shape"
   ]
  },
  {
   "cell_type": "code",
   "execution_count": 23,
   "metadata": {},
   "outputs": [
    {
     "data": {
      "text/plain": [
       "(2,)"
      ]
     },
     "execution_count": 23,
     "metadata": {},
     "output_type": "execute_result"
    }
   ],
   "source": [
    "m2 = np.array([0.5048, 0.4704])\n",
    "m2.shape"
   ]
  },
  {
   "cell_type": "code",
   "execution_count": 24,
   "metadata": {},
   "outputs": [],
   "source": [
    "v1 = np.array([1.0, 2.0, 3.0, 4.0]).reshape((1,4))"
   ]
  },
  {
   "cell_type": "code",
   "execution_count": 25,
   "metadata": {},
   "outputs": [
    {
     "data": {
      "text/plain": [
       "array([-0.40936696])"
      ]
     },
     "execution_count": 25,
     "metadata": {},
     "output_type": "execute_result"
    }
   ],
   "source": [
    "v1 @ m1.transpose() @ m2.transpose()"
   ]
  },
  {
   "cell_type": "code",
   "execution_count": null,
   "metadata": {},
   "outputs": [],
   "source": []
  },
  {
   "cell_type": "code",
   "execution_count": 26,
   "metadata": {},
   "outputs": [
    {
     "data": {
      "text/plain": [
       "[[tensor([1., 2., 3., 4.])],\n",
       " [tensor([-3.0171,  2.3675], grad_fn=<SqueezeBackward3>)],\n",
       " [tensor([-0.4093], grad_fn=<SqueezeBackward3>)]]"
      ]
     },
     "execution_count": 26,
     "metadata": {},
     "output_type": "execute_result"
    }
   ],
   "source": [
    "mtl_model.forward(var1, task_name='linear1')"
   ]
  },
  {
   "cell_type": "code",
   "execution_count": 27,
   "metadata": {},
   "outputs": [
    {
     "name": "stdout",
     "output_type": "stream",
     "text": [
      "{'module': 'linear1', 'inputs': [(0, 0)]}\n",
      "=========\n",
      "input [tensor([1., 2., 3., 4.])]\n",
      "output tensor([-3.0171,  2.3675], grad_fn=<SqueezeBackward3>)\n",
      "[[tensor([1., 2., 3., 4.])], [tensor([-3.0171,  2.3675], grad_fn=<SqueezeBackward3>)]]\n",
      "{'module': 'linear2', 'inputs': [(1, 0)]}\n",
      "=========\n",
      "input [tensor([-3.0171,  2.3675], grad_fn=<SqueezeBackward3>)]\n",
      "output tensor([-0.4093], grad_fn=<SqueezeBackward3>)\n",
      "[[tensor([1., 2., 3., 4.])], [tensor([-3.0171,  2.3675], grad_fn=<SqueezeBackward3>)], [tensor([-0.4093], grad_fn=<SqueezeBackward3>)]]\n"
     ]
    },
    {
     "data": {
      "text/plain": [
       "[{'module': 'linear1', 'inputs': [(0, 0)]},\n",
       " {'module': 'linear2', 'inputs': [(1, 0)]}]"
      ]
     },
     "execution_count": 27,
     "metadata": {},
     "output_type": "execute_result"
    }
   ],
   "source": [
    "immediate_ouput = [[var1]]\n",
    "for action in task_flow:\n",
    "    print(action)\n",
    "    print('=========')\n",
    "    input = [immediate_ouput[action_index][output_index] for action_index, output_index in action['inputs']]\n",
    "    print('input', input)\n",
    "    output = mtl_model.module_pool[action['module']].forward(*input)\n",
    "    print('output', output)\n",
    "    if isinstance(output, tuple): output = list(output)\n",
    "    if not isinstance(output, list): output = [output]\n",
    "    immediate_ouput.append(output)\n",
    "    print(immediate_ouput)\n",
    "task_flow"
   ]
  },
  {
   "cell_type": "code",
   "execution_count": null,
   "metadata": {},
   "outputs": [],
   "source": []
  },
  {
   "cell_type": "code",
   "execution_count": null,
   "metadata": {},
   "outputs": [],
   "source": [
    "a = nn.ModuleDict({\"im2\": IdentityModule(), \"linear1\": nn.Linear(4, 2)})"
   ]
  },
  {
   "cell_type": "code",
   "execution_count": null,
   "metadata": {},
   "outputs": [],
   "source": [
    "a.keys()"
   ]
  },
  {
   "cell_type": "code",
   "execution_count": null,
   "metadata": {},
   "outputs": [],
   "source": [
    "a['im2']"
   ]
  },
  {
   "cell_type": "code",
   "execution_count": null,
   "metadata": {},
   "outputs": [],
   "source": [
    "a['linear1']"
   ]
  },
  {
   "cell_type": "code",
   "execution_count": null,
   "metadata": {},
   "outputs": [],
   "source": [
    "dir(a['linear1'].named_parameters())"
   ]
  },
  {
   "cell_type": "code",
   "execution_count": null,
   "metadata": {},
   "outputs": [],
   "source": [
    "for i in a['im2'].named_parameters():\n",
    "    print(i)"
   ]
  },
  {
   "cell_type": "code",
   "execution_count": null,
   "metadata": {},
   "outputs": [],
   "source": []
  }
 ],
 "metadata": {
  "kernelspec": {
   "display_name": "Python 3",
   "language": "python",
   "name": "python3"
  },
  "language_info": {
   "codemirror_mode": {
    "name": "ipython",
    "version": 3
   },
   "file_extension": ".py",
   "mimetype": "text/x-python",
   "name": "python",
   "nbconvert_exporter": "python",
   "pygments_lexer": "ipython3",
   "version": "3.6.5"
  }
 },
 "nbformat": 4,
 "nbformat_minor": 2
}
